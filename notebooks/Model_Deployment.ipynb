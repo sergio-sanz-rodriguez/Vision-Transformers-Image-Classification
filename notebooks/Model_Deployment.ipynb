{
 "cells": [
  {
   "cell_type": "markdown",
   "metadata": {},
   "source": [
    "# 1. Introduction"
   ]
  },
  {
   "cell_type": "markdown",
   "metadata": {},
   "source": [
    "In this notebook, we will create a proof-on-concept web application that shows the finally selected model in accion. The application will be created using the [Gradio](https://www.gradio.app/) framework and then deployed to HuggingFace to make it publicly available for all."
   ]
  },
  {
   "cell_type": "markdown",
   "metadata": {},
   "source": [
    "# 2. Importing Libraries"
   ]
  },
  {
   "cell_type": "code",
   "execution_count": 5,
   "metadata": {},
   "outputs": [],
   "source": [
    "import os\n",
    "import json\n",
    "from pathlib import Path\n",
    "from helper_functions import create_dataloaders, set_seeds"
   ]
  },
  {
   "cell_type": "markdown",
   "metadata": {},
   "source": [
    "# 3. Creating Directories and Files"
   ]
  },
  {
   "cell_type": "code",
   "execution_count": 2,
   "metadata": {},
   "outputs": [],
   "source": [
    "# Create FoodVision demo path\n",
    "food_vision_demo_path = Path(\"../demo\")  # Path joining with Path objects\n",
    "food_vision_demo_path.mkdir(parents=True, exist_ok=True)\n",
    "\n",
    "# Make examples directory\n",
    "food_vision_demo_examples_path = food_vision_demo_path / \"examples\"\n",
    "food_vision_demo_examples_path.mkdir(parents=True, exist_ok=True)"
   ]
  },
  {
   "cell_type": "code",
   "execution_count": null,
   "metadata": {},
   "outputs": [],
   "source": [
    "# Create a JSON file with the description of th 101 types of food\n",
    "food_descriptions = {\n",
    "    \"apple_pie\": \"A classic American dessert made with spiced apple filling encased in a flaky pastry crust, often served with ice cream.\",\n",
    "    \"baby_back_ribs\": \"Juicy, tender pork ribs, slow-cooked and coated with a flavorful barbecue sauce.\",\n",
    "    \"baklava\": \"A rich, sweet pastry layered with chopped nuts and honey or syrup, originating from the Middle East and Mediterranean regions.\",\n",
    "    \"beef_carpaccio\": \"Thinly sliced raw beef served with olive oil, lemon, capers, and Parmesan, often as a starter.\",\n",
    "    \"beef_tartare\": \"Finely chopped or ground raw beef mixed with seasonings like capers, onions, and egg yolk, served uncooked.\",\n",
    "    \"beet_salad\": \"A refreshing dish featuring cooked or raw beets paired with greens, goat cheese, nuts, and a tangy vinaigrette.\",\n",
    "    \"beignets\": \"Deep-fried dough pastries dusted with powdered sugar, popular in New Orleans as a sweet treat.\",\n",
    "    \"bibimbap\": \"A Korean mixed rice dish topped with vegetables, meat, an egg, and spicy gochujang sauce.\",\n",
    "    \"bread_pudding\": \"A comforting dessert made from bread soaked in a sweet custard mixture and baked until golden.\",\n",
    "    \"breakfast_burrito\": \"A hearty wrap filled with scrambled eggs, cheese, meats, and sometimes vegetables or beans.\",\n",
    "    \"bruschetta\": \"An Italian appetizer of toasted bread rubbed with garlic and topped with fresh tomatoes, olive oil, and basil.\",\n",
    "    \"caesar_salad\": \"A classic salad made with romaine lettuce, croutons, Parmesan cheese, and Caesar dressing.\",\n",
    "    \"cannoli\": \"An Italian dessert consisting of a crispy pastry shell filled with sweet ricotta cheese and sometimes chocolate chips.\",\n",
    "    \"caprese_salad\": \"A simple Italian salad of fresh mozzarella, tomatoes, and basil, drizzled with olive oil and balsamic vinegar.\",\n",
    "    \"carrot_cake\": \"A moist cake made with grated carrots and often topped with cream cheese frosting.\",\n",
    "    \"ceviche\": \"A seafood dish where fresh fish or shrimp is 'cooked' in citrus juice and mixed with onions, peppers, and cilantro.\",\n",
    "    \"cheese_plate\": \"An assortment of cheeses served with accompaniments like crackers, fruit, and nuts.\",\n",
    "    \"cheesecake\": \"A creamy dessert made with a mixture of cream cheese, sugar, and eggs on a graham cracker or pastry crust.\",\n",
    "    \"chicken_curry\": \"A flavorful dish of chicken cooked in a spicy, aromatic curry sauce, popular in South Asian cuisine.\",\n",
    "    \"chicken_quesadilla\": \"A Mexican dish of tortillas filled with cheese, chicken, and spices, grilled until crispy and melty.\",\n",
    "    \"chicken_wings\": \"Juicy chicken wings fried or baked and often coated with a tangy or spicy sauce.\",\n",
    "    \"chocolate_cake\": \"A rich, moist dessert made with layers of chocolate sponge and frosting.\",\n",
    "    \"chocolate_mousse\": \"A light and creamy dessert made with whipped cream and melted chocolate, often served chilled.\",\n",
    "    \"churros\": \"Fried dough pastry, often coated in sugar and cinnamon, typically served with chocolate dipping sauce.\",\n",
    "    \"clam_chowder\": \"A creamy soup made with clams, potatoes, and onions, often served in a bread bowl.\",\n",
    "    \"club_sandwich\": \"A layered sandwich filled with turkey, bacon, lettuce, tomato, and mayonnaise.\",\n",
    "    \"crab_cakes\": \"Pan-fried or baked patties made from lump crab meat and breadcrumbs, seasoned with spices.\",\n",
    "    \"creme_brulee\": \"A custard dessert with a caramelized sugar crust on top, served cold.\",\n",
    "    \"croque_madame\": \"A French grilled sandwich filled with ham and cheese, topped with a fried egg.\",\n",
    "    \"cup_cakes\": \"Small, individual-sized cakes often topped with frosting and decorations.\",\n",
    "    \"deviled_eggs\": \"Hard-boiled eggs halved and filled with a seasoned yolk mixture.\",\n",
    "    \"donuts\": \"Sweet, fried dough pastries, often glazed or topped with sprinkles.\",\n",
    "    \"dumplings\": \"Small dough parcels filled with meat or vegetables, steamed, boiled, or fried.\",\n",
    "    \"edamame\": \"Boiled or steamed young soybeans served in their pods, sprinkled with salt.\",\n",
    "    \"eggs_benedict\": \"A breakfast dish of poached eggs, English muffins, Canadian bacon, and hollandaise sauce.\",\n",
    "    \"escargots\": \"Cooked snails, often served with garlic butter in French cuisine.\",\n",
    "    \"falafel\": \"Deep-fried balls or patties made from ground chickpeas or fava beans, often served in pita bread.\",\n",
    "    \"filet_mignon\": \"A tender and juicy cut of beef steak, often served as a fine dining dish.\",\n",
    "    \"fish_and_chips\": \"A classic British dish of battered and fried fish served with crispy fries.\",\n",
    "    \"foie_gras\": \"A French delicacy made from the liver of a fattened duck or goose, often served as a pâté.\",\n",
    "    \"french_fries\": \"Thinly sliced potatoes deep-fried until crispy, often served as a side dish.\",\n",
    "    \"french_onion_soup\": \"A hearty soup made with caramelized onions and beef broth, topped with bread and melted cheese.\",\n",
    "    \"french_toast\": \"Bread slices soaked in a milk and egg mixture, fried until golden, and served with syrup.\",\n",
    "    \"fried_calamari\": \"Lightly battered and fried squid rings, often served with marinara or aioli sauce.\",\n",
    "    \"fried_rice\": \"A stir-fried rice dish mixed with vegetables, eggs, and meat or seafood.\",\n",
    "    \"frozen_yogurt\": \"A creamy, tangy dessert similar to ice cream but made with yogurt.\",\n",
    "    \"garlic_bread\": \"Toasted bread slices flavored with garlic butter, often served as a side dish.\",\n",
    "    \"gnocchi\": \"Soft Italian dumplings made from potato, flour, and sometimes cheese, served with sauce.\",\n",
    "    \"greek_salad\": \"A fresh salad made with cucumbers, tomatoes, olives, feta cheese, and olive oil.\",\n",
    "    \"grilled_cheese_sandwich\": \"A hot sandwich filled with melted cheese, grilled until crispy.\",\n",
    "    \"grilled_salmon\": \"Salmon fillets cooked on a grill, often seasoned with herbs and spices.\",\n",
    "    \"guacamole\": \"A creamy dip made from mashed avocados, lime juice, onions, and cilantro.\",\n",
    "    \"gyoza\": \"Japanese dumplings filled with minced meat and vegetables, pan-fried and steamed.\",\n",
    "    \"hamburger\": \"A ground beef patty served in a bun with toppings like lettuce, tomato, and cheese.\",\n",
    "    \"hot_and_sour_soup\": \"A Chinese soup with a tangy and spicy flavor, filled with tofu, mushrooms, and vegetables.\",\n",
    "    \"hot_dog\": \"A grilled or boiled sausage served in a bun with condiments like ketchup and mustard.\",\n",
    "    \"huevos_rancheros\": \"A Mexican breakfast dish with fried eggs, tortillas, and salsa.\",\n",
    "    \"hummus\": \"A creamy dip made from blended chickpeas, tahini, lemon juice, and garlic.\",\n",
    "    \"ice_cream\": \"A frozen dessert made from sweetened cream, often flavored and served in scoops.\",\n",
    "    \"lasagna\": \"An Italian pasta dish layered with meat, cheese, and tomato sauce, baked until bubbly.\",\n",
    "    \"lobster_bisque\": \"A creamy soup made from lobster stock, often served as a gourmet dish.\",\n",
    "    \"lobster_roll_sandwich\": \"A sandwich filled with chunks of lobster meat, dressed in butter or mayo.\",\n",
    "    \"macaroni_and_cheese\": \"A comfort food dish of macaroni pasta mixed with a creamy cheese sauce.\",\n",
    "    \"macarons\": \"Delicate French almond cookies filled with flavored buttercream or ganache.\",\n",
    "    \"miso_soup\": \"A Japanese soup made with fermented soybean paste, tofu, and seaweed.\",\n",
    "    \"mussels\": \"Shellfish steamed and served in a flavorful broth, often with bread.\",\n",
    "    \"nachos\": \"Tortilla chips topped with melted cheese and various toppings like jalapeños and sour cream.\",\n",
    "    \"omelette\": \"Beaten eggs cooked in a frying pan, often filled with cheese, meats, or vegetables.\",\n",
    "    \"onion_rings\": \"Crispy, deep-fried onion slices, often served as a side dish or snack.\",\n",
    "    \"oysters\": \"Shellfish often served raw on the half shell with lemon or hot sauce.\",\n",
    "    \"pad_thai\": \"Stir-fried rice noodles with eggs, tofu or shrimp, peanuts, and a tamarind-based sauce.\",\n",
    "    \"paella\": \"Spanish rice dish with seafood, meats, and saffron, traditionally cooked in a single pan.\",\n",
    "    \"pancakes\": \"Fluffy round cakes made from flour, eggs, and milk, served with syrup and butter.\",\n",
    "    \"panna_cotta\": \"Italian dessert of sweetened cream thickened with gelatin, often topped with berries or caramel.\",\n",
    "    \"peking_duck\": \"Crispy duck served with pancakes, hoisin sauce, and sliced scallions.\",\n",
    "    \"pho\": \"Vietnamese noodle soup with broth, rice noodles, herbs, and beef or chicken.\",\n",
    "    \"pizza\": \"Flat dough topped with tomato sauce, cheese, and various toppings, baked until crispy.\",\n",
    "    \"pork_chop\": \"Grilled or roasted cut of pork, often served with vegetables or a flavorful sauce.\",\n",
    "    \"poutine\": \"Canadian dish with French fries, cheese curds, and gravy.\",\n",
    "    \"prime_rib\": \"Tender beef rib roast, often seasoned and slow-cooked, served for special occasions.\",\n",
    "    \"pulled_pork_sandwich\": \"Slow-cooked shredded pork with barbecue sauce, served on a bun.\",\n",
    "    \"ramen\": \"Japanese noodle soup with broth, wheat noodles, and toppings like eggs and pork.\",\n",
    "    \"ravioli\": \"Italian dumplings filled with cheese, meat, or vegetables, served with sauce.\",\n",
    "    \"red_velvet_cake\": \"Rich cake with a hint of cocoa and red coloring, layered with cream cheese frosting.\",\n",
    "    \"risotto\": \"Italian creamy rice dish cooked with broth and flavored with vegetables or meat.\",\n",
    "    \"samosa\": \"Deep-fried pastry filled with spiced potatoes, peas, and sometimes meat.\",\n",
    "    \"sashimi\": \"Thinly sliced raw fish or seafood, often served with soy sauce and wasabi.\",\n",
    "    \"scallops\": \"Delicate shellfish, often seared and served as a seafood entrée.\",\n",
    "    \"seaweed_salad\": \"Salad made from seasoned edible seaweed, typically with sesame oil and soy sauce.\",\n",
    "    \"shrimp_and_grits\": \"Southern dish of shrimp cooked in a savory sauce, served with creamy grits.\",\n",
    "    \"spaghetti_bolognese\": \"Italian pasta with a rich meat sauce made from ground beef, tomatoes, and herbs.\",\n",
    "    \"spaghetti_carbonara\": \"Pasta with a creamy sauce made from eggs, cheese, pancetta, and black pepper.\",\n",
    "    \"spring_rolls\": \"Rice paper rolls filled with vegetables, meat, or seafood, served with dipping sauce.\",\n",
    "    \"steak\": \"Grilled or pan-seared beef cut, often served with vegetables or potatoes.\",\n",
    "    \"strawberry_shortcake\": \"Dessert with layers of cake, fresh strawberries, and whipped cream.\",\n",
    "    \"sushi\": \"Japanese dish with vinegared rice, raw or cooked seafood, and sometimes vegetables.\",\n",
    "    \"tacos\": \"Mexican dish with a tortilla filled with meat, vegetables, cheese, and salsa.\",\n",
    "    \"takoyaki\": \"Japanese snack made from batter, octopus, and tempura bits, served with takoyaki sauce.\",\n",
    "    \"tiramisu\": \"Italian dessert with coffee-soaked ladyfingers, mascarpone cheese, and cocoa powder.\",\n",
    "    \"tuna_tartare\": \"Finely diced raw tuna, often mixed with soy sauce and served as an appetizer.\",\n",
    "    \"waffles\": \"Batter-based dish cooked in a grid pattern, served with syrup, fruit, or whipped cream.\"\n",
    "}\n",
    "\n",
    "# Save to JSON file\n",
    "food_descriptions_json = os.path.join(food_vision_demo_path, 'food_descriptions.json')\n",
    "with open(food_descriptions_json, 'w') as f:\n",
    "    json.dump(food_descriptions, f, indent=4)\n",
    "\n",
    "# Open JSON file\n",
    "# Load the food descriptions from the JSON file\n",
    "with open(food_descriptions_json, 'r') as f:\n",
    "    food_descriptions = json.load(f)\n"
   ]
  },
  {
   "cell_type": "code",
   "execution_count": 6,
   "metadata": {},
   "outputs": [
    {
     "data": {
      "text/plain": [
       "['apple_pie',\n",
       " 'baby_back_ribs',\n",
       " 'baklava',\n",
       " 'beef_carpaccio',\n",
       " 'beef_tartare',\n",
       " 'beet_salad',\n",
       " 'beignets',\n",
       " 'bibimbap',\n",
       " 'bread_pudding',\n",
       " 'breakfast_burrito',\n",
       " 'bruschetta',\n",
       " 'caesar_salad',\n",
       " 'cannoli',\n",
       " 'caprese_salad',\n",
       " 'carrot_cake',\n",
       " 'ceviche',\n",
       " 'cheese_plate',\n",
       " 'cheesecake',\n",
       " 'chicken_curry',\n",
       " 'chicken_quesadilla',\n",
       " 'chicken_wings',\n",
       " 'chocolate_cake',\n",
       " 'chocolate_mousse',\n",
       " 'churros',\n",
       " 'clam_chowder',\n",
       " 'club_sandwich',\n",
       " 'crab_cakes',\n",
       " 'creme_brulee',\n",
       " 'croque_madame',\n",
       " 'cup_cakes',\n",
       " 'deviled_eggs',\n",
       " 'donuts',\n",
       " 'dumplings',\n",
       " 'edamame',\n",
       " 'eggs_benedict',\n",
       " 'escargots',\n",
       " 'falafel',\n",
       " 'filet_mignon',\n",
       " 'fish_and_chips',\n",
       " 'foie_gras',\n",
       " 'french_fries',\n",
       " 'french_onion_soup',\n",
       " 'french_toast',\n",
       " 'fried_calamari',\n",
       " 'fried_rice',\n",
       " 'frozen_yogurt',\n",
       " 'garlic_bread',\n",
       " 'gnocchi',\n",
       " 'greek_salad',\n",
       " 'grilled_cheese_sandwich',\n",
       " 'grilled_salmon',\n",
       " 'guacamole',\n",
       " 'gyoza',\n",
       " 'hamburger',\n",
       " 'hot_and_sour_soup',\n",
       " 'hot_dog',\n",
       " 'huevos_rancheros',\n",
       " 'hummus',\n",
       " 'ice_cream',\n",
       " 'lasagna',\n",
       " 'lobster_bisque',\n",
       " 'lobster_roll_sandwich',\n",
       " 'macaroni_and_cheese',\n",
       " 'macarons',\n",
       " 'miso_soup',\n",
       " 'mussels',\n",
       " 'nachos',\n",
       " 'omelette',\n",
       " 'onion_rings',\n",
       " 'oysters',\n",
       " 'pad_thai',\n",
       " 'paella',\n",
       " 'pancakes',\n",
       " 'panna_cotta',\n",
       " 'peking_duck',\n",
       " 'pho',\n",
       " 'pizza',\n",
       " 'pork_chop',\n",
       " 'poutine',\n",
       " 'prime_rib',\n",
       " 'pulled_pork_sandwich',\n",
       " 'ramen',\n",
       " 'ravioli',\n",
       " 'red_velvet_cake',\n",
       " 'risotto',\n",
       " 'samosa',\n",
       " 'sashimi',\n",
       " 'scallops',\n",
       " 'seaweed_salad',\n",
       " 'shrimp_and_grits',\n",
       " 'spaghetti_bolognese',\n",
       " 'spaghetti_carbonara',\n",
       " 'spring_rolls',\n",
       " 'steak',\n",
       " 'strawberry_shortcake',\n",
       " 'sushi',\n",
       " 'tacos',\n",
       " 'takoyaki',\n",
       " 'tiramisu',\n",
       " 'tuna_tartare',\n",
       " 'waffles']"
      ]
     },
     "execution_count": 6,
     "metadata": {},
     "output_type": "execute_result"
    }
   ],
   "source": [
    "class_names = list(food_descriptions.keys())\n",
    "class_names"
   ]
  },
  {
   "cell_type": "code",
   "execution_count": null,
   "metadata": {},
   "outputs": [],
   "source": [
    "%%writefile ../demo/model.py\n",
    "import torch\n",
    "import torchvision"
   ]
  },
  {
   "cell_type": "markdown",
   "metadata": {},
   "source": [
    "range(50)"
   ]
  },
  {
   "cell_type": "code",
   "execution_count": null,
   "metadata": {},
   "outputs": [],
   "source": [
    "# Define dataset directory\n",
    "target_dir_name = f\"../data/food-101_100_percent\"\n",
    "\n",
    "# Setup training and test directories\n",
    "target_dir = Path(target_dir_name)\n",
    "test_dir = target_dir / \"test\"\n",
    "target_dir.mkdir(parents=True, exist_ok=True)\n"
   ]
  },
  {
   "cell_type": "code",
   "execution_count": 7,
   "metadata": {},
   "outputs": [
    {
     "data": {
      "text/plain": [
       "range(0, 50)"
      ]
     },
     "execution_count": 7,
     "metadata": {},
     "output_type": "execute_result"
    }
   ],
   "source": [
    "range(50)"
   ]
  },
  {
   "cell_type": "code",
   "execution_count": 16,
   "metadata": {},
   "outputs": [
    {
     "data": {
      "text/plain": [
       "(1, 50)"
      ]
     },
     "execution_count": 16,
     "metadata": {},
     "output_type": "execute_result"
    }
   ],
   "source": [
    "p=range(1, 51)\n",
    "p[0], p[-1]"
   ]
  },
  {
   "cell_type": "code",
   "execution_count": 10,
   "metadata": {},
   "outputs": [
    {
     "data": {
      "text/plain": [
       "49"
      ]
     },
     "execution_count": 10,
     "metadata": {},
     "output_type": "execute_result"
    }
   ],
   "source": [
    "p[-1]"
   ]
  },
  {
   "cell_type": "code",
   "execution_count": null,
   "metadata": {},
   "outputs": [],
   "source": []
  }
 ],
 "metadata": {
  "kernelspec": {
   "display_name": ".venv_pytorch_gpu",
   "language": "python",
   "name": "python3"
  },
  "language_info": {
   "codemirror_mode": {
    "name": "ipython",
    "version": 3
   },
   "file_extension": ".py",
   "mimetype": "text/x-python",
   "name": "python",
   "nbconvert_exporter": "python",
   "pygments_lexer": "ipython3",
   "version": "3.11.10"
  }
 },
 "nbformat": 4,
 "nbformat_minor": 2
}
