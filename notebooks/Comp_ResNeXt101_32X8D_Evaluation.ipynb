{
 "cells": [
  {
   "cell_type": "markdown",
   "id": "371977ad",
   "metadata": {
    "papermill": {
     "duration": 0.005916,
     "end_time": "2025-01-21T05:15:26.444531",
     "exception": false,
     "start_time": "2025-01-21T05:15:26.438615",
     "status": "completed"
    },
    "tags": []
   },
   "source": [
    "# 1. Introduction\n",
    "\n",
    "This notebook focuses on evaluating the DeiT model derived from Comp_ResNetXt101_32X8K_Modeling notebook."
   ]
  },
  {
   "cell_type": "markdown",
   "id": "d6555499",
   "metadata": {
    "papermill": {
     "duration": 0.005001,
     "end_time": "2025-01-21T05:15:26.455501",
     "exception": false,
     "start_time": "2025-01-21T05:15:26.450500",
     "status": "completed"
    },
    "tags": []
   },
   "source": [
    "# 2. Importing Libraries"
   ]
  },
  {
   "cell_type": "code",
   "execution_count": 1,
   "id": "4ea443bb-470a-47e5-8f4d-341abf4e4d6f",
   "metadata": {
    "execution": {
     "iopub.execute_input": "2025-01-21T05:15:26.468501Z",
     "iopub.status.busy": "2025-01-21T05:15:26.467500Z",
     "iopub.status.idle": "2025-01-21T05:15:33.010828Z",
     "shell.execute_reply": "2025-01-21T05:15:33.010828Z"
    },
    "papermill": {
     "duration": 6.55135,
     "end_time": "2025-01-21T05:15:33.012878",
     "exception": false,
     "start_time": "2025-01-21T05:15:26.461528",
     "status": "completed"
    },
    "tags": []
   },
   "outputs": [],
   "source": [
    "import os\n",
    "import matplotlib.pyplot as plt\n",
    "import pandas as pd\n",
    "import numpy as np\n",
    "import torch\n",
    "import seaborn as sns\n",
    "import torchvision\n",
    "\n",
    "from torch import nn\n",
    "from torchvision.transforms import v2\n",
    "from pathlib import Path\n",
    "\n",
    "from modules.helper_functions import set_seeds, get_most_wrong_examples, load_model\n",
    "from modules.dataloaders import create_dataloaders\n",
    "from modules.engine import predict_and_store, Trainer, sec_to_min_sec\n",
    "from modules.vision_transformer import ViT\n",
    "\n",
    "# Define some constants\n",
    "NUM_WORKERS = os.cpu_count()\n",
    "BATCH_SIZE = 64\n",
    "AMOUNT_TO_GET = 1.0\n",
    "SEED = 42\n",
    "\n",
    "# Define target data directory\n",
    "target_dir_name = f\"../data/food-101_{str(int(AMOUNT_TO_GET*100))}_percent\"\n",
    "\n",
    "# Setup training and test directories\n",
    "target_dir = Path(target_dir_name)\n",
    "train_dir = target_dir / \"train\"\n",
    "test_dir = target_dir / \"test\"\n",
    "target_dir.mkdir(parents=True, exist_ok=True)\n",
    "\n",
    "# Create target model directory\n",
    "model_dir = Path(\"../models\")\n",
    "\n",
    "# Set seeds\n",
    "set_seeds(SEED)"
   ]
  },
  {
   "cell_type": "code",
   "execution_count": 2,
   "id": "cb3007a5",
   "metadata": {
    "execution": {
     "iopub.execute_input": "2025-01-21T05:15:33.025838Z",
     "iopub.status.busy": "2025-01-21T05:15:33.025838Z",
     "iopub.status.idle": "2025-01-21T05:15:33.031832Z",
     "shell.execute_reply": "2025-01-21T05:15:33.031832Z"
    },
    "papermill": {
     "duration": 0.015091,
     "end_time": "2025-01-21T05:15:33.033925",
     "exception": false,
     "start_time": "2025-01-21T05:15:33.018834",
     "status": "completed"
    },
    "tags": []
   },
   "outputs": [
    {
     "data": {
      "text/plain": [
       "'cuda'"
      ]
     },
     "execution_count": 2,
     "metadata": {},
     "output_type": "execute_result"
    }
   ],
   "source": [
    "# Set device\n",
    "device = \"cuda\" if torch.cuda.is_available() else \"cpu\"\n",
    "device"
   ]
  },
  {
   "cell_type": "markdown",
   "id": "350701ec-c5f9-4809-884c-69a5dcf97ceb",
   "metadata": {
    "papermill": {
     "duration": 0.005981,
     "end_time": "2025-01-21T05:15:33.044905",
     "exception": false,
     "start_time": "2025-01-21T05:15:33.038924",
     "status": "completed"
    },
    "tags": []
   },
   "source": [
    "# 2. Creating Dataloaders"
   ]
  },
  {
   "cell_type": "code",
   "execution_count": 3,
   "id": "d3d7dc2d",
   "metadata": {
    "execution": {
     "iopub.execute_input": "2025-01-21T05:15:33.055905Z",
     "iopub.status.busy": "2025-01-21T05:15:33.055905Z",
     "iopub.status.idle": "2025-01-21T05:15:33.061016Z",
     "shell.execute_reply": "2025-01-21T05:15:33.061016Z"
    },
    "papermill": {
     "duration": 0.012147,
     "end_time": "2025-01-21T05:15:33.062052",
     "exception": false,
     "start_time": "2025-01-21T05:15:33.049905",
     "status": "completed"
    },
    "tags": []
   },
   "outputs": [],
   "source": [
    "# Create transforms\n",
    "IMG_SIZE_1 = 232\n",
    "IMG_SIZE_2 = 224\n",
    "manual_transforms_train = v2.Compose([    \n",
    "    v2.TrivialAugmentWide(),\n",
    "    v2.Resize((IMG_SIZE_1, IMG_SIZE_1)),\n",
    "    v2.RandomCrop((IMG_SIZE_2, IMG_SIZE_2)),    \n",
    "    v2.ToImage(),\n",
    "    v2.ToDtype(torch.float32, scale=True),\n",
    "    v2.Normalize(mean=[0.485, 0.456, 0.406],\n",
    "                std=[0.229, 0.224, 0.225]) \n",
    "    ])\n",
    "\n",
    "manual_transforms_test = v2.Compose([    \n",
    "    v2.Resize((IMG_SIZE_1, IMG_SIZE_1)),\n",
    "    v2.CenterCrop((IMG_SIZE_2, IMG_SIZE_2)),    \n",
    "    v2.ToImage(),\n",
    "    v2.ToDtype(torch.float32, scale=True),\n",
    "    v2.Normalize(mean=[0.485, 0.456, 0.406],\n",
    "                std=[0.229, 0.224, 0.225]) \n",
    "    ])"
   ]
  },
  {
   "cell_type": "code",
   "execution_count": 4,
   "id": "2d6ef570",
   "metadata": {
    "execution": {
     "iopub.execute_input": "2025-01-21T05:15:33.075051Z",
     "iopub.status.busy": "2025-01-21T05:15:33.074057Z",
     "iopub.status.idle": "2025-01-21T05:15:33.998524Z",
     "shell.execute_reply": "2025-01-21T05:15:33.998524Z"
    },
    "papermill": {
     "duration": 0.932471,
     "end_time": "2025-01-21T05:15:34.000531",
     "exception": false,
     "start_time": "2025-01-21T05:15:33.068060",
     "status": "completed"
    },
    "tags": []
   },
   "outputs": [],
   "source": [
    "# Create dataloaders\n",
    "train_dataloader, test_dataloader, class_names = create_dataloaders(    \n",
    "    train_dir=train_dir,\n",
    "    test_dir=test_dir,\n",
    "    train_transform=manual_transforms_train,\n",
    "    test_transform=manual_transforms_test,\n",
    "    batch_size=BATCH_SIZE,\n",
    "    num_workers=NUM_WORKERS\n",
    ")"
   ]
  },
  {
   "cell_type": "markdown",
   "id": "bdf31b74",
   "metadata": {
    "papermill": {
     "duration": 0.005002,
     "end_time": "2025-01-21T05:15:34.011530",
     "exception": false,
     "start_time": "2025-01-21T05:15:34.006528",
     "status": "completed"
    },
    "tags": []
   },
   "source": [
    "# 3. Evaluating ViT-Base/16-384 with 102 Classes\n",
    "\n",
    "The model will be evaluated using the test dataset with the following metrics: accuracy, loss, model size (MB), average prediction time per image (sec), and average predited images per second (frames/sec)"
   ]
  },
  {
   "cell_type": "code",
   "execution_count": 5,
   "id": "6c9eb6c1",
   "metadata": {
    "execution": {
     "iopub.execute_input": "2025-01-21T05:15:34.024529Z",
     "iopub.status.busy": "2025-01-21T05:15:34.024529Z",
     "iopub.status.idle": "2025-01-21T05:15:38.393898Z",
     "shell.execute_reply": "2025-01-21T05:15:38.393898Z"
    },
    "papermill": {
     "duration": 4.378414,
     "end_time": "2025-01-21T05:15:38.395941",
     "exception": false,
     "start_time": "2025-01-21T05:15:34.017527",
     "status": "completed"
    },
    "tags": []
   },
   "outputs": [
    {
     "name": "stderr",
     "output_type": "stream",
     "text": [
      "c:\\Users\\ssre_\\.conda\\envs\\.venv_pytorch_gpu\\Lib\\site-packages\\onnxscript\\converter.py:820: FutureWarning: 'onnxscript.values.Op.param_schemas' is deprecated in version 0.1 and will be removed in the future. Please use '.op_signature' instead.\n",
      "  param_schemas = callee.param_schemas()\n",
      "c:\\Users\\ssre_\\.conda\\envs\\.venv_pytorch_gpu\\Lib\\site-packages\\onnxscript\\converter.py:820: FutureWarning: 'onnxscript.values.OnnxFunction.param_schemas' is deprecated in version 0.1 and will be removed in the future. Please use '.op_signature' instead.\n",
      "  param_schemas = callee.param_schemas()\n"
     ]
    },
    {
     "name": "stdout",
     "output_type": "stream",
     "text": [
      "[INFO] Loading model from: ..\\models\\resnext_101_2025-01-19.pth\n"
     ]
    }
   ],
   "source": [
    "# Train the model\n",
    "model_type=\"resnext_101_2025-01-19\"\n",
    "model_name = model_type + \".pth\"\n",
    "results_df = model_type + \".csv\"\n",
    "\n",
    "# Copy weights from torchvision.models\n",
    "set_seeds(SEED)\n",
    "\n",
    "# Instantiate the model\n",
    "model = torchvision.models.resnext101_32x8d(weights=torchvision.models.ResNeXt101_32X8D_Weights.IMAGENET1K_V2)\n",
    "model.fc = torch.nn.Linear(in_features=2048, out_features=len(class_names)).to(device)\n",
    "\n",
    "# Compile model\n",
    "model = torch.compile(model, backend=\"aot_eager\")\n",
    "\n",
    "# Load the trained weights\n",
    "model = load_model(model=model,\n",
    "                   model_weights_dir=model_dir,\n",
    "                   model_weights_name=model_name)\n",
    "\n",
    "# Load the training results\n",
    "results = pd.read_csv(os.path.join(model_dir, results_df))"
   ]
  },
  {
   "cell_type": "markdown",
   "id": "ce7e6942",
   "metadata": {
    "papermill": {
     "duration": 0.005989,
     "end_time": "2025-01-21T05:15:38.407907",
     "exception": false,
     "start_time": "2025-01-21T05:15:38.401918",
     "status": "completed"
    },
    "tags": []
   },
   "source": [
    "## 3.1 Making Predictions on the CPU: Intel Core i9-9900K@3.60GHz"
   ]
  },
  {
   "cell_type": "code",
   "execution_count": 6,
   "id": "2fed6aa6",
   "metadata": {
    "execution": {
     "iopub.execute_input": "2025-01-21T05:15:38.420904Z",
     "iopub.status.busy": "2025-01-21T05:15:38.420904Z",
     "iopub.status.idle": "2025-01-21T06:20:04.115493Z",
     "shell.execute_reply": "2025-01-21T06:20:04.115493Z"
    },
    "papermill": {
     "duration": 3865.703563,
     "end_time": "2025-01-21T06:20:04.117497",
     "exception": false,
     "start_time": "2025-01-21T05:15:38.413934",
     "status": "completed"
    },
    "tags": []
   },
   "outputs": [
    {
     "name": "stdout",
     "output_type": "stream",
     "text": [
      "[INFO] Finding all filepaths ending with '.jpg' in directory: ..\\data\\food-101_100_percent\\test\n"
     ]
    },
    {
     "data": {
      "application/vnd.jupyter.widget-view+json": {
       "model_id": "bffd78d3b72d44b885d05fabd06f4d20",
       "version_major": 2,
       "version_minor": 0
      },
      "text/plain": [
       "  0%|          | 0/25250 [00:00<?, ?it/s]"
      ]
     },
     "metadata": {},
     "output_type": "display_data"
    }
   ],
   "source": [
    "# Make predictions on the CPU to compute the average prediction time per image\n",
    "pred_list_cpu, classif_report_cpu = Trainer(\n",
    "    model=model,\n",
    "    device=\"cpu\"\n",
    "    ).predict_and_store(\n",
    "        test_dir=test_dir,\n",
    "        transform=manual_transforms_test,\n",
    "        class_names=class_names,\n",
    "        )"
   ]
  },
  {
   "cell_type": "markdown",
   "id": "12aae589",
   "metadata": {
    "papermill": {
     "duration": 0.007002,
     "end_time": "2025-01-21T06:20:04.137499",
     "exception": false,
     "start_time": "2025-01-21T06:20:04.130497",
     "status": "completed"
    },
    "tags": []
   },
   "source": [
    "## 3.2 Making Predictions on the GPU: NVIDIA GeForce RTX 4070"
   ]
  },
  {
   "cell_type": "code",
   "execution_count": 7,
   "id": "23d4abe0",
   "metadata": {
    "execution": {
     "iopub.execute_input": "2025-01-21T06:20:04.151500Z",
     "iopub.status.busy": "2025-01-21T06:20:04.151500Z",
     "iopub.status.idle": "2025-01-21T06:39:31.318051Z",
     "shell.execute_reply": "2025-01-21T06:39:31.318051Z"
    },
    "papermill": {
     "duration": 1167.176526,
     "end_time": "2025-01-21T06:39:31.320056",
     "exception": false,
     "start_time": "2025-01-21T06:20:04.143530",
     "status": "completed"
    },
    "tags": []
   },
   "outputs": [
    {
     "name": "stdout",
     "output_type": "stream",
     "text": [
      "[INFO] Finding all filepaths ending with '.jpg' in directory: ..\\data\\food-101_100_percent\\test\n"
     ]
    },
    {
     "data": {
      "application/vnd.jupyter.widget-view+json": {
       "model_id": "d1f7d938ca054950af7eac4fecb39574",
       "version_major": 2,
       "version_minor": 0
      },
      "text/plain": [
       "  0%|          | 0/25250 [00:00<?, ?it/s]"
      ]
     },
     "metadata": {},
     "output_type": "display_data"
    }
   ],
   "source": [
    "# Make predictions on the GPU to compute the average prediction time per image\n",
    "from modules.engine import Trainer\n",
    "pred_list_gpu, classif_report_gpu = Trainer(\n",
    "    model=model,\n",
    "    device=device\n",
    "    ).predict_and_store(\n",
    "        test_dir=test_dir,\n",
    "        transform=manual_transforms_test,\n",
    "        class_names=class_names,\n",
    "    )"
   ]
  },
  {
   "cell_type": "markdown",
   "id": "388f4d3e",
   "metadata": {
    "papermill": {
     "duration": 0.006001,
     "end_time": "2025-01-21T06:39:31.333055",
     "exception": false,
     "start_time": "2025-01-21T06:39:31.327054",
     "status": "completed"
    },
    "tags": []
   },
   "source": [
    "## 3.3. Collecting Data"
   ]
  },
  {
   "cell_type": "code",
   "execution_count": 8,
   "id": "897486c8",
   "metadata": {
    "execution": {
     "iopub.execute_input": "2025-01-21T06:39:31.348057Z",
     "iopub.status.busy": "2025-01-21T06:39:31.348057Z",
     "iopub.status.idle": "2025-01-21T06:39:31.416029Z",
     "shell.execute_reply": "2025-01-21T06:39:31.416029Z"
    },
    "papermill": {
     "duration": 0.076975,
     "end_time": "2025-01-21T06:39:31.418034",
     "exception": false,
     "start_time": "2025-01-21T06:39:31.341059",
     "status": "completed"
    },
    "tags": []
   },
   "outputs": [
    {
     "data": {
      "text/html": [
       "<div>\n",
       "<style scoped>\n",
       "    .dataframe tbody tr th:only-of-type {\n",
       "        vertical-align: middle;\n",
       "    }\n",
       "\n",
       "    .dataframe tbody tr th {\n",
       "        vertical-align: top;\n",
       "    }\n",
       "\n",
       "    .dataframe thead th {\n",
       "        text-align: right;\n",
       "    }\n",
       "</style>\n",
       "<table border=\"1\" class=\"dataframe\">\n",
       "  <thead>\n",
       "    <tr style=\"text-align: right;\">\n",
       "      <th></th>\n",
       "      <th>Metric</th>\n",
       "      <th>Value</th>\n",
       "    </tr>\n",
       "  </thead>\n",
       "  <tbody>\n",
       "    <tr>\n",
       "      <th>0</th>\n",
       "      <td>Model Name</td>\n",
       "      <td>resnext_101_2025-01-19.pth</td>\n",
       "    </tr>\n",
       "    <tr>\n",
       "      <th>1</th>\n",
       "      <td>Test Acc</td>\n",
       "      <td>0.8999</td>\n",
       "    </tr>\n",
       "    <tr>\n",
       "      <th>2</th>\n",
       "      <td>Test los</td>\n",
       "      <td>1.1229</td>\n",
       "    </tr>\n",
       "    <tr>\n",
       "      <th>3</th>\n",
       "      <td>Model Size [MB]</td>\n",
       "      <td>332</td>\n",
       "    </tr>\n",
       "    <tr>\n",
       "      <th>4</th>\n",
       "      <td>No Params [Million]</td>\n",
       "      <td>86.95</td>\n",
       "    </tr>\n",
       "    <tr>\n",
       "      <th>5</th>\n",
       "      <td>CPU: Prediction Time - Mean [s]</td>\n",
       "      <td>0.1526</td>\n",
       "    </tr>\n",
       "    <tr>\n",
       "      <th>6</th>\n",
       "      <td>CPU: Predicted Images per Sec [fps]</td>\n",
       "      <td>6.5531</td>\n",
       "    </tr>\n",
       "    <tr>\n",
       "      <th>7</th>\n",
       "      <td>GPU: Prediction Time - Mean [s]</td>\n",
       "      <td>0.046</td>\n",
       "    </tr>\n",
       "    <tr>\n",
       "      <th>8</th>\n",
       "      <td>GPU: Predicted Images per Sec [fps]</td>\n",
       "      <td>21.7391</td>\n",
       "    </tr>\n",
       "    <tr>\n",
       "      <th>9</th>\n",
       "      <td>GPU: Training time</td>\n",
       "      <td>10m26s</td>\n",
       "    </tr>\n",
       "  </tbody>\n",
       "</table>\n",
       "</div>"
      ],
      "text/plain": [
       "                                Metric                       Value\n",
       "0                           Model Name  resnext_101_2025-01-19.pth\n",
       "1                             Test Acc                      0.8999\n",
       "2                             Test los                      1.1229\n",
       "3                      Model Size [MB]                         332\n",
       "4                  No Params [Million]                       86.95\n",
       "5      CPU: Prediction Time - Mean [s]                      0.1526\n",
       "6  CPU: Predicted Images per Sec [fps]                      6.5531\n",
       "7      GPU: Prediction Time - Mean [s]                       0.046\n",
       "8  GPU: Predicted Images per Sec [fps]                     21.7391\n",
       "9                   GPU: Training time                      10m26s"
      ]
     },
     "execution_count": 8,
     "metadata": {},
     "output_type": "execute_result"
    }
   ],
   "source": [
    "# Create a dictionary with the results for this model, in terms \n",
    "dict = {}\n",
    "dict['Model Name'] = model_name\n",
    "dict['Test Acc'] = round(results['test_acc'].iloc[-1], 4)\n",
    "dict['Test los'] = round(results['test_loss'].iloc[-1], 4)\n",
    "dict['Model Size [MB]'] = round(Path(os.path.join(model_dir, model_name)).stat().st_size // (1024*1024), 2)\n",
    "dict['No Params [Million]'] = round(sum(p.numel() for p in model.parameters()) / 1000000, 2)\n",
    "dict['CPU: Prediction Time - Mean [s]'] = round(pd.DataFrame(pred_list_cpu)['time_for_pred'].mean(), 4)\n",
    "dict['CPU: Predicted Images per Sec [fps]'] = round(1.0 / dict['CPU: Prediction Time - Mean [s]'], 4)\n",
    "dict['GPU: Prediction Time - Mean [s]'] = round(pd.DataFrame(pred_list_gpu)['time_for_pred'].mean(), 4)\n",
    "dict['GPU: Predicted Images per Sec [fps]'] = round(1.0 / dict['GPU: Prediction Time - Mean [s]'], 4)\n",
    "dict['GPU: Training time'] = sec_to_min_sec(results[\"train_time [s]\"].mean() + results[\"test_time [s]\"].mean())\n",
    "\n",
    "# Convert to dataframe\n",
    "df = pd.DataFrame.from_dict(dict, orient=\"index\").reset_index()\n",
    "df.columns = ['Metric', 'Value']\n",
    "df"
   ]
  }
 ],
 "metadata": {
  "kernelspec": {
   "display_name": ".venv_pytorch_gpu",
   "language": "python",
   "name": "python3"
  },
  "language_info": {
   "codemirror_mode": {
    "name": "ipython",
    "version": 3
   },
   "file_extension": ".py",
   "mimetype": "text/x-python",
   "name": "python",
   "nbconvert_exporter": "python",
   "pygments_lexer": "ipython3",
   "version": "3.11.10"
  },
  "papermill": {
   "default_parameters": {},
   "duration": 5048.164187,
   "end_time": "2025-01-21T06:39:33.117405",
   "environment_variables": {},
   "exception": null,
   "input_path": "Comp_RestNetXt101_32X8D_Evaluation.ipynb",
   "output_path": "Comp_RestNetXt101_32X8D_Evaluation.ipynb",
   "parameters": {},
   "start_time": "2025-01-21T05:15:24.953218",
   "version": "2.6.0"
  },
  "widgets": {
   "application/vnd.jupyter.widget-state+json": {
    "state": {
     "0568b364efc145338e034128e584e32d": {
      "model_module": "@jupyter-widgets/controls",
      "model_module_version": "2.0.0",
      "model_name": "ProgressStyleModel",
      "state": {
       "_model_module": "@jupyter-widgets/controls",
       "_model_module_version": "2.0.0",
       "_model_name": "ProgressStyleModel",
       "_view_count": null,
       "_view_module": "@jupyter-widgets/base",
       "_view_module_version": "2.0.0",
       "_view_name": "StyleView",
       "bar_color": null,
       "description_width": ""
      }
     },
     "222f8bc42a7e4902a6b8a18967612ad5": {
      "model_module": "@jupyter-widgets/controls",
      "model_module_version": "2.0.0",
      "model_name": "HTMLModel",
      "state": {
       "_dom_classes": [],
       "_model_module": "@jupyter-widgets/controls",
       "_model_module_version": "2.0.0",
       "_model_name": "HTMLModel",
       "_view_count": null,
       "_view_module": "@jupyter-widgets/controls",
       "_view_module_version": "2.0.0",
       "_view_name": "HTMLView",
       "description": "",
       "description_allow_html": false,
       "layout": "IPY_MODEL_75ad7a8d38cf43579ebf3eed75695b8d",
       "placeholder": "​",
       "style": "IPY_MODEL_b91d6b8daea649eeae9ff1b5e2629f48",
       "tabbable": null,
       "tooltip": null,
       "value": "100%"
      }
     },
     "3400e4b0beb04663bc781759ece2a3db": {
      "model_module": "@jupyter-widgets/base",
      "model_module_version": "2.0.0",
      "model_name": "LayoutModel",
      "state": {
       "_model_module": "@jupyter-widgets/base",
       "_model_module_version": "2.0.0",
       "_model_name": "LayoutModel",
       "_view_count": null,
       "_view_module": "@jupyter-widgets/base",
       "_view_module_version": "2.0.0",
       "_view_name": "LayoutView",
       "align_content": null,
       "align_items": null,
       "align_self": null,
       "border_bottom": null,
       "border_left": null,
       "border_right": null,
       "border_top": null,
       "bottom": null,
       "display": null,
       "flex": null,
       "flex_flow": null,
       "grid_area": null,
       "grid_auto_columns": null,
       "grid_auto_flow": null,
       "grid_auto_rows": null,
       "grid_column": null,
       "grid_gap": null,
       "grid_row": null,
       "grid_template_areas": null,
       "grid_template_columns": null,
       "grid_template_rows": null,
       "height": null,
       "justify_content": null,
       "justify_items": null,
       "left": null,
       "margin": null,
       "max_height": null,
       "max_width": null,
       "min_height": null,
       "min_width": null,
       "object_fit": null,
       "object_position": null,
       "order": null,
       "overflow": null,
       "padding": null,
       "right": null,
       "top": null,
       "visibility": null,
       "width": null
      }
     },
     "4292f345979745f39ea1ee2561aa8451": {
      "model_module": "@jupyter-widgets/controls",
      "model_module_version": "2.0.0",
      "model_name": "HTMLModel",
      "state": {
       "_dom_classes": [],
       "_model_module": "@jupyter-widgets/controls",
       "_model_module_version": "2.0.0",
       "_model_name": "HTMLModel",
       "_view_count": null,
       "_view_module": "@jupyter-widgets/controls",
       "_view_module_version": "2.0.0",
       "_view_name": "HTMLView",
       "description": "",
       "description_allow_html": false,
       "layout": "IPY_MODEL_7b0f194255df4af48ead15517c4e261c",
       "placeholder": "​",
       "style": "IPY_MODEL_7cc96091c4ca4fa6a6ec33e434835fbb",
       "tabbable": null,
       "tooltip": null,
       "value": " 25250/25250 [1:04:25&lt;00:00,  6.49it/s]"
      }
     },
     "461564252aa84fb09fe1554a3a6ce44c": {
      "model_module": "@jupyter-widgets/base",
      "model_module_version": "2.0.0",
      "model_name": "LayoutModel",
      "state": {
       "_model_module": "@jupyter-widgets/base",
       "_model_module_version": "2.0.0",
       "_model_name": "LayoutModel",
       "_view_count": null,
       "_view_module": "@jupyter-widgets/base",
       "_view_module_version": "2.0.0",
       "_view_name": "LayoutView",
       "align_content": null,
       "align_items": null,
       "align_self": null,
       "border_bottom": null,
       "border_left": null,
       "border_right": null,
       "border_top": null,
       "bottom": null,
       "display": null,
       "flex": null,
       "flex_flow": null,
       "grid_area": null,
       "grid_auto_columns": null,
       "grid_auto_flow": null,
       "grid_auto_rows": null,
       "grid_column": null,
       "grid_gap": null,
       "grid_row": null,
       "grid_template_areas": null,
       "grid_template_columns": null,
       "grid_template_rows": null,
       "height": null,
       "justify_content": null,
       "justify_items": null,
       "left": null,
       "margin": null,
       "max_height": null,
       "max_width": null,
       "min_height": null,
       "min_width": null,
       "object_fit": null,
       "object_position": null,
       "order": null,
       "overflow": null,
       "padding": null,
       "right": null,
       "top": null,
       "visibility": null,
       "width": null
      }
     },
     "5f6f335f56dd4f0c929e1560e074532d": {
      "model_module": "@jupyter-widgets/base",
      "model_module_version": "2.0.0",
      "model_name": "LayoutModel",
      "state": {
       "_model_module": "@jupyter-widgets/base",
       "_model_module_version": "2.0.0",
       "_model_name": "LayoutModel",
       "_view_count": null,
       "_view_module": "@jupyter-widgets/base",
       "_view_module_version": "2.0.0",
       "_view_name": "LayoutView",
       "align_content": null,
       "align_items": null,
       "align_self": null,
       "border_bottom": null,
       "border_left": null,
       "border_right": null,
       "border_top": null,
       "bottom": null,
       "display": null,
       "flex": null,
       "flex_flow": null,
       "grid_area": null,
       "grid_auto_columns": null,
       "grid_auto_flow": null,
       "grid_auto_rows": null,
       "grid_column": null,
       "grid_gap": null,
       "grid_row": null,
       "grid_template_areas": null,
       "grid_template_columns": null,
       "grid_template_rows": null,
       "height": null,
       "justify_content": null,
       "justify_items": null,
       "left": null,
       "margin": null,
       "max_height": null,
       "max_width": null,
       "min_height": null,
       "min_width": null,
       "object_fit": null,
       "object_position": null,
       "order": null,
       "overflow": null,
       "padding": null,
       "right": null,
       "top": null,
       "visibility": null,
       "width": null
      }
     },
     "68304a6aca714c9ea0d6c46667490d1c": {
      "model_module": "@jupyter-widgets/controls",
      "model_module_version": "2.0.0",
      "model_name": "FloatProgressModel",
      "state": {
       "_dom_classes": [],
       "_model_module": "@jupyter-widgets/controls",
       "_model_module_version": "2.0.0",
       "_model_name": "FloatProgressModel",
       "_view_count": null,
       "_view_module": "@jupyter-widgets/controls",
       "_view_module_version": "2.0.0",
       "_view_name": "ProgressView",
       "bar_style": "success",
       "description": "",
       "description_allow_html": false,
       "layout": "IPY_MODEL_b27df2fb6ff040aaa467358cb448a6cb",
       "max": 25250,
       "min": 0,
       "orientation": "horizontal",
       "style": "IPY_MODEL_0568b364efc145338e034128e584e32d",
       "tabbable": null,
       "tooltip": null,
       "value": 25250
      }
     },
     "6b063cd05c8a4cd689693339e89485b3": {
      "model_module": "@jupyter-widgets/base",
      "model_module_version": "2.0.0",
      "model_name": "LayoutModel",
      "state": {
       "_model_module": "@jupyter-widgets/base",
       "_model_module_version": "2.0.0",
       "_model_name": "LayoutModel",
       "_view_count": null,
       "_view_module": "@jupyter-widgets/base",
       "_view_module_version": "2.0.0",
       "_view_name": "LayoutView",
       "align_content": null,
       "align_items": null,
       "align_self": null,
       "border_bottom": null,
       "border_left": null,
       "border_right": null,
       "border_top": null,
       "bottom": null,
       "display": null,
       "flex": null,
       "flex_flow": null,
       "grid_area": null,
       "grid_auto_columns": null,
       "grid_auto_flow": null,
       "grid_auto_rows": null,
       "grid_column": null,
       "grid_gap": null,
       "grid_row": null,
       "grid_template_areas": null,
       "grid_template_columns": null,
       "grid_template_rows": null,
       "height": null,
       "justify_content": null,
       "justify_items": null,
       "left": null,
       "margin": null,
       "max_height": null,
       "max_width": null,
       "min_height": null,
       "min_width": null,
       "object_fit": null,
       "object_position": null,
       "order": null,
       "overflow": null,
       "padding": null,
       "right": null,
       "top": null,
       "visibility": null,
       "width": null
      }
     },
     "75ad7a8d38cf43579ebf3eed75695b8d": {
      "model_module": "@jupyter-widgets/base",
      "model_module_version": "2.0.0",
      "model_name": "LayoutModel",
      "state": {
       "_model_module": "@jupyter-widgets/base",
       "_model_module_version": "2.0.0",
       "_model_name": "LayoutModel",
       "_view_count": null,
       "_view_module": "@jupyter-widgets/base",
       "_view_module_version": "2.0.0",
       "_view_name": "LayoutView",
       "align_content": null,
       "align_items": null,
       "align_self": null,
       "border_bottom": null,
       "border_left": null,
       "border_right": null,
       "border_top": null,
       "bottom": null,
       "display": null,
       "flex": null,
       "flex_flow": null,
       "grid_area": null,
       "grid_auto_columns": null,
       "grid_auto_flow": null,
       "grid_auto_rows": null,
       "grid_column": null,
       "grid_gap": null,
       "grid_row": null,
       "grid_template_areas": null,
       "grid_template_columns": null,
       "grid_template_rows": null,
       "height": null,
       "justify_content": null,
       "justify_items": null,
       "left": null,
       "margin": null,
       "max_height": null,
       "max_width": null,
       "min_height": null,
       "min_width": null,
       "object_fit": null,
       "object_position": null,
       "order": null,
       "overflow": null,
       "padding": null,
       "right": null,
       "top": null,
       "visibility": null,
       "width": null
      }
     },
     "7b0f194255df4af48ead15517c4e261c": {
      "model_module": "@jupyter-widgets/base",
      "model_module_version": "2.0.0",
      "model_name": "LayoutModel",
      "state": {
       "_model_module": "@jupyter-widgets/base",
       "_model_module_version": "2.0.0",
       "_model_name": "LayoutModel",
       "_view_count": null,
       "_view_module": "@jupyter-widgets/base",
       "_view_module_version": "2.0.0",
       "_view_name": "LayoutView",
       "align_content": null,
       "align_items": null,
       "align_self": null,
       "border_bottom": null,
       "border_left": null,
       "border_right": null,
       "border_top": null,
       "bottom": null,
       "display": null,
       "flex": null,
       "flex_flow": null,
       "grid_area": null,
       "grid_auto_columns": null,
       "grid_auto_flow": null,
       "grid_auto_rows": null,
       "grid_column": null,
       "grid_gap": null,
       "grid_row": null,
       "grid_template_areas": null,
       "grid_template_columns": null,
       "grid_template_rows": null,
       "height": null,
       "justify_content": null,
       "justify_items": null,
       "left": null,
       "margin": null,
       "max_height": null,
       "max_width": null,
       "min_height": null,
       "min_width": null,
       "object_fit": null,
       "object_position": null,
       "order": null,
       "overflow": null,
       "padding": null,
       "right": null,
       "top": null,
       "visibility": null,
       "width": null
      }
     },
     "7c12fa6310f74c039500441e7cb10096": {
      "model_module": "@jupyter-widgets/controls",
      "model_module_version": "2.0.0",
      "model_name": "HTMLStyleModel",
      "state": {
       "_model_module": "@jupyter-widgets/controls",
       "_model_module_version": "2.0.0",
       "_model_name": "HTMLStyleModel",
       "_view_count": null,
       "_view_module": "@jupyter-widgets/base",
       "_view_module_version": "2.0.0",
       "_view_name": "StyleView",
       "background": null,
       "description_width": "",
       "font_size": null,
       "text_color": null
      }
     },
     "7cc96091c4ca4fa6a6ec33e434835fbb": {
      "model_module": "@jupyter-widgets/controls",
      "model_module_version": "2.0.0",
      "model_name": "HTMLStyleModel",
      "state": {
       "_model_module": "@jupyter-widgets/controls",
       "_model_module_version": "2.0.0",
       "_model_name": "HTMLStyleModel",
       "_view_count": null,
       "_view_module": "@jupyter-widgets/base",
       "_view_module_version": "2.0.0",
       "_view_name": "StyleView",
       "background": null,
       "description_width": "",
       "font_size": null,
       "text_color": null
      }
     },
     "884aa90c3d254890a3ab89f6effbd7b2": {
      "model_module": "@jupyter-widgets/controls",
      "model_module_version": "2.0.0",
      "model_name": "FloatProgressModel",
      "state": {
       "_dom_classes": [],
       "_model_module": "@jupyter-widgets/controls",
       "_model_module_version": "2.0.0",
       "_model_name": "FloatProgressModel",
       "_view_count": null,
       "_view_module": "@jupyter-widgets/controls",
       "_view_module_version": "2.0.0",
       "_view_name": "ProgressView",
       "bar_style": "success",
       "description": "",
       "description_allow_html": false,
       "layout": "IPY_MODEL_8e4e2b06b9334e259765600bc37c3052",
       "max": 25250,
       "min": 0,
       "orientation": "horizontal",
       "style": "IPY_MODEL_d28ff5dd36f14c2a969988669ca58ba2",
       "tabbable": null,
       "tooltip": null,
       "value": 25250
      }
     },
     "8e4e2b06b9334e259765600bc37c3052": {
      "model_module": "@jupyter-widgets/base",
      "model_module_version": "2.0.0",
      "model_name": "LayoutModel",
      "state": {
       "_model_module": "@jupyter-widgets/base",
       "_model_module_version": "2.0.0",
       "_model_name": "LayoutModel",
       "_view_count": null,
       "_view_module": "@jupyter-widgets/base",
       "_view_module_version": "2.0.0",
       "_view_name": "LayoutView",
       "align_content": null,
       "align_items": null,
       "align_self": null,
       "border_bottom": null,
       "border_left": null,
       "border_right": null,
       "border_top": null,
       "bottom": null,
       "display": null,
       "flex": null,
       "flex_flow": null,
       "grid_area": null,
       "grid_auto_columns": null,
       "grid_auto_flow": null,
       "grid_auto_rows": null,
       "grid_column": null,
       "grid_gap": null,
       "grid_row": null,
       "grid_template_areas": null,
       "grid_template_columns": null,
       "grid_template_rows": null,
       "height": null,
       "justify_content": null,
       "justify_items": null,
       "left": null,
       "margin": null,
       "max_height": null,
       "max_width": null,
       "min_height": null,
       "min_width": null,
       "object_fit": null,
       "object_position": null,
       "order": null,
       "overflow": null,
       "padding": null,
       "right": null,
       "top": null,
       "visibility": null,
       "width": null
      }
     },
     "a8a1b8169ab8452bbf0c375c9c740ff1": {
      "model_module": "@jupyter-widgets/controls",
      "model_module_version": "2.0.0",
      "model_name": "HTMLStyleModel",
      "state": {
       "_model_module": "@jupyter-widgets/controls",
       "_model_module_version": "2.0.0",
       "_model_name": "HTMLStyleModel",
       "_view_count": null,
       "_view_module": "@jupyter-widgets/base",
       "_view_module_version": "2.0.0",
       "_view_name": "StyleView",
       "background": null,
       "description_width": "",
       "font_size": null,
       "text_color": null
      }
     },
     "b27df2fb6ff040aaa467358cb448a6cb": {
      "model_module": "@jupyter-widgets/base",
      "model_module_version": "2.0.0",
      "model_name": "LayoutModel",
      "state": {
       "_model_module": "@jupyter-widgets/base",
       "_model_module_version": "2.0.0",
       "_model_name": "LayoutModel",
       "_view_count": null,
       "_view_module": "@jupyter-widgets/base",
       "_view_module_version": "2.0.0",
       "_view_name": "LayoutView",
       "align_content": null,
       "align_items": null,
       "align_self": null,
       "border_bottom": null,
       "border_left": null,
       "border_right": null,
       "border_top": null,
       "bottom": null,
       "display": null,
       "flex": null,
       "flex_flow": null,
       "grid_area": null,
       "grid_auto_columns": null,
       "grid_auto_flow": null,
       "grid_auto_rows": null,
       "grid_column": null,
       "grid_gap": null,
       "grid_row": null,
       "grid_template_areas": null,
       "grid_template_columns": null,
       "grid_template_rows": null,
       "height": null,
       "justify_content": null,
       "justify_items": null,
       "left": null,
       "margin": null,
       "max_height": null,
       "max_width": null,
       "min_height": null,
       "min_width": null,
       "object_fit": null,
       "object_position": null,
       "order": null,
       "overflow": null,
       "padding": null,
       "right": null,
       "top": null,
       "visibility": null,
       "width": null
      }
     },
     "b91d6b8daea649eeae9ff1b5e2629f48": {
      "model_module": "@jupyter-widgets/controls",
      "model_module_version": "2.0.0",
      "model_name": "HTMLStyleModel",
      "state": {
       "_model_module": "@jupyter-widgets/controls",
       "_model_module_version": "2.0.0",
       "_model_name": "HTMLStyleModel",
       "_view_count": null,
       "_view_module": "@jupyter-widgets/base",
       "_view_module_version": "2.0.0",
       "_view_name": "StyleView",
       "background": null,
       "description_width": "",
       "font_size": null,
       "text_color": null
      }
     },
     "bffd78d3b72d44b885d05fabd06f4d20": {
      "model_module": "@jupyter-widgets/controls",
      "model_module_version": "2.0.0",
      "model_name": "HBoxModel",
      "state": {
       "_dom_classes": [],
       "_model_module": "@jupyter-widgets/controls",
       "_model_module_version": "2.0.0",
       "_model_name": "HBoxModel",
       "_view_count": null,
       "_view_module": "@jupyter-widgets/controls",
       "_view_module_version": "2.0.0",
       "_view_name": "HBoxView",
       "box_style": "",
       "children": [
        "IPY_MODEL_e6e03e5a1fd841e88286a238c7f7eed7",
        "IPY_MODEL_884aa90c3d254890a3ab89f6effbd7b2",
        "IPY_MODEL_4292f345979745f39ea1ee2561aa8451"
       ],
       "layout": "IPY_MODEL_3400e4b0beb04663bc781759ece2a3db",
       "tabbable": null,
       "tooltip": null
      }
     },
     "d1f7d938ca054950af7eac4fecb39574": {
      "model_module": "@jupyter-widgets/controls",
      "model_module_version": "2.0.0",
      "model_name": "HBoxModel",
      "state": {
       "_dom_classes": [],
       "_model_module": "@jupyter-widgets/controls",
       "_model_module_version": "2.0.0",
       "_model_name": "HBoxModel",
       "_view_count": null,
       "_view_module": "@jupyter-widgets/controls",
       "_view_module_version": "2.0.0",
       "_view_name": "HBoxView",
       "box_style": "",
       "children": [
        "IPY_MODEL_222f8bc42a7e4902a6b8a18967612ad5",
        "IPY_MODEL_68304a6aca714c9ea0d6c46667490d1c",
        "IPY_MODEL_fb5a5bac5edc4104b039cb027f9b5c29"
       ],
       "layout": "IPY_MODEL_5f6f335f56dd4f0c929e1560e074532d",
       "tabbable": null,
       "tooltip": null
      }
     },
     "d28ff5dd36f14c2a969988669ca58ba2": {
      "model_module": "@jupyter-widgets/controls",
      "model_module_version": "2.0.0",
      "model_name": "ProgressStyleModel",
      "state": {
       "_model_module": "@jupyter-widgets/controls",
       "_model_module_version": "2.0.0",
       "_model_name": "ProgressStyleModel",
       "_view_count": null,
       "_view_module": "@jupyter-widgets/base",
       "_view_module_version": "2.0.0",
       "_view_name": "StyleView",
       "bar_color": null,
       "description_width": ""
      }
     },
     "e6e03e5a1fd841e88286a238c7f7eed7": {
      "model_module": "@jupyter-widgets/controls",
      "model_module_version": "2.0.0",
      "model_name": "HTMLModel",
      "state": {
       "_dom_classes": [],
       "_model_module": "@jupyter-widgets/controls",
       "_model_module_version": "2.0.0",
       "_model_name": "HTMLModel",
       "_view_count": null,
       "_view_module": "@jupyter-widgets/controls",
       "_view_module_version": "2.0.0",
       "_view_name": "HTMLView",
       "description": "",
       "description_allow_html": false,
       "layout": "IPY_MODEL_461564252aa84fb09fe1554a3a6ce44c",
       "placeholder": "​",
       "style": "IPY_MODEL_7c12fa6310f74c039500441e7cb10096",
       "tabbable": null,
       "tooltip": null,
       "value": "100%"
      }
     },
     "fb5a5bac5edc4104b039cb027f9b5c29": {
      "model_module": "@jupyter-widgets/controls",
      "model_module_version": "2.0.0",
      "model_name": "HTMLModel",
      "state": {
       "_dom_classes": [],
       "_model_module": "@jupyter-widgets/controls",
       "_model_module_version": "2.0.0",
       "_model_name": "HTMLModel",
       "_view_count": null,
       "_view_module": "@jupyter-widgets/controls",
       "_view_module_version": "2.0.0",
       "_view_name": "HTMLView",
       "description": "",
       "description_allow_html": false,
       "layout": "IPY_MODEL_6b063cd05c8a4cd689693339e89485b3",
       "placeholder": "​",
       "style": "IPY_MODEL_a8a1b8169ab8452bbf0c375c9c740ff1",
       "tabbable": null,
       "tooltip": null,
       "value": " 25250/25250 [19:26&lt;00:00, 22.88it/s]"
      }
     }
    },
    "version_major": 2,
    "version_minor": 0
   }
  }
 },
 "nbformat": 4,
 "nbformat_minor": 5
}
