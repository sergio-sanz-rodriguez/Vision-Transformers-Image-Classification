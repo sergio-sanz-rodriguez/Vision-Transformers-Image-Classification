{
 "cells": [
  {
   "cell_type": "markdown",
   "id": "371977ad",
   "metadata": {
    "papermill": {
     "duration": 0.005886,
     "end_time": "2025-01-20T23:12:12.202793",
     "exception": false,
     "start_time": "2025-01-20T23:12:12.196907",
     "status": "completed"
    },
    "tags": []
   },
   "source": [
    "# 1. Introduction\n",
    "\n",
    "This notebook focuses on evaluating the best-performing Vision Transformer (ViT) model derived from the ViT_Modeling_v3 notebook. The model employs a ViT-Base/16-384 architecture, trained from scratch but initialized with pretrained weights. Its input image size is 384×384, which results in longer prediction times compared to the models employing input images of 224x224 pixels (see notebook ViT_Modeling_v1.ipynb)."
   ]
  },
  {
   "cell_type": "markdown",
   "id": "d6555499",
   "metadata": {
    "papermill": {
     "duration": 0.006,
     "end_time": "2025-01-20T23:12:12.214794",
     "exception": false,
     "start_time": "2025-01-20T23:12:12.208794",
     "status": "completed"
    },
    "tags": []
   },
   "source": [
    "# 2. Importing Libraries"
   ]
  },
  {
   "cell_type": "code",
   "execution_count": 1,
   "id": "4ea443bb-470a-47e5-8f4d-341abf4e4d6f",
   "metadata": {
    "execution": {
     "iopub.execute_input": "2025-01-20T23:12:12.226822Z",
     "iopub.status.busy": "2025-01-20T23:12:12.225815Z",
     "iopub.status.idle": "2025-01-20T23:12:18.861520Z",
     "shell.execute_reply": "2025-01-20T23:12:18.861242Z"
    },
    "papermill": {
     "duration": 6.643737,
     "end_time": "2025-01-20T23:12:18.863557",
     "exception": false,
     "start_time": "2025-01-20T23:12:12.219820",
     "status": "completed"
    },
    "tags": []
   },
   "outputs": [],
   "source": [
    "import os\n",
    "import matplotlib.pyplot as plt\n",
    "import pandas as pd\n",
    "import numpy as np\n",
    "import torch\n",
    "import seaborn as sns\n",
    "import torchvision\n",
    "\n",
    "from torch import nn\n",
    "from torchvision.transforms import v2\n",
    "from pathlib import Path\n",
    "\n",
    "from modules.helper_functions import set_seeds, get_most_wrong_examples, load_model\n",
    "from modules.dataloaders import create_dataloaders\n",
    "from modules.engine import predict_and_store, Trainer, sec_to_min_sec\n",
    "from modules.vision_transformer import ViT\n",
    "\n",
    "# Define some constants\n",
    "NUM_WORKERS = os.cpu_count()\n",
    "BATCH_SIZE = 64\n",
    "AMOUNT_TO_GET = 1.0\n",
    "SEED = 42\n",
    "\n",
    "# Define target data directory\n",
    "target_dir_name = f\"../data/food-101_{str(int(AMOUNT_TO_GET*100))}_percent\"\n",
    "\n",
    "# Setup training and test directories\n",
    "target_dir = Path(target_dir_name)\n",
    "train_dir = target_dir / \"train\"\n",
    "test_dir = target_dir / \"test\"\n",
    "target_dir.mkdir(parents=True, exist_ok=True)\n",
    "\n",
    "# Create target model directory\n",
    "model_dir = Path(\"../models\")\n",
    "\n",
    "# Set seeds\n",
    "set_seeds(SEED)"
   ]
  },
  {
   "cell_type": "code",
   "execution_count": 2,
   "id": "cb3007a5",
   "metadata": {
    "execution": {
     "iopub.execute_input": "2025-01-20T23:12:18.876526Z",
     "iopub.status.busy": "2025-01-20T23:12:18.876526Z",
     "iopub.status.idle": "2025-01-20T23:12:18.882523Z",
     "shell.execute_reply": "2025-01-20T23:12:18.882523Z"
    },
    "papermill": {
     "duration": 0.015007,
     "end_time": "2025-01-20T23:12:18.884533",
     "exception": false,
     "start_time": "2025-01-20T23:12:18.869526",
     "status": "completed"
    },
    "tags": []
   },
   "outputs": [
    {
     "data": {
      "text/plain": [
       "'cuda'"
      ]
     },
     "execution_count": 2,
     "metadata": {},
     "output_type": "execute_result"
    }
   ],
   "source": [
    "# Set device\n",
    "device = \"cuda\" if torch.cuda.is_available() else \"cpu\"\n",
    "device"
   ]
  },
  {
   "cell_type": "markdown",
   "id": "350701ec-c5f9-4809-884c-69a5dcf97ceb",
   "metadata": {
    "papermill": {
     "duration": 0.005968,
     "end_time": "2025-01-20T23:12:18.895528",
     "exception": false,
     "start_time": "2025-01-20T23:12:18.889560",
     "status": "completed"
    },
    "tags": []
   },
   "source": [
    "# 2. Creating Dataloaders"
   ]
  },
  {
   "cell_type": "code",
   "execution_count": 3,
   "id": "d3d7dc2d",
   "metadata": {
    "execution": {
     "iopub.execute_input": "2025-01-20T23:12:18.908560Z",
     "iopub.status.busy": "2025-01-20T23:12:18.908560Z",
     "iopub.status.idle": "2025-01-20T23:12:18.913522Z",
     "shell.execute_reply": "2025-01-20T23:12:18.913522Z"
    },
    "papermill": {
     "duration": 0.01403,
     "end_time": "2025-01-20T23:12:18.915557",
     "exception": false,
     "start_time": "2025-01-20T23:12:18.901527",
     "status": "completed"
    },
    "tags": []
   },
   "outputs": [],
   "source": [
    "# Create transforms\n",
    "IMG_SIZE_1 = 384\n",
    "IMG_SIZE_2 = 384\n",
    "manual_transforms_train = v2.Compose([    \n",
    "    v2.TrivialAugmentWide(),\n",
    "    v2.Resize((IMG_SIZE_1, IMG_SIZE_1)),\n",
    "    v2.RandomCrop((IMG_SIZE_2, IMG_SIZE_2)),    \n",
    "    v2.ToImage(),\n",
    "    v2.ToDtype(torch.float32, scale=True),\n",
    "    v2.Normalize(mean=[0.485, 0.456, 0.406],\n",
    "                std=[0.229, 0.224, 0.225]) \n",
    "    ])\n",
    "\n",
    "manual_transforms_test = v2.Compose([    \n",
    "    v2.Resize((IMG_SIZE_1, IMG_SIZE_1)),\n",
    "    v2.CenterCrop((IMG_SIZE_2, IMG_SIZE_2)),    \n",
    "    v2.ToImage(),\n",
    "    v2.ToDtype(torch.float32, scale=True),\n",
    "    v2.Normalize(mean=[0.485, 0.456, 0.406],\n",
    "                std=[0.229, 0.224, 0.225]) \n",
    "    ])"
   ]
  },
  {
   "cell_type": "code",
   "execution_count": 4,
   "id": "2d6ef570",
   "metadata": {
    "execution": {
     "iopub.execute_input": "2025-01-20T23:12:18.926528Z",
     "iopub.status.busy": "2025-01-20T23:12:18.926528Z",
     "iopub.status.idle": "2025-01-20T23:12:19.815700Z",
     "shell.execute_reply": "2025-01-20T23:12:19.815420Z"
    },
    "papermill": {
     "duration": 0.896147,
     "end_time": "2025-01-20T23:12:19.816706",
     "exception": false,
     "start_time": "2025-01-20T23:12:18.920559",
     "status": "completed"
    },
    "tags": []
   },
   "outputs": [],
   "source": [
    "# Create dataloaders\n",
    "train_dataloader, test_dataloader, class_names = create_dataloaders(    \n",
    "    train_dir=train_dir,\n",
    "    test_dir=test_dir,\n",
    "    train_transform=manual_transforms_train,\n",
    "    test_transform=manual_transforms_test,\n",
    "    batch_size=BATCH_SIZE,\n",
    "    num_workers=NUM_WORKERS\n",
    ")"
   ]
  },
  {
   "cell_type": "markdown",
   "id": "bdf31b74",
   "metadata": {
    "papermill": {
     "duration": 0.004999,
     "end_time": "2025-01-20T23:12:19.828704",
     "exception": false,
     "start_time": "2025-01-20T23:12:19.823705",
     "status": "completed"
    },
    "tags": []
   },
   "source": [
    "# 3. Evaluating ViT-Base/16-384 with 101 Classes\n",
    "\n",
    "The model will be evaluated using the test dataset with the following metrics: accuracy, loss, model size (MB), average prediction time per image (sec), and average predited images per second (frames/sec)"
   ]
  },
  {
   "cell_type": "code",
   "execution_count": 5,
   "id": "6c9eb6c1",
   "metadata": {
    "execution": {
     "iopub.execute_input": "2025-01-20T23:12:19.841735Z",
     "iopub.status.busy": "2025-01-20T23:12:19.841735Z",
     "iopub.status.idle": "2025-01-20T23:12:23.874491Z",
     "shell.execute_reply": "2025-01-20T23:12:23.874203Z"
    },
    "papermill": {
     "duration": 4.04079,
     "end_time": "2025-01-20T23:12:23.875496",
     "exception": false,
     "start_time": "2025-01-20T23:12:19.834706",
     "status": "completed"
    },
    "tags": []
   },
   "outputs": [
    {
     "name": "stderr",
     "output_type": "stream",
     "text": [
      "c:\\Users\\ssre_\\.conda\\envs\\.venv_pytorch_gpu\\Lib\\site-packages\\onnxscript\\converter.py:820: FutureWarning: 'onnxscript.values.Op.param_schemas' is deprecated in version 0.1 and will be removed in the future. Please use '.op_signature' instead.\n",
      "  param_schemas = callee.param_schemas()\n",
      "c:\\Users\\ssre_\\.conda\\envs\\.venv_pytorch_gpu\\Lib\\site-packages\\onnxscript\\converter.py:820: FutureWarning: 'onnxscript.values.OnnxFunction.param_schemas' is deprecated in version 0.1 and will be removed in the future. Please use '.op_signature' instead.\n",
      "  param_schemas = callee.param_schemas()\n"
     ]
    },
    {
     "name": "stdout",
     "output_type": "stream",
     "text": [
      "[INFO] Loading model from: ..\\models\\vitb384_101_2025-01-19.pth\n"
     ]
    }
   ],
   "source": [
    "# Train the model\n",
    "model_type=\"vitb384_101_2025-01-19\"\n",
    "model_name = model_type + \".pth\"\n",
    "results_df = model_type + \".csv\"\n",
    "\n",
    "# Copy weights from torchvision.models\n",
    "set_seeds(SEED)\n",
    "\n",
    "# Instantiate the model\n",
    "model = torchvision.models.vit_b_16(weights=torchvision.models.ViT_B_16_Weights.IMAGENET1K_SWAG_E2E_V1).to(device)\n",
    "model.heads = nn.Linear(in_features=768, out_features=len(class_names)).to(device)\n",
    "\n",
    "# Compile model\n",
    "model = torch.compile(model, backend=\"aot_eager\")\n",
    "\n",
    "# Load the trained weights\n",
    "model = load_model(model=model,\n",
    "                   model_weights_dir=model_dir,\n",
    "                   model_weights_name=model_name)\n",
    "\n",
    "# Load the training results\n",
    "results = pd.read_csv(os.path.join(model_dir, results_df))"
   ]
  },
  {
   "cell_type": "markdown",
   "id": "ce7e6942",
   "metadata": {
    "papermill": {
     "duration": 0.006,
     "end_time": "2025-01-20T23:12:23.888496",
     "exception": false,
     "start_time": "2025-01-20T23:12:23.882496",
     "status": "completed"
    },
    "tags": []
   },
   "source": [
    "## 3.1 Making Predictions on the CPU: Intel Core i9-9900K@3.60GHz"
   ]
  },
  {
   "cell_type": "code",
   "execution_count": 6,
   "id": "2fed6aa6",
   "metadata": {
    "execution": {
     "iopub.execute_input": "2025-01-20T23:12:23.900528Z",
     "iopub.status.busy": "2025-01-20T23:12:23.900528Z",
     "iopub.status.idle": "2025-01-21T01:29:30.967894Z",
     "shell.execute_reply": "2025-01-21T01:29:30.967894Z"
    },
    "papermill": {
     "duration": 8227.075398,
     "end_time": "2025-01-21T01:29:30.969898",
     "exception": false,
     "start_time": "2025-01-20T23:12:23.894500",
     "status": "completed"
    },
    "tags": []
   },
   "outputs": [
    {
     "name": "stdout",
     "output_type": "stream",
     "text": [
      "[INFO] Finding all filepaths ending with '.jpg' in directory: ..\\data\\food-101_100_percent\\test\n"
     ]
    },
    {
     "data": {
      "application/vnd.jupyter.widget-view+json": {
       "model_id": "a4de685a20d441d28621d42600bc5772",
       "version_major": 2,
       "version_minor": 0
      },
      "text/plain": [
       "  0%|          | 0/25250 [00:00<?, ?it/s]"
      ]
     },
     "metadata": {},
     "output_type": "display_data"
    }
   ],
   "source": [
    "# Make predictions on the CPU to compute the average prediction time per image\n",
    "pred_list_cpu, classif_report_cpu = Trainer(\n",
    "    model=model,\n",
    "    device=\"cpu\"\n",
    "    ).predict_and_store(\n",
    "        test_dir=test_dir,\n",
    "        transform=manual_transforms_test,\n",
    "        class_names=class_names,\n",
    "        )"
   ]
  },
  {
   "cell_type": "markdown",
   "id": "12aae589",
   "metadata": {
    "papermill": {
     "duration": 0.005999,
     "end_time": "2025-01-21T01:29:30.982902",
     "exception": false,
     "start_time": "2025-01-21T01:29:30.976903",
     "status": "completed"
    },
    "tags": []
   },
   "source": [
    "## 3.2 Making Predictions on the GPU: NVIDIA GeForce RTX 4070"
   ]
  },
  {
   "cell_type": "code",
   "execution_count": 7,
   "id": "23d4abe0",
   "metadata": {
    "execution": {
     "iopub.execute_input": "2025-01-21T01:29:30.997899Z",
     "iopub.status.busy": "2025-01-21T01:29:30.997899Z",
     "iopub.status.idle": "2025-01-21T01:39:30.499308Z",
     "shell.execute_reply": "2025-01-21T01:39:30.499308Z"
    },
    "papermill": {
     "duration": 599.510419,
     "end_time": "2025-01-21T01:39:30.501316",
     "exception": false,
     "start_time": "2025-01-21T01:29:30.990897",
     "status": "completed"
    },
    "tags": []
   },
   "outputs": [
    {
     "name": "stdout",
     "output_type": "stream",
     "text": [
      "[INFO] Finding all filepaths ending with '.jpg' in directory: ..\\data\\food-101_100_percent\\test\n"
     ]
    },
    {
     "data": {
      "application/vnd.jupyter.widget-view+json": {
       "model_id": "aa998ba3c4f44ed982a1259000dc6e9b",
       "version_major": 2,
       "version_minor": 0
      },
      "text/plain": [
       "  0%|          | 0/25250 [00:00<?, ?it/s]"
      ]
     },
     "metadata": {},
     "output_type": "display_data"
    }
   ],
   "source": [
    "# Make predictions on the GPU to compute the average prediction time per image\n",
    "from modules.engine import Trainer\n",
    "pred_list_gpu, classif_report_gpu = Trainer(\n",
    "    model=model,\n",
    "    device=device\n",
    "    ).predict_and_store(\n",
    "        test_dir=test_dir,\n",
    "        transform=manual_transforms_test,\n",
    "        class_names=class_names,\n",
    "    )"
   ]
  },
  {
   "cell_type": "markdown",
   "id": "388f4d3e",
   "metadata": {
    "papermill": {
     "duration": 0.007003,
     "end_time": "2025-01-21T01:39:30.515317",
     "exception": false,
     "start_time": "2025-01-21T01:39:30.508314",
     "status": "completed"
    },
    "tags": []
   },
   "source": [
    "## 3.3. Collecting Data"
   ]
  },
  {
   "cell_type": "code",
   "execution_count": 8,
   "id": "897486c8",
   "metadata": {
    "execution": {
     "iopub.execute_input": "2025-01-21T01:39:30.538312Z",
     "iopub.status.busy": "2025-01-21T01:39:30.538312Z",
     "iopub.status.idle": "2025-01-21T01:39:30.616259Z",
     "shell.execute_reply": "2025-01-21T01:39:30.616259Z"
    },
    "papermill": {
     "duration": 0.089952,
     "end_time": "2025-01-21T01:39:30.617264",
     "exception": false,
     "start_time": "2025-01-21T01:39:30.527312",
     "status": "completed"
    },
    "tags": []
   },
   "outputs": [
    {
     "data": {
      "text/html": [
       "<div>\n",
       "<style scoped>\n",
       "    .dataframe tbody tr th:only-of-type {\n",
       "        vertical-align: middle;\n",
       "    }\n",
       "\n",
       "    .dataframe tbody tr th {\n",
       "        vertical-align: top;\n",
       "    }\n",
       "\n",
       "    .dataframe thead th {\n",
       "        text-align: right;\n",
       "    }\n",
       "</style>\n",
       "<table border=\"1\" class=\"dataframe\">\n",
       "  <thead>\n",
       "    <tr style=\"text-align: right;\">\n",
       "      <th></th>\n",
       "      <th>Metric</th>\n",
       "      <th>Value</th>\n",
       "    </tr>\n",
       "  </thead>\n",
       "  <tbody>\n",
       "    <tr>\n",
       "      <th>0</th>\n",
       "      <td>Model Name</td>\n",
       "      <td>vitb384_101_2025-01-19.pth</td>\n",
       "    </tr>\n",
       "    <tr>\n",
       "      <th>1</th>\n",
       "      <td>Test Acc</td>\n",
       "      <td>0.9205</td>\n",
       "    </tr>\n",
       "    <tr>\n",
       "      <th>2</th>\n",
       "      <td>Test los</td>\n",
       "      <td>1.0541</td>\n",
       "    </tr>\n",
       "    <tr>\n",
       "      <th>3</th>\n",
       "      <td>Model Size [MB]</td>\n",
       "      <td>328</td>\n",
       "    </tr>\n",
       "    <tr>\n",
       "      <th>4</th>\n",
       "      <td>No Params [Million]</td>\n",
       "      <td>86.17</td>\n",
       "    </tr>\n",
       "    <tr>\n",
       "      <th>5</th>\n",
       "      <td>CPU: Prediction Time - Mean [s]</td>\n",
       "      <td>0.3253</td>\n",
       "    </tr>\n",
       "    <tr>\n",
       "      <th>6</th>\n",
       "      <td>CPU: Predicted Images per Sec [fps]</td>\n",
       "      <td>3.0741</td>\n",
       "    </tr>\n",
       "    <tr>\n",
       "      <th>7</th>\n",
       "      <td>GPU: Prediction Time - Mean [s]</td>\n",
       "      <td>0.0236</td>\n",
       "    </tr>\n",
       "    <tr>\n",
       "      <th>8</th>\n",
       "      <td>GPU: Predicted Images per Sec [fps]</td>\n",
       "      <td>42.3729</td>\n",
       "    </tr>\n",
       "    <tr>\n",
       "      <th>9</th>\n",
       "      <td>GPU: Training time</td>\n",
       "      <td>18m42s</td>\n",
       "    </tr>\n",
       "  </tbody>\n",
       "</table>\n",
       "</div>"
      ],
      "text/plain": [
       "                                Metric                       Value\n",
       "0                           Model Name  vitb384_101_2025-01-19.pth\n",
       "1                             Test Acc                      0.9205\n",
       "2                             Test los                      1.0541\n",
       "3                      Model Size [MB]                         328\n",
       "4                  No Params [Million]                       86.17\n",
       "5      CPU: Prediction Time - Mean [s]                      0.3253\n",
       "6  CPU: Predicted Images per Sec [fps]                      3.0741\n",
       "7      GPU: Prediction Time - Mean [s]                      0.0236\n",
       "8  GPU: Predicted Images per Sec [fps]                     42.3729\n",
       "9                   GPU: Training time                      18m42s"
      ]
     },
     "execution_count": 8,
     "metadata": {},
     "output_type": "execute_result"
    }
   ],
   "source": [
    "# Create a dictionary with the results for this model, in terms \n",
    "dict = {}\n",
    "dict['Model Name'] = model_name\n",
    "dict['Test Acc'] = round(results['test_acc'].iloc[-1], 4)\n",
    "dict['Test los'] = round(results['test_loss'].iloc[-1], 4)\n",
    "dict['Model Size [MB]'] = round(Path(os.path.join(model_dir, model_name)).stat().st_size // (1024*1024), 2)\n",
    "dict['No Params [Million]'] = round(sum(p.numel() for p in model.parameters()) / 1000000, 2)\n",
    "dict['CPU: Prediction Time - Mean [s]'] = round(pd.DataFrame(pred_list_cpu)['time_for_pred'].mean(), 4)\n",
    "dict['CPU: Predicted Images per Sec [fps]'] = round(1.0 / dict['CPU: Prediction Time - Mean [s]'], 4)\n",
    "dict['GPU: Prediction Time - Mean [s]'] = round(pd.DataFrame(pred_list_gpu)['time_for_pred'].mean(), 4)\n",
    "dict['GPU: Predicted Images per Sec [fps]'] = round(1.0 / dict['GPU: Prediction Time - Mean [s]'], 4)\n",
    "dict['GPU: Training time'] = sec_to_min_sec(results[\"train_time [s]\"].mean() + results[\"test_time [s]\"].mean())\n",
    "\n",
    "# Convert to dataframe\n",
    "df = pd.DataFrame.from_dict(dict, orient=\"index\").reset_index()\n",
    "df.columns = ['Metric', 'Value']\n",
    "df"
   ]
  }
 ],
 "metadata": {
  "kernelspec": {
   "display_name": ".venv_pytorch_gpu",
   "language": "python",
   "name": "python3"
  },
  "language_info": {
   "codemirror_mode": {
    "name": "ipython",
    "version": 3
   },
   "file_extension": ".py",
   "mimetype": "text/x-python",
   "name": "python",
   "nbconvert_exporter": "python",
   "pygments_lexer": "ipython3",
   "version": "3.11.10"
  },
  "papermill": {
   "default_parameters": {},
   "duration": 8842.396268,
   "end_time": "2025-01-21T01:39:33.006095",
   "environment_variables": {},
   "exception": null,
   "input_path": "Comp_ViT384_Evaluation.ipynb",
   "output_path": "Comp_ViT384_Evaluation.ipynb",
   "parameters": {},
   "start_time": "2025-01-20T23:12:10.609827",
   "version": "2.6.0"
  },
  "widgets": {
   "application/vnd.jupyter.widget-state+json": {
    "state": {
     "05eaa4eb1017494b913e0a708f267938": {
      "model_module": "@jupyter-widgets/controls",
      "model_module_version": "2.0.0",
      "model_name": "FloatProgressModel",
      "state": {
       "_dom_classes": [],
       "_model_module": "@jupyter-widgets/controls",
       "_model_module_version": "2.0.0",
       "_model_name": "FloatProgressModel",
       "_view_count": null,
       "_view_module": "@jupyter-widgets/controls",
       "_view_module_version": "2.0.0",
       "_view_name": "ProgressView",
       "bar_style": "success",
       "description": "",
       "description_allow_html": false,
       "layout": "IPY_MODEL_2282f9bd120d4c02963675d0cea9693a",
       "max": 25250.0,
       "min": 0.0,
       "orientation": "horizontal",
       "style": "IPY_MODEL_4f3f5edca6e54a0c98904aa11e5fab90",
       "tabbable": null,
       "tooltip": null,
       "value": 25250.0
      }
     },
     "183384e34c044620ad1bb823e56e4606": {
      "model_module": "@jupyter-widgets/controls",
      "model_module_version": "2.0.0",
      "model_name": "HTMLStyleModel",
      "state": {
       "_model_module": "@jupyter-widgets/controls",
       "_model_module_version": "2.0.0",
       "_model_name": "HTMLStyleModel",
       "_view_count": null,
       "_view_module": "@jupyter-widgets/base",
       "_view_module_version": "2.0.0",
       "_view_name": "StyleView",
       "background": null,
       "description_width": "",
       "font_size": null,
       "text_color": null
      }
     },
     "216afaba9c78479b94f4135a08497b01": {
      "model_module": "@jupyter-widgets/base",
      "model_module_version": "2.0.0",
      "model_name": "LayoutModel",
      "state": {
       "_model_module": "@jupyter-widgets/base",
       "_model_module_version": "2.0.0",
       "_model_name": "LayoutModel",
       "_view_count": null,
       "_view_module": "@jupyter-widgets/base",
       "_view_module_version": "2.0.0",
       "_view_name": "LayoutView",
       "align_content": null,
       "align_items": null,
       "align_self": null,
       "border_bottom": null,
       "border_left": null,
       "border_right": null,
       "border_top": null,
       "bottom": null,
       "display": null,
       "flex": null,
       "flex_flow": null,
       "grid_area": null,
       "grid_auto_columns": null,
       "grid_auto_flow": null,
       "grid_auto_rows": null,
       "grid_column": null,
       "grid_gap": null,
       "grid_row": null,
       "grid_template_areas": null,
       "grid_template_columns": null,
       "grid_template_rows": null,
       "height": null,
       "justify_content": null,
       "justify_items": null,
       "left": null,
       "margin": null,
       "max_height": null,
       "max_width": null,
       "min_height": null,
       "min_width": null,
       "object_fit": null,
       "object_position": null,
       "order": null,
       "overflow": null,
       "padding": null,
       "right": null,
       "top": null,
       "visibility": null,
       "width": null
      }
     },
     "2282f9bd120d4c02963675d0cea9693a": {
      "model_module": "@jupyter-widgets/base",
      "model_module_version": "2.0.0",
      "model_name": "LayoutModel",
      "state": {
       "_model_module": "@jupyter-widgets/base",
       "_model_module_version": "2.0.0",
       "_model_name": "LayoutModel",
       "_view_count": null,
       "_view_module": "@jupyter-widgets/base",
       "_view_module_version": "2.0.0",
       "_view_name": "LayoutView",
       "align_content": null,
       "align_items": null,
       "align_self": null,
       "border_bottom": null,
       "border_left": null,
       "border_right": null,
       "border_top": null,
       "bottom": null,
       "display": null,
       "flex": null,
       "flex_flow": null,
       "grid_area": null,
       "grid_auto_columns": null,
       "grid_auto_flow": null,
       "grid_auto_rows": null,
       "grid_column": null,
       "grid_gap": null,
       "grid_row": null,
       "grid_template_areas": null,
       "grid_template_columns": null,
       "grid_template_rows": null,
       "height": null,
       "justify_content": null,
       "justify_items": null,
       "left": null,
       "margin": null,
       "max_height": null,
       "max_width": null,
       "min_height": null,
       "min_width": null,
       "object_fit": null,
       "object_position": null,
       "order": null,
       "overflow": null,
       "padding": null,
       "right": null,
       "top": null,
       "visibility": null,
       "width": null
      }
     },
     "45ecf49a9a5847a9bbb9d00201e115d8": {
      "model_module": "@jupyter-widgets/controls",
      "model_module_version": "2.0.0",
      "model_name": "HTMLModel",
      "state": {
       "_dom_classes": [],
       "_model_module": "@jupyter-widgets/controls",
       "_model_module_version": "2.0.0",
       "_model_name": "HTMLModel",
       "_view_count": null,
       "_view_module": "@jupyter-widgets/controls",
       "_view_module_version": "2.0.0",
       "_view_name": "HTMLView",
       "description": "",
       "description_allow_html": false,
       "layout": "IPY_MODEL_c7f64a1630994e4492e796e92fb53cb0",
       "placeholder": "​",
       "style": "IPY_MODEL_5f0b017cb65244f8ae7dda022e09f24b",
       "tabbable": null,
       "tooltip": null,
       "value": " 25250/25250 [09:59&lt;00:00, 43.29it/s]"
      }
     },
     "4f3f5edca6e54a0c98904aa11e5fab90": {
      "model_module": "@jupyter-widgets/controls",
      "model_module_version": "2.0.0",
      "model_name": "ProgressStyleModel",
      "state": {
       "_model_module": "@jupyter-widgets/controls",
       "_model_module_version": "2.0.0",
       "_model_name": "ProgressStyleModel",
       "_view_count": null,
       "_view_module": "@jupyter-widgets/base",
       "_view_module_version": "2.0.0",
       "_view_name": "StyleView",
       "bar_color": null,
       "description_width": ""
      }
     },
     "527d816ef1984a43859159eff120dc59": {
      "model_module": "@jupyter-widgets/controls",
      "model_module_version": "2.0.0",
      "model_name": "HTMLModel",
      "state": {
       "_dom_classes": [],
       "_model_module": "@jupyter-widgets/controls",
       "_model_module_version": "2.0.0",
       "_model_name": "HTMLModel",
       "_view_count": null,
       "_view_module": "@jupyter-widgets/controls",
       "_view_module_version": "2.0.0",
       "_view_name": "HTMLView",
       "description": "",
       "description_allow_html": false,
       "layout": "IPY_MODEL_f62ea1ef8eb442ce8286a87caef4377d",
       "placeholder": "​",
       "style": "IPY_MODEL_e346a5163dd74d33ad768206f600e8ea",
       "tabbable": null,
       "tooltip": null,
       "value": "100%"
      }
     },
     "5f0b017cb65244f8ae7dda022e09f24b": {
      "model_module": "@jupyter-widgets/controls",
      "model_module_version": "2.0.0",
      "model_name": "HTMLStyleModel",
      "state": {
       "_model_module": "@jupyter-widgets/controls",
       "_model_module_version": "2.0.0",
       "_model_name": "HTMLStyleModel",
       "_view_count": null,
       "_view_module": "@jupyter-widgets/base",
       "_view_module_version": "2.0.0",
       "_view_name": "StyleView",
       "background": null,
       "description_width": "",
       "font_size": null,
       "text_color": null
      }
     },
     "966e2f38b234434ebdaece91b283715e": {
      "model_module": "@jupyter-widgets/base",
      "model_module_version": "2.0.0",
      "model_name": "LayoutModel",
      "state": {
       "_model_module": "@jupyter-widgets/base",
       "_model_module_version": "2.0.0",
       "_model_name": "LayoutModel",
       "_view_count": null,
       "_view_module": "@jupyter-widgets/base",
       "_view_module_version": "2.0.0",
       "_view_name": "LayoutView",
       "align_content": null,
       "align_items": null,
       "align_self": null,
       "border_bottom": null,
       "border_left": null,
       "border_right": null,
       "border_top": null,
       "bottom": null,
       "display": null,
       "flex": null,
       "flex_flow": null,
       "grid_area": null,
       "grid_auto_columns": null,
       "grid_auto_flow": null,
       "grid_auto_rows": null,
       "grid_column": null,
       "grid_gap": null,
       "grid_row": null,
       "grid_template_areas": null,
       "grid_template_columns": null,
       "grid_template_rows": null,
       "height": null,
       "justify_content": null,
       "justify_items": null,
       "left": null,
       "margin": null,
       "max_height": null,
       "max_width": null,
       "min_height": null,
       "min_width": null,
       "object_fit": null,
       "object_position": null,
       "order": null,
       "overflow": null,
       "padding": null,
       "right": null,
       "top": null,
       "visibility": null,
       "width": null
      }
     },
     "a4de685a20d441d28621d42600bc5772": {
      "model_module": "@jupyter-widgets/controls",
      "model_module_version": "2.0.0",
      "model_name": "HBoxModel",
      "state": {
       "_dom_classes": [],
       "_model_module": "@jupyter-widgets/controls",
       "_model_module_version": "2.0.0",
       "_model_name": "HBoxModel",
       "_view_count": null,
       "_view_module": "@jupyter-widgets/controls",
       "_view_module_version": "2.0.0",
       "_view_name": "HBoxView",
       "box_style": "",
       "children": [
        "IPY_MODEL_fac0a934736445138ed69eda1c9dc745",
        "IPY_MODEL_05eaa4eb1017494b913e0a708f267938",
        "IPY_MODEL_e68007e1bf5e4bdab550dd1e9004a26c"
       ],
       "layout": "IPY_MODEL_216afaba9c78479b94f4135a08497b01",
       "tabbable": null,
       "tooltip": null
      }
     },
     "a52c29cb497640b99cb3cd78169b238a": {
      "model_module": "@jupyter-widgets/controls",
      "model_module_version": "2.0.0",
      "model_name": "HTMLStyleModel",
      "state": {
       "_model_module": "@jupyter-widgets/controls",
       "_model_module_version": "2.0.0",
       "_model_name": "HTMLStyleModel",
       "_view_count": null,
       "_view_module": "@jupyter-widgets/base",
       "_view_module_version": "2.0.0",
       "_view_name": "StyleView",
       "background": null,
       "description_width": "",
       "font_size": null,
       "text_color": null
      }
     },
     "aa998ba3c4f44ed982a1259000dc6e9b": {
      "model_module": "@jupyter-widgets/controls",
      "model_module_version": "2.0.0",
      "model_name": "HBoxModel",
      "state": {
       "_dom_classes": [],
       "_model_module": "@jupyter-widgets/controls",
       "_model_module_version": "2.0.0",
       "_model_name": "HBoxModel",
       "_view_count": null,
       "_view_module": "@jupyter-widgets/controls",
       "_view_module_version": "2.0.0",
       "_view_name": "HBoxView",
       "box_style": "",
       "children": [
        "IPY_MODEL_527d816ef1984a43859159eff120dc59",
        "IPY_MODEL_caf8fe74de2c411294c2a70c75aa937e",
        "IPY_MODEL_45ecf49a9a5847a9bbb9d00201e115d8"
       ],
       "layout": "IPY_MODEL_d2548ebdd7ef4bbf9f28f4e33e2009ab",
       "tabbable": null,
       "tooltip": null
      }
     },
     "b7f3afe9249946c5820a0e76fdf354a4": {
      "model_module": "@jupyter-widgets/base",
      "model_module_version": "2.0.0",
      "model_name": "LayoutModel",
      "state": {
       "_model_module": "@jupyter-widgets/base",
       "_model_module_version": "2.0.0",
       "_model_name": "LayoutModel",
       "_view_count": null,
       "_view_module": "@jupyter-widgets/base",
       "_view_module_version": "2.0.0",
       "_view_name": "LayoutView",
       "align_content": null,
       "align_items": null,
       "align_self": null,
       "border_bottom": null,
       "border_left": null,
       "border_right": null,
       "border_top": null,
       "bottom": null,
       "display": null,
       "flex": null,
       "flex_flow": null,
       "grid_area": null,
       "grid_auto_columns": null,
       "grid_auto_flow": null,
       "grid_auto_rows": null,
       "grid_column": null,
       "grid_gap": null,
       "grid_row": null,
       "grid_template_areas": null,
       "grid_template_columns": null,
       "grid_template_rows": null,
       "height": null,
       "justify_content": null,
       "justify_items": null,
       "left": null,
       "margin": null,
       "max_height": null,
       "max_width": null,
       "min_height": null,
       "min_width": null,
       "object_fit": null,
       "object_position": null,
       "order": null,
       "overflow": null,
       "padding": null,
       "right": null,
       "top": null,
       "visibility": null,
       "width": null
      }
     },
     "bdb618541e2642a9b1d2840cbee4da58": {
      "model_module": "@jupyter-widgets/controls",
      "model_module_version": "2.0.0",
      "model_name": "ProgressStyleModel",
      "state": {
       "_model_module": "@jupyter-widgets/controls",
       "_model_module_version": "2.0.0",
       "_model_name": "ProgressStyleModel",
       "_view_count": null,
       "_view_module": "@jupyter-widgets/base",
       "_view_module_version": "2.0.0",
       "_view_name": "StyleView",
       "bar_color": null,
       "description_width": ""
      }
     },
     "c7f64a1630994e4492e796e92fb53cb0": {
      "model_module": "@jupyter-widgets/base",
      "model_module_version": "2.0.0",
      "model_name": "LayoutModel",
      "state": {
       "_model_module": "@jupyter-widgets/base",
       "_model_module_version": "2.0.0",
       "_model_name": "LayoutModel",
       "_view_count": null,
       "_view_module": "@jupyter-widgets/base",
       "_view_module_version": "2.0.0",
       "_view_name": "LayoutView",
       "align_content": null,
       "align_items": null,
       "align_self": null,
       "border_bottom": null,
       "border_left": null,
       "border_right": null,
       "border_top": null,
       "bottom": null,
       "display": null,
       "flex": null,
       "flex_flow": null,
       "grid_area": null,
       "grid_auto_columns": null,
       "grid_auto_flow": null,
       "grid_auto_rows": null,
       "grid_column": null,
       "grid_gap": null,
       "grid_row": null,
       "grid_template_areas": null,
       "grid_template_columns": null,
       "grid_template_rows": null,
       "height": null,
       "justify_content": null,
       "justify_items": null,
       "left": null,
       "margin": null,
       "max_height": null,
       "max_width": null,
       "min_height": null,
       "min_width": null,
       "object_fit": null,
       "object_position": null,
       "order": null,
       "overflow": null,
       "padding": null,
       "right": null,
       "top": null,
       "visibility": null,
       "width": null
      }
     },
     "caf8fe74de2c411294c2a70c75aa937e": {
      "model_module": "@jupyter-widgets/controls",
      "model_module_version": "2.0.0",
      "model_name": "FloatProgressModel",
      "state": {
       "_dom_classes": [],
       "_model_module": "@jupyter-widgets/controls",
       "_model_module_version": "2.0.0",
       "_model_name": "FloatProgressModel",
       "_view_count": null,
       "_view_module": "@jupyter-widgets/controls",
       "_view_module_version": "2.0.0",
       "_view_name": "ProgressView",
       "bar_style": "success",
       "description": "",
       "description_allow_html": false,
       "layout": "IPY_MODEL_966e2f38b234434ebdaece91b283715e",
       "max": 25250.0,
       "min": 0.0,
       "orientation": "horizontal",
       "style": "IPY_MODEL_bdb618541e2642a9b1d2840cbee4da58",
       "tabbable": null,
       "tooltip": null,
       "value": 25250.0
      }
     },
     "d2548ebdd7ef4bbf9f28f4e33e2009ab": {
      "model_module": "@jupyter-widgets/base",
      "model_module_version": "2.0.0",
      "model_name": "LayoutModel",
      "state": {
       "_model_module": "@jupyter-widgets/base",
       "_model_module_version": "2.0.0",
       "_model_name": "LayoutModel",
       "_view_count": null,
       "_view_module": "@jupyter-widgets/base",
       "_view_module_version": "2.0.0",
       "_view_name": "LayoutView",
       "align_content": null,
       "align_items": null,
       "align_self": null,
       "border_bottom": null,
       "border_left": null,
       "border_right": null,
       "border_top": null,
       "bottom": null,
       "display": null,
       "flex": null,
       "flex_flow": null,
       "grid_area": null,
       "grid_auto_columns": null,
       "grid_auto_flow": null,
       "grid_auto_rows": null,
       "grid_column": null,
       "grid_gap": null,
       "grid_row": null,
       "grid_template_areas": null,
       "grid_template_columns": null,
       "grid_template_rows": null,
       "height": null,
       "justify_content": null,
       "justify_items": null,
       "left": null,
       "margin": null,
       "max_height": null,
       "max_width": null,
       "min_height": null,
       "min_width": null,
       "object_fit": null,
       "object_position": null,
       "order": null,
       "overflow": null,
       "padding": null,
       "right": null,
       "top": null,
       "visibility": null,
       "width": null
      }
     },
     "e346a5163dd74d33ad768206f600e8ea": {
      "model_module": "@jupyter-widgets/controls",
      "model_module_version": "2.0.0",
      "model_name": "HTMLStyleModel",
      "state": {
       "_model_module": "@jupyter-widgets/controls",
       "_model_module_version": "2.0.0",
       "_model_name": "HTMLStyleModel",
       "_view_count": null,
       "_view_module": "@jupyter-widgets/base",
       "_view_module_version": "2.0.0",
       "_view_name": "StyleView",
       "background": null,
       "description_width": "",
       "font_size": null,
       "text_color": null
      }
     },
     "e68007e1bf5e4bdab550dd1e9004a26c": {
      "model_module": "@jupyter-widgets/controls",
      "model_module_version": "2.0.0",
      "model_name": "HTMLModel",
      "state": {
       "_dom_classes": [],
       "_model_module": "@jupyter-widgets/controls",
       "_model_module_version": "2.0.0",
       "_model_name": "HTMLModel",
       "_view_count": null,
       "_view_module": "@jupyter-widgets/controls",
       "_view_module_version": "2.0.0",
       "_view_name": "HTMLView",
       "description": "",
       "description_allow_html": false,
       "layout": "IPY_MODEL_fb483682a9374c85b690197870c98794",
       "placeholder": "​",
       "style": "IPY_MODEL_a52c29cb497640b99cb3cd78169b238a",
       "tabbable": null,
       "tooltip": null,
       "value": " 25250/25250 [2:17:06&lt;00:00,  3.01it/s]"
      }
     },
     "f62ea1ef8eb442ce8286a87caef4377d": {
      "model_module": "@jupyter-widgets/base",
      "model_module_version": "2.0.0",
      "model_name": "LayoutModel",
      "state": {
       "_model_module": "@jupyter-widgets/base",
       "_model_module_version": "2.0.0",
       "_model_name": "LayoutModel",
       "_view_count": null,
       "_view_module": "@jupyter-widgets/base",
       "_view_module_version": "2.0.0",
       "_view_name": "LayoutView",
       "align_content": null,
       "align_items": null,
       "align_self": null,
       "border_bottom": null,
       "border_left": null,
       "border_right": null,
       "border_top": null,
       "bottom": null,
       "display": null,
       "flex": null,
       "flex_flow": null,
       "grid_area": null,
       "grid_auto_columns": null,
       "grid_auto_flow": null,
       "grid_auto_rows": null,
       "grid_column": null,
       "grid_gap": null,
       "grid_row": null,
       "grid_template_areas": null,
       "grid_template_columns": null,
       "grid_template_rows": null,
       "height": null,
       "justify_content": null,
       "justify_items": null,
       "left": null,
       "margin": null,
       "max_height": null,
       "max_width": null,
       "min_height": null,
       "min_width": null,
       "object_fit": null,
       "object_position": null,
       "order": null,
       "overflow": null,
       "padding": null,
       "right": null,
       "top": null,
       "visibility": null,
       "width": null
      }
     },
     "fac0a934736445138ed69eda1c9dc745": {
      "model_module": "@jupyter-widgets/controls",
      "model_module_version": "2.0.0",
      "model_name": "HTMLModel",
      "state": {
       "_dom_classes": [],
       "_model_module": "@jupyter-widgets/controls",
       "_model_module_version": "2.0.0",
       "_model_name": "HTMLModel",
       "_view_count": null,
       "_view_module": "@jupyter-widgets/controls",
       "_view_module_version": "2.0.0",
       "_view_name": "HTMLView",
       "description": "",
       "description_allow_html": false,
       "layout": "IPY_MODEL_b7f3afe9249946c5820a0e76fdf354a4",
       "placeholder": "​",
       "style": "IPY_MODEL_183384e34c044620ad1bb823e56e4606",
       "tabbable": null,
       "tooltip": null,
       "value": "100%"
      }
     },
     "fb483682a9374c85b690197870c98794": {
      "model_module": "@jupyter-widgets/base",
      "model_module_version": "2.0.0",
      "model_name": "LayoutModel",
      "state": {
       "_model_module": "@jupyter-widgets/base",
       "_model_module_version": "2.0.0",
       "_model_name": "LayoutModel",
       "_view_count": null,
       "_view_module": "@jupyter-widgets/base",
       "_view_module_version": "2.0.0",
       "_view_name": "LayoutView",
       "align_content": null,
       "align_items": null,
       "align_self": null,
       "border_bottom": null,
       "border_left": null,
       "border_right": null,
       "border_top": null,
       "bottom": null,
       "display": null,
       "flex": null,
       "flex_flow": null,
       "grid_area": null,
       "grid_auto_columns": null,
       "grid_auto_flow": null,
       "grid_auto_rows": null,
       "grid_column": null,
       "grid_gap": null,
       "grid_row": null,
       "grid_template_areas": null,
       "grid_template_columns": null,
       "grid_template_rows": null,
       "height": null,
       "justify_content": null,
       "justify_items": null,
       "left": null,
       "margin": null,
       "max_height": null,
       "max_width": null,
       "min_height": null,
       "min_width": null,
       "object_fit": null,
       "object_position": null,
       "order": null,
       "overflow": null,
       "padding": null,
       "right": null,
       "top": null,
       "visibility": null,
       "width": null
      }
     }
    },
    "version_major": 2,
    "version_minor": 0
   }
  }
 },
 "nbformat": 4,
 "nbformat_minor": 5
}