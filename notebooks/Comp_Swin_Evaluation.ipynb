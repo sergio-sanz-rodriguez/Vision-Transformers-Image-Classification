{
 "cells": [
  {
   "cell_type": "markdown",
   "id": "371977ad",
   "metadata": {
    "papermill": {
     "duration": 0.003002,
     "end_time": "2025-01-21T06:39:34.531862",
     "exception": false,
     "start_time": "2025-01-21T06:39:34.528860",
     "status": "completed"
    },
    "tags": []
   },
   "source": [
    "# 1. Introduction\n",
    "\n",
    "This notebook focuses on evaluating the best-performing Vision Transformer (ViT) model derived from the ViT_Modeling_v3 notebook. The model employs a ViT-Base/16-384 architecture, trained from scratch but initialized with pretrained weights. Its input image size is 384×384, which results in longer prediction times compared to the models employing input images of 224x224 pixels (see notebook ViT_Modeling_v1.ipynb)."
   ]
  },
  {
   "cell_type": "markdown",
   "id": "d6555499",
   "metadata": {
    "papermill": {
     "duration": 0.003,
     "end_time": "2025-01-21T06:39:34.536860",
     "exception": false,
     "start_time": "2025-01-21T06:39:34.533860",
     "status": "completed"
    },
    "tags": []
   },
   "source": [
    "# 2. Importing Libraries"
   ]
  },
  {
   "cell_type": "code",
   "execution_count": 1,
   "id": "4ea443bb-470a-47e5-8f4d-341abf4e4d6f",
   "metadata": {
    "execution": {
     "iopub.execute_input": "2025-01-21T06:39:34.541860Z",
     "iopub.status.busy": "2025-01-21T06:39:34.541860Z",
     "iopub.status.idle": "2025-01-21T06:39:41.045368Z",
     "shell.execute_reply": "2025-01-21T06:39:41.045368Z"
    },
    "papermill": {
     "duration": 6.508874,
     "end_time": "2025-01-21T06:39:41.047734",
     "exception": false,
     "start_time": "2025-01-21T06:39:34.538860",
     "status": "completed"
    },
    "tags": []
   },
   "outputs": [],
   "source": [
    "import os\n",
    "import matplotlib.pyplot as plt\n",
    "import pandas as pd\n",
    "import numpy as np\n",
    "import torch\n",
    "import seaborn as sns\n",
    "import torchvision\n",
    "\n",
    "from torch import nn\n",
    "from torchvision.transforms import v2\n",
    "from pathlib import Path\n",
    "\n",
    "from modules.helper_functions import set_seeds, get_most_wrong_examples, load_model\n",
    "from modules.dataloaders import create_dataloaders\n",
    "from modules.engine import predict_and_store, Trainer\n",
    "from modules.vision_transformer import ViT\n",
    "\n",
    "# Define some constants\n",
    "NUM_WORKERS = os.cpu_count()\n",
    "BATCH_SIZE = 64\n",
    "AMOUNT_TO_GET = 1.0\n",
    "SEED = 42\n",
    "\n",
    "# Define target data directory\n",
    "target_dir_name = f\"../data/food-101_{str(int(AMOUNT_TO_GET*100))}_percent\"\n",
    "\n",
    "# Setup training and test directories\n",
    "target_dir = Path(target_dir_name)\n",
    "train_dir = target_dir / \"train\"\n",
    "test_dir = target_dir / \"test\"\n",
    "target_dir.mkdir(parents=True, exist_ok=True)\n",
    "\n",
    "# Create target model directory\n",
    "model_dir = Path(\"../models\")\n",
    "\n",
    "# Set seeds\n",
    "set_seeds(SEED)"
   ]
  },
  {
   "cell_type": "code",
   "execution_count": 2,
   "id": "cb3007a5",
   "metadata": {
    "execution": {
     "iopub.execute_input": "2025-01-21T06:39:41.054709Z",
     "iopub.status.busy": "2025-01-21T06:39:41.053707Z",
     "iopub.status.idle": "2025-01-21T06:39:41.060031Z",
     "shell.execute_reply": "2025-01-21T06:39:41.060031Z"
    },
    "papermill": {
     "duration": 0.012309,
     "end_time": "2025-01-21T06:39:41.062041",
     "exception": false,
     "start_time": "2025-01-21T06:39:41.049732",
     "status": "completed"
    },
    "tags": []
   },
   "outputs": [
    {
     "data": {
      "text/plain": [
       "'cuda'"
      ]
     },
     "execution_count": 2,
     "metadata": {},
     "output_type": "execute_result"
    }
   ],
   "source": [
    "# Set device\n",
    "device = \"cuda\" if torch.cuda.is_available() else \"cpu\"\n",
    "device"
   ]
  },
  {
   "cell_type": "markdown",
   "id": "350701ec-c5f9-4809-884c-69a5dcf97ceb",
   "metadata": {
    "papermill": {
     "duration": 0.002525,
     "end_time": "2025-01-21T06:39:41.066589",
     "exception": false,
     "start_time": "2025-01-21T06:39:41.064064",
     "status": "completed"
    },
    "tags": []
   },
   "source": [
    "# 2. Creating Dataloaders"
   ]
  },
  {
   "cell_type": "code",
   "execution_count": 3,
   "id": "d3d7dc2d",
   "metadata": {
    "execution": {
     "iopub.execute_input": "2025-01-21T06:39:41.071596Z",
     "iopub.status.busy": "2025-01-21T06:39:41.071596Z",
     "iopub.status.idle": "2025-01-21T06:39:41.076471Z",
     "shell.execute_reply": "2025-01-21T06:39:41.076471Z"
    },
    "papermill": {
     "duration": 0.008882,
     "end_time": "2025-01-21T06:39:41.077476",
     "exception": false,
     "start_time": "2025-01-21T06:39:41.068594",
     "status": "completed"
    },
    "tags": []
   },
   "outputs": [],
   "source": [
    "# Create transforms\n",
    "IMG_SIZE_1 = 272\n",
    "IMG_SIZE_2 = 256\n",
    "manual_transforms_train = v2.Compose([    \n",
    "    v2.TrivialAugmentWide(),\n",
    "    v2.Resize((IMG_SIZE_1, IMG_SIZE_1)),\n",
    "    v2.RandomCrop((IMG_SIZE_2, IMG_SIZE_2)),    \n",
    "    v2.ToImage(),\n",
    "    v2.ToDtype(torch.float32, scale=True),\n",
    "    v2.Normalize(mean=[0.485, 0.456, 0.406],\n",
    "                std=[0.229, 0.224, 0.225]) \n",
    "    ])\n",
    "\n",
    "manual_transforms_test = v2.Compose([    \n",
    "    v2.Resize((IMG_SIZE_1, IMG_SIZE_1)),\n",
    "    v2.CenterCrop((IMG_SIZE_2, IMG_SIZE_2)),    \n",
    "    v2.ToImage(),\n",
    "    v2.ToDtype(torch.float32, scale=True),\n",
    "    v2.Normalize(mean=[0.485, 0.456, 0.406],\n",
    "                std=[0.229, 0.224, 0.225]) \n",
    "    ])"
   ]
  },
  {
   "cell_type": "code",
   "execution_count": 4,
   "id": "2d6ef570",
   "metadata": {
    "execution": {
     "iopub.execute_input": "2025-01-21T06:39:41.083507Z",
     "iopub.status.busy": "2025-01-21T06:39:41.083507Z",
     "iopub.status.idle": "2025-01-21T06:39:41.935328Z",
     "shell.execute_reply": "2025-01-21T06:39:41.935328Z"
    },
    "papermill": {
     "duration": 0.856236,
     "end_time": "2025-01-21T06:39:41.936711",
     "exception": false,
     "start_time": "2025-01-21T06:39:41.080475",
     "status": "completed"
    },
    "tags": []
   },
   "outputs": [],
   "source": [
    "# Create dataloaders\n",
    "train_dataloader, test_dataloader, class_names = create_dataloaders(    \n",
    "    train_dir=train_dir,\n",
    "    test_dir=test_dir,\n",
    "    train_transform=manual_transforms_train,\n",
    "    test_transform=manual_transforms_test,\n",
    "    batch_size=BATCH_SIZE,\n",
    "    num_workers=NUM_WORKERS\n",
    ")"
   ]
  },
  {
   "cell_type": "markdown",
   "id": "bdf31b74",
   "metadata": {
    "papermill": {
     "duration": 0.002968,
     "end_time": "2025-01-21T06:39:41.942715",
     "exception": false,
     "start_time": "2025-01-21T06:39:41.939747",
     "status": "completed"
    },
    "tags": []
   },
   "source": [
    "# 3. Evaluating ViT-Base/16-384 with 102 Classes\n",
    "\n",
    "The model will be evaluated using the test dataset with the following metrics: accuracy, loss, model size (MB), average prediction time per image (sec), and average predited images per second (frames/sec)"
   ]
  },
  {
   "cell_type": "code",
   "execution_count": 5,
   "id": "6c9eb6c1",
   "metadata": {
    "execution": {
     "iopub.execute_input": "2025-01-21T06:39:41.948717Z",
     "iopub.status.busy": "2025-01-21T06:39:41.948717Z",
     "iopub.status.idle": "2025-01-21T06:39:46.763982Z",
     "shell.execute_reply": "2025-01-21T06:39:46.763436Z"
    },
    "papermill": {
     "duration": 4.819301,
     "end_time": "2025-01-21T06:39:46.765018",
     "exception": false,
     "start_time": "2025-01-21T06:39:41.945717",
     "status": "completed"
    },
    "tags": []
   },
   "outputs": [
    {
     "name": "stderr",
     "output_type": "stream",
     "text": [
      "c:\\Users\\ssre_\\.conda\\envs\\.venv_pytorch_gpu\\Lib\\site-packages\\onnxscript\\converter.py:820: FutureWarning: 'onnxscript.values.Op.param_schemas' is deprecated in version 0.1 and will be removed in the future. Please use '.op_signature' instead.\n",
      "  param_schemas = callee.param_schemas()\n",
      "c:\\Users\\ssre_\\.conda\\envs\\.venv_pytorch_gpu\\Lib\\site-packages\\onnxscript\\converter.py:820: FutureWarning: 'onnxscript.values.OnnxFunction.param_schemas' is deprecated in version 0.1 and will be removed in the future. Please use '.op_signature' instead.\n",
      "  param_schemas = callee.param_schemas()\n"
     ]
    },
    {
     "name": "stdout",
     "output_type": "stream",
     "text": [
      "[INFO] Loading model from: ..\\models\\swinb_101_2025-01-17.pth\n"
     ]
    }
   ],
   "source": [
    "# Train the model\n",
    "model_type=\"swinb_101_2025-01-17\"\n",
    "model_name = f\"{model_type}\"\n",
    "swinb_model_name = model_name + \".pth\"\n",
    "swinb_results_df = model_name + \".csv\"\n",
    "\n",
    "# Copy weights from torchvision.models\n",
    "set_seeds(SEED)\n",
    "\n",
    "# Instantiate the model\n",
    "swinb_model = torchvision.models.swin_v2_b(\n",
    "    weights=torchvision.models.Swin_V2_B_Weights.DEFAULT,\n",
    "    )\n",
    "\n",
    "swinb_model.head = nn.Linear(in_features=1024, out_features=len(class_names)).to(device)\n",
    "\n",
    "# Compile model\n",
    "swinb_model = torch.compile(swinb_model, backend=\"aot_eager\")\n",
    "\n",
    "# Load the trained weights\n",
    "swinb_model = load_model(model=swinb_model,\n",
    "                               model_weights_dir=model_dir,\n",
    "                               model_weights_name=swinb_model_name)\n",
    "\n",
    "# Load the training results\n",
    "swinb_results = pd.read_csv(os.path.join(model_dir, swinb_results_df))"
   ]
  },
  {
   "cell_type": "markdown",
   "id": "ce7e6942",
   "metadata": {
    "papermill": {
     "duration": 0.002969,
     "end_time": "2025-01-21T06:39:46.770988",
     "exception": false,
     "start_time": "2025-01-21T06:39:46.768019",
     "status": "completed"
    },
    "tags": []
   },
   "source": [
    "## 3.1 Making Predictions on the CPU: Intel Core i9-9900K@3.60GHz"
   ]
  },
  {
   "cell_type": "code",
   "execution_count": 6,
   "id": "2fed6aa6",
   "metadata": {
    "execution": {
     "iopub.execute_input": "2025-01-21T06:39:46.776989Z",
     "iopub.status.busy": "2025-01-21T06:39:46.776989Z",
     "iopub.status.idle": "2025-01-21T08:47:16.636970Z",
     "shell.execute_reply": "2025-01-21T08:47:16.636462Z"
    },
    "papermill": {
     "duration": 7649.863966,
     "end_time": "2025-01-21T08:47:16.637975",
     "exception": false,
     "start_time": "2025-01-21T06:39:46.774009",
     "status": "completed"
    },
    "tags": []
   },
   "outputs": [
    {
     "name": "stdout",
     "output_type": "stream",
     "text": [
      "[INFO] Finding all filepaths ending with '.jpg' in directory: ..\\data\\food-101_100_percent\\test\n"
     ]
    },
    {
     "data": {
      "application/vnd.jupyter.widget-view+json": {
       "model_id": "788053cab6e643ea82c834b3b4478fe1",
       "version_major": 2,
       "version_minor": 0
      },
      "text/plain": [
       "  0%|          | 0/25250 [00:00<?, ?it/s]"
      ]
     },
     "metadata": {},
     "output_type": "display_data"
    }
   ],
   "source": [
    "# Make predictions on the CPU to compute the average prediction time per image\n",
    "pred_list_cpu, classif_report_cpu = Trainer(\n",
    "    model=swinb_model,\n",
    "    device=\"cpu\"\n",
    "    ).predict_and_store(\n",
    "        test_dir=test_dir,\n",
    "        transform=manual_transforms_test,\n",
    "        class_names=class_names\n",
    "        )"
   ]
  },
  {
   "cell_type": "markdown",
   "id": "12aae589",
   "metadata": {
    "papermill": {
     "duration": 0.003001,
     "end_time": "2025-01-21T08:47:16.644976",
     "exception": false,
     "start_time": "2025-01-21T08:47:16.641975",
     "status": "completed"
    },
    "tags": []
   },
   "source": [
    "## 3.2 Making Predictions on the GPU: NVIDIA GeForce RTX 4070"
   ]
  },
  {
   "cell_type": "code",
   "execution_count": 7,
   "id": "23d4abe0",
   "metadata": {
    "execution": {
     "iopub.execute_input": "2025-01-21T08:47:16.651975Z",
     "iopub.status.busy": "2025-01-21T08:47:16.651975Z",
     "iopub.status.idle": "2025-01-21T09:58:45.693283Z",
     "shell.execute_reply": "2025-01-21T09:58:45.693283Z"
    },
    "papermill": {
     "duration": 4289.047316,
     "end_time": "2025-01-21T09:58:45.695293",
     "exception": false,
     "start_time": "2025-01-21T08:47:16.647977",
     "status": "completed"
    },
    "tags": []
   },
   "outputs": [
    {
     "name": "stdout",
     "output_type": "stream",
     "text": [
      "[INFO] Finding all filepaths ending with '.jpg' in directory: ..\\data\\food-101_100_percent\\test\n"
     ]
    },
    {
     "data": {
      "application/vnd.jupyter.widget-view+json": {
       "model_id": "a9f1e42a37dc452390f67fabfae87805",
       "version_major": 2,
       "version_minor": 0
      },
      "text/plain": [
       "  0%|          | 0/25250 [00:00<?, ?it/s]"
      ]
     },
     "metadata": {},
     "output_type": "display_data"
    }
   ],
   "source": [
    "# Make predictions on the GPU to compute the average prediction time per image\n",
    "from modules.engine import Trainer\n",
    "pred_list_gpu, classif_report_gpu = Trainer(\n",
    "    model=swinb_model,\n",
    "    device=device\n",
    "    ).predict_and_store(\n",
    "        test_dir=test_dir,\n",
    "        transform=manual_transforms_test,\n",
    "        class_names=class_names\n",
    "    )"
   ]
  },
  {
   "cell_type": "markdown",
   "id": "388f4d3e",
   "metadata": {
    "papermill": {
     "duration": 0.00301,
     "end_time": "2025-01-21T09:58:45.701333",
     "exception": false,
     "start_time": "2025-01-21T09:58:45.698323",
     "status": "completed"
    },
    "tags": []
   },
   "source": [
    "## 3.3. Collecting Data"
   ]
  },
  {
   "cell_type": "code",
   "execution_count": 8,
   "id": "897486c8",
   "metadata": {
    "execution": {
     "iopub.execute_input": "2025-01-21T09:58:45.709289Z",
     "iopub.status.busy": "2025-01-21T09:58:45.708319Z",
     "iopub.status.idle": "2025-01-21T09:58:45.777422Z",
     "shell.execute_reply": "2025-01-21T09:58:45.777422Z"
    },
    "papermill": {
     "duration": 0.074165,
     "end_time": "2025-01-21T09:58:45.779455",
     "exception": false,
     "start_time": "2025-01-21T09:58:45.705290",
     "status": "completed"
    },
    "tags": []
   },
   "outputs": [
    {
     "data": {
      "text/html": [
       "<div>\n",
       "<style scoped>\n",
       "    .dataframe tbody tr th:only-of-type {\n",
       "        vertical-align: middle;\n",
       "    }\n",
       "\n",
       "    .dataframe tbody tr th {\n",
       "        vertical-align: top;\n",
       "    }\n",
       "\n",
       "    .dataframe thead th {\n",
       "        text-align: right;\n",
       "    }\n",
       "</style>\n",
       "<table border=\"1\" class=\"dataframe\">\n",
       "  <thead>\n",
       "    <tr style=\"text-align: right;\">\n",
       "      <th></th>\n",
       "      <th>Metric</th>\n",
       "      <th>Value</th>\n",
       "    </tr>\n",
       "  </thead>\n",
       "  <tbody>\n",
       "    <tr>\n",
       "      <th>0</th>\n",
       "      <td>Model Name</td>\n",
       "      <td>swinb_101_2025-01-17</td>\n",
       "    </tr>\n",
       "    <tr>\n",
       "      <th>1</th>\n",
       "      <td>Test Acc</td>\n",
       "      <td>0.93</td>\n",
       "    </tr>\n",
       "    <tr>\n",
       "      <th>2</th>\n",
       "      <td>Test los</td>\n",
       "      <td>1.04</td>\n",
       "    </tr>\n",
       "    <tr>\n",
       "      <th>3</th>\n",
       "      <td>Model Size [MB]</td>\n",
       "      <td>332</td>\n",
       "    </tr>\n",
       "    <tr>\n",
       "      <th>4</th>\n",
       "      <td>No Params [Million]</td>\n",
       "      <td>87.01</td>\n",
       "    </tr>\n",
       "    <tr>\n",
       "      <th>5</th>\n",
       "      <td>CPU: Prediction Time - Mean [s]</td>\n",
       "      <td>0.3024</td>\n",
       "    </tr>\n",
       "    <tr>\n",
       "      <th>6</th>\n",
       "      <td>CPU: Predicted Images per Sec [fps]</td>\n",
       "      <td>3.3069</td>\n",
       "    </tr>\n",
       "    <tr>\n",
       "      <th>7</th>\n",
       "      <td>GPU: Prediction Time - Mean [s]</td>\n",
       "      <td>0.1693</td>\n",
       "    </tr>\n",
       "    <tr>\n",
       "      <th>8</th>\n",
       "      <td>GPU: Predicted Images per Sec [fps]</td>\n",
       "      <td>5.9067</td>\n",
       "    </tr>\n",
       "  </tbody>\n",
       "</table>\n",
       "</div>"
      ],
      "text/plain": [
       "                                Metric                 Value\n",
       "0                           Model Name  swinb_101_2025-01-17\n",
       "1                             Test Acc                  0.93\n",
       "2                             Test los                  1.04\n",
       "3                      Model Size [MB]                   332\n",
       "4                  No Params [Million]                 87.01\n",
       "5      CPU: Prediction Time - Mean [s]                0.3024\n",
       "6  CPU: Predicted Images per Sec [fps]                3.3069\n",
       "7      GPU: Prediction Time - Mean [s]                0.1693\n",
       "8  GPU: Predicted Images per Sec [fps]                5.9067"
      ]
     },
     "execution_count": 8,
     "metadata": {},
     "output_type": "execute_result"
    }
   ],
   "source": [
    "# Create a dictionary with the results for this model, in terms \n",
    "swins_dict = {}\n",
    "swins_dict['Model Name'] = model_name\n",
    "swins_dict['Test Acc'] = round(swinb_results['test_acc'].iloc[-1], 2)\n",
    "swins_dict['Test los'] = round(swinb_results['test_loss'].iloc[-1], 2)\n",
    "swins_dict['Model Size [MB]'] = round(Path(os.path.join(model_dir, swinb_model_name)).stat().st_size // (1024*1024), 2)\n",
    "swins_dict['No Params [Million]'] = round(sum(p.numel() for p in swinb_model.parameters()) / 1000000, 2)\n",
    "swins_dict['CPU: Prediction Time - Mean [s]'] = round(pd.DataFrame(pred_list_cpu)['time_for_pred'].mean(), 4)\n",
    "swins_dict['CPU: Predicted Images per Sec [fps]'] = round(1.0 / swins_dict['CPU: Prediction Time - Mean [s]'], 4)\n",
    "swins_dict['GPU: Prediction Time - Mean [s]'] = round(pd.DataFrame(pred_list_gpu)['time_for_pred'].mean(), 4)\n",
    "swins_dict['GPU: Predicted Images per Sec [fps]'] = round(1.0 / swins_dict['GPU: Prediction Time - Mean [s]'], 4)\n",
    "\n",
    "# Convert to dataframe 3\n",
    "df_effnetb2 = pd.DataFrame.from_dict(swins_dict, orient=\"index\").reset_index()\n",
    "df_effnetb2.columns = ['Metric', 'Value']\n",
    "df_effnetb2"
   ]
  }
 ],
 "metadata": {
  "kernelspec": {
   "display_name": ".venv_pytorch_gpu",
   "language": "python",
   "name": "python3"
  },
  "language_info": {
   "codemirror_mode": {
    "name": "ipython",
    "version": 3
   },
   "file_extension": ".py",
   "mimetype": "text/x-python",
   "name": "python",
   "nbconvert_exporter": "python",
   "pygments_lexer": "ipython3",
   "version": "3.11.10"
  },
  "papermill": {
   "default_parameters": {},
   "duration": 11955.105456,
   "end_time": "2025-01-21T09:58:48.239861",
   "environment_variables": {},
   "exception": null,
   "input_path": "Comp_Swin_Evaluation.ipynb",
   "output_path": "Comp_Swin_Evaluation.ipynb",
   "parameters": {},
   "start_time": "2025-01-21T06:39:33.134405",
   "version": "2.6.0"
  },
  "widgets": {
   "application/vnd.jupyter.widget-state+json": {
    "state": {
     "0014ed6922ca43feb92b0c74b4487cbd": {
      "model_module": "@jupyter-widgets/controls",
      "model_module_version": "2.0.0",
      "model_name": "HTMLStyleModel",
      "state": {
       "_model_module": "@jupyter-widgets/controls",
       "_model_module_version": "2.0.0",
       "_model_name": "HTMLStyleModel",
       "_view_count": null,
       "_view_module": "@jupyter-widgets/base",
       "_view_module_version": "2.0.0",
       "_view_name": "StyleView",
       "background": null,
       "description_width": "",
       "font_size": null,
       "text_color": null
      }
     },
     "006d375fe4b94150b6e40babb87aa103": {
      "model_module": "@jupyter-widgets/controls",
      "model_module_version": "2.0.0",
      "model_name": "HTMLModel",
      "state": {
       "_dom_classes": [],
       "_model_module": "@jupyter-widgets/controls",
       "_model_module_version": "2.0.0",
       "_model_name": "HTMLModel",
       "_view_count": null,
       "_view_module": "@jupyter-widgets/controls",
       "_view_module_version": "2.0.0",
       "_view_name": "HTMLView",
       "description": "",
       "description_allow_html": false,
       "layout": "IPY_MODEL_593f53dbb7b04441abbbdc3f3fbf93da",
       "placeholder": "​",
       "style": "IPY_MODEL_0014ed6922ca43feb92b0c74b4487cbd",
       "tabbable": null,
       "tooltip": null,
       "value": "100%"
      }
     },
     "17a398cdba0a4500a4994d4c8fe07477": {
      "model_module": "@jupyter-widgets/controls",
      "model_module_version": "2.0.0",
      "model_name": "HTMLModel",
      "state": {
       "_dom_classes": [],
       "_model_module": "@jupyter-widgets/controls",
       "_model_module_version": "2.0.0",
       "_model_name": "HTMLModel",
       "_view_count": null,
       "_view_module": "@jupyter-widgets/controls",
       "_view_module_version": "2.0.0",
       "_view_name": "HTMLView",
       "description": "",
       "description_allow_html": false,
       "layout": "IPY_MODEL_7a726065203541ea8d1c5e7f14041a78",
       "placeholder": "​",
       "style": "IPY_MODEL_d7a0ace586c34650989432fc4da6ec16",
       "tabbable": null,
       "tooltip": null,
       "value": " 25250/25250 [2:07:29&lt;00:00,  3.39it/s]"
      }
     },
     "19a754145fa74070bf9147278f0e923f": {
      "model_module": "@jupyter-widgets/base",
      "model_module_version": "2.0.0",
      "model_name": "LayoutModel",
      "state": {
       "_model_module": "@jupyter-widgets/base",
       "_model_module_version": "2.0.0",
       "_model_name": "LayoutModel",
       "_view_count": null,
       "_view_module": "@jupyter-widgets/base",
       "_view_module_version": "2.0.0",
       "_view_name": "LayoutView",
       "align_content": null,
       "align_items": null,
       "align_self": null,
       "border_bottom": null,
       "border_left": null,
       "border_right": null,
       "border_top": null,
       "bottom": null,
       "display": null,
       "flex": null,
       "flex_flow": null,
       "grid_area": null,
       "grid_auto_columns": null,
       "grid_auto_flow": null,
       "grid_auto_rows": null,
       "grid_column": null,
       "grid_gap": null,
       "grid_row": null,
       "grid_template_areas": null,
       "grid_template_columns": null,
       "grid_template_rows": null,
       "height": null,
       "justify_content": null,
       "justify_items": null,
       "left": null,
       "margin": null,
       "max_height": null,
       "max_width": null,
       "min_height": null,
       "min_width": null,
       "object_fit": null,
       "object_position": null,
       "order": null,
       "overflow": null,
       "padding": null,
       "right": null,
       "top": null,
       "visibility": null,
       "width": null
      }
     },
     "27eaf397d55a487c9487f9311e0cf214": {
      "model_module": "@jupyter-widgets/controls",
      "model_module_version": "2.0.0",
      "model_name": "HTMLStyleModel",
      "state": {
       "_model_module": "@jupyter-widgets/controls",
       "_model_module_version": "2.0.0",
       "_model_name": "HTMLStyleModel",
       "_view_count": null,
       "_view_module": "@jupyter-widgets/base",
       "_view_module_version": "2.0.0",
       "_view_name": "StyleView",
       "background": null,
       "description_width": "",
       "font_size": null,
       "text_color": null
      }
     },
     "2d3e9dd1e3074bee974e9e729edbec1b": {
      "model_module": "@jupyter-widgets/controls",
      "model_module_version": "2.0.0",
      "model_name": "ProgressStyleModel",
      "state": {
       "_model_module": "@jupyter-widgets/controls",
       "_model_module_version": "2.0.0",
       "_model_name": "ProgressStyleModel",
       "_view_count": null,
       "_view_module": "@jupyter-widgets/base",
       "_view_module_version": "2.0.0",
       "_view_name": "StyleView",
       "bar_color": null,
       "description_width": ""
      }
     },
     "2d3eaf6ddd0d4729a058825768cd125b": {
      "model_module": "@jupyter-widgets/base",
      "model_module_version": "2.0.0",
      "model_name": "LayoutModel",
      "state": {
       "_model_module": "@jupyter-widgets/base",
       "_model_module_version": "2.0.0",
       "_model_name": "LayoutModel",
       "_view_count": null,
       "_view_module": "@jupyter-widgets/base",
       "_view_module_version": "2.0.0",
       "_view_name": "LayoutView",
       "align_content": null,
       "align_items": null,
       "align_self": null,
       "border_bottom": null,
       "border_left": null,
       "border_right": null,
       "border_top": null,
       "bottom": null,
       "display": null,
       "flex": null,
       "flex_flow": null,
       "grid_area": null,
       "grid_auto_columns": null,
       "grid_auto_flow": null,
       "grid_auto_rows": null,
       "grid_column": null,
       "grid_gap": null,
       "grid_row": null,
       "grid_template_areas": null,
       "grid_template_columns": null,
       "grid_template_rows": null,
       "height": null,
       "justify_content": null,
       "justify_items": null,
       "left": null,
       "margin": null,
       "max_height": null,
       "max_width": null,
       "min_height": null,
       "min_width": null,
       "object_fit": null,
       "object_position": null,
       "order": null,
       "overflow": null,
       "padding": null,
       "right": null,
       "top": null,
       "visibility": null,
       "width": null
      }
     },
     "44f9acef99f04d879a57a0c9c05cf9a5": {
      "model_module": "@jupyter-widgets/base",
      "model_module_version": "2.0.0",
      "model_name": "LayoutModel",
      "state": {
       "_model_module": "@jupyter-widgets/base",
       "_model_module_version": "2.0.0",
       "_model_name": "LayoutModel",
       "_view_count": null,
       "_view_module": "@jupyter-widgets/base",
       "_view_module_version": "2.0.0",
       "_view_name": "LayoutView",
       "align_content": null,
       "align_items": null,
       "align_self": null,
       "border_bottom": null,
       "border_left": null,
       "border_right": null,
       "border_top": null,
       "bottom": null,
       "display": null,
       "flex": null,
       "flex_flow": null,
       "grid_area": null,
       "grid_auto_columns": null,
       "grid_auto_flow": null,
       "grid_auto_rows": null,
       "grid_column": null,
       "grid_gap": null,
       "grid_row": null,
       "grid_template_areas": null,
       "grid_template_columns": null,
       "grid_template_rows": null,
       "height": null,
       "justify_content": null,
       "justify_items": null,
       "left": null,
       "margin": null,
       "max_height": null,
       "max_width": null,
       "min_height": null,
       "min_width": null,
       "object_fit": null,
       "object_position": null,
       "order": null,
       "overflow": null,
       "padding": null,
       "right": null,
       "top": null,
       "visibility": null,
       "width": null
      }
     },
     "46f8f3ef74a04e70a5609848f5040d4f": {
      "model_module": "@jupyter-widgets/base",
      "model_module_version": "2.0.0",
      "model_name": "LayoutModel",
      "state": {
       "_model_module": "@jupyter-widgets/base",
       "_model_module_version": "2.0.0",
       "_model_name": "LayoutModel",
       "_view_count": null,
       "_view_module": "@jupyter-widgets/base",
       "_view_module_version": "2.0.0",
       "_view_name": "LayoutView",
       "align_content": null,
       "align_items": null,
       "align_self": null,
       "border_bottom": null,
       "border_left": null,
       "border_right": null,
       "border_top": null,
       "bottom": null,
       "display": null,
       "flex": null,
       "flex_flow": null,
       "grid_area": null,
       "grid_auto_columns": null,
       "grid_auto_flow": null,
       "grid_auto_rows": null,
       "grid_column": null,
       "grid_gap": null,
       "grid_row": null,
       "grid_template_areas": null,
       "grid_template_columns": null,
       "grid_template_rows": null,
       "height": null,
       "justify_content": null,
       "justify_items": null,
       "left": null,
       "margin": null,
       "max_height": null,
       "max_width": null,
       "min_height": null,
       "min_width": null,
       "object_fit": null,
       "object_position": null,
       "order": null,
       "overflow": null,
       "padding": null,
       "right": null,
       "top": null,
       "visibility": null,
       "width": null
      }
     },
     "4a8ac72dce1a4e6f8ed754baab3e600c": {
      "model_module": "@jupyter-widgets/controls",
      "model_module_version": "2.0.0",
      "model_name": "ProgressStyleModel",
      "state": {
       "_model_module": "@jupyter-widgets/controls",
       "_model_module_version": "2.0.0",
       "_model_name": "ProgressStyleModel",
       "_view_count": null,
       "_view_module": "@jupyter-widgets/base",
       "_view_module_version": "2.0.0",
       "_view_name": "StyleView",
       "bar_color": null,
       "description_width": ""
      }
     },
     "593f53dbb7b04441abbbdc3f3fbf93da": {
      "model_module": "@jupyter-widgets/base",
      "model_module_version": "2.0.0",
      "model_name": "LayoutModel",
      "state": {
       "_model_module": "@jupyter-widgets/base",
       "_model_module_version": "2.0.0",
       "_model_name": "LayoutModel",
       "_view_count": null,
       "_view_module": "@jupyter-widgets/base",
       "_view_module_version": "2.0.0",
       "_view_name": "LayoutView",
       "align_content": null,
       "align_items": null,
       "align_self": null,
       "border_bottom": null,
       "border_left": null,
       "border_right": null,
       "border_top": null,
       "bottom": null,
       "display": null,
       "flex": null,
       "flex_flow": null,
       "grid_area": null,
       "grid_auto_columns": null,
       "grid_auto_flow": null,
       "grid_auto_rows": null,
       "grid_column": null,
       "grid_gap": null,
       "grid_row": null,
       "grid_template_areas": null,
       "grid_template_columns": null,
       "grid_template_rows": null,
       "height": null,
       "justify_content": null,
       "justify_items": null,
       "left": null,
       "margin": null,
       "max_height": null,
       "max_width": null,
       "min_height": null,
       "min_width": null,
       "object_fit": null,
       "object_position": null,
       "order": null,
       "overflow": null,
       "padding": null,
       "right": null,
       "top": null,
       "visibility": null,
       "width": null
      }
     },
     "5d8cfe5ec5b34dd4b519e73735ab1cc4": {
      "model_module": "@jupyter-widgets/controls",
      "model_module_version": "2.0.0",
      "model_name": "HTMLModel",
      "state": {
       "_dom_classes": [],
       "_model_module": "@jupyter-widgets/controls",
       "_model_module_version": "2.0.0",
       "_model_name": "HTMLModel",
       "_view_count": null,
       "_view_module": "@jupyter-widgets/controls",
       "_view_module_version": "2.0.0",
       "_view_name": "HTMLView",
       "description": "",
       "description_allow_html": false,
       "layout": "IPY_MODEL_46f8f3ef74a04e70a5609848f5040d4f",
       "placeholder": "​",
       "style": "IPY_MODEL_718e5163dc24400cb028fe3db7b4dd9c",
       "tabbable": null,
       "tooltip": null,
       "value": "100%"
      }
     },
     "612b6d5468ec44e2823106c3176eb9a5": {
      "model_module": "@jupyter-widgets/base",
      "model_module_version": "2.0.0",
      "model_name": "LayoutModel",
      "state": {
       "_model_module": "@jupyter-widgets/base",
       "_model_module_version": "2.0.0",
       "_model_name": "LayoutModel",
       "_view_count": null,
       "_view_module": "@jupyter-widgets/base",
       "_view_module_version": "2.0.0",
       "_view_name": "LayoutView",
       "align_content": null,
       "align_items": null,
       "align_self": null,
       "border_bottom": null,
       "border_left": null,
       "border_right": null,
       "border_top": null,
       "bottom": null,
       "display": null,
       "flex": null,
       "flex_flow": null,
       "grid_area": null,
       "grid_auto_columns": null,
       "grid_auto_flow": null,
       "grid_auto_rows": null,
       "grid_column": null,
       "grid_gap": null,
       "grid_row": null,
       "grid_template_areas": null,
       "grid_template_columns": null,
       "grid_template_rows": null,
       "height": null,
       "justify_content": null,
       "justify_items": null,
       "left": null,
       "margin": null,
       "max_height": null,
       "max_width": null,
       "min_height": null,
       "min_width": null,
       "object_fit": null,
       "object_position": null,
       "order": null,
       "overflow": null,
       "padding": null,
       "right": null,
       "top": null,
       "visibility": null,
       "width": null
      }
     },
     "718e5163dc24400cb028fe3db7b4dd9c": {
      "model_module": "@jupyter-widgets/controls",
      "model_module_version": "2.0.0",
      "model_name": "HTMLStyleModel",
      "state": {
       "_model_module": "@jupyter-widgets/controls",
       "_model_module_version": "2.0.0",
       "_model_name": "HTMLStyleModel",
       "_view_count": null,
       "_view_module": "@jupyter-widgets/base",
       "_view_module_version": "2.0.0",
       "_view_name": "StyleView",
       "background": null,
       "description_width": "",
       "font_size": null,
       "text_color": null
      }
     },
     "76102051b70248c5b7cdf7e28b463de2": {
      "model_module": "@jupyter-widgets/controls",
      "model_module_version": "2.0.0",
      "model_name": "HTMLModel",
      "state": {
       "_dom_classes": [],
       "_model_module": "@jupyter-widgets/controls",
       "_model_module_version": "2.0.0",
       "_model_name": "HTMLModel",
       "_view_count": null,
       "_view_module": "@jupyter-widgets/controls",
       "_view_module_version": "2.0.0",
       "_view_name": "HTMLView",
       "description": "",
       "description_allow_html": false,
       "layout": "IPY_MODEL_19a754145fa74070bf9147278f0e923f",
       "placeholder": "​",
       "style": "IPY_MODEL_27eaf397d55a487c9487f9311e0cf214",
       "tabbable": null,
       "tooltip": null,
       "value": " 25250/25250 [1:11:28&lt;00:00,  5.49it/s]"
      }
     },
     "788053cab6e643ea82c834b3b4478fe1": {
      "model_module": "@jupyter-widgets/controls",
      "model_module_version": "2.0.0",
      "model_name": "HBoxModel",
      "state": {
       "_dom_classes": [],
       "_model_module": "@jupyter-widgets/controls",
       "_model_module_version": "2.0.0",
       "_model_name": "HBoxModel",
       "_view_count": null,
       "_view_module": "@jupyter-widgets/controls",
       "_view_module_version": "2.0.0",
       "_view_name": "HBoxView",
       "box_style": "",
       "children": [
        "IPY_MODEL_5d8cfe5ec5b34dd4b519e73735ab1cc4",
        "IPY_MODEL_b83a0babe7094a7eb8b17578eed139c0",
        "IPY_MODEL_17a398cdba0a4500a4994d4c8fe07477"
       ],
       "layout": "IPY_MODEL_612b6d5468ec44e2823106c3176eb9a5",
       "tabbable": null,
       "tooltip": null
      }
     },
     "7a726065203541ea8d1c5e7f14041a78": {
      "model_module": "@jupyter-widgets/base",
      "model_module_version": "2.0.0",
      "model_name": "LayoutModel",
      "state": {
       "_model_module": "@jupyter-widgets/base",
       "_model_module_version": "2.0.0",
       "_model_name": "LayoutModel",
       "_view_count": null,
       "_view_module": "@jupyter-widgets/base",
       "_view_module_version": "2.0.0",
       "_view_name": "LayoutView",
       "align_content": null,
       "align_items": null,
       "align_self": null,
       "border_bottom": null,
       "border_left": null,
       "border_right": null,
       "border_top": null,
       "bottom": null,
       "display": null,
       "flex": null,
       "flex_flow": null,
       "grid_area": null,
       "grid_auto_columns": null,
       "grid_auto_flow": null,
       "grid_auto_rows": null,
       "grid_column": null,
       "grid_gap": null,
       "grid_row": null,
       "grid_template_areas": null,
       "grid_template_columns": null,
       "grid_template_rows": null,
       "height": null,
       "justify_content": null,
       "justify_items": null,
       "left": null,
       "margin": null,
       "max_height": null,
       "max_width": null,
       "min_height": null,
       "min_width": null,
       "object_fit": null,
       "object_position": null,
       "order": null,
       "overflow": null,
       "padding": null,
       "right": null,
       "top": null,
       "visibility": null,
       "width": null
      }
     },
     "a9f1e42a37dc452390f67fabfae87805": {
      "model_module": "@jupyter-widgets/controls",
      "model_module_version": "2.0.0",
      "model_name": "HBoxModel",
      "state": {
       "_dom_classes": [],
       "_model_module": "@jupyter-widgets/controls",
       "_model_module_version": "2.0.0",
       "_model_name": "HBoxModel",
       "_view_count": null,
       "_view_module": "@jupyter-widgets/controls",
       "_view_module_version": "2.0.0",
       "_view_name": "HBoxView",
       "box_style": "",
       "children": [
        "IPY_MODEL_006d375fe4b94150b6e40babb87aa103",
        "IPY_MODEL_d31589992b57487c888e6315929af6d2",
        "IPY_MODEL_76102051b70248c5b7cdf7e28b463de2"
       ],
       "layout": "IPY_MODEL_44f9acef99f04d879a57a0c9c05cf9a5",
       "tabbable": null,
       "tooltip": null
      }
     },
     "b83a0babe7094a7eb8b17578eed139c0": {
      "model_module": "@jupyter-widgets/controls",
      "model_module_version": "2.0.0",
      "model_name": "FloatProgressModel",
      "state": {
       "_dom_classes": [],
       "_model_module": "@jupyter-widgets/controls",
       "_model_module_version": "2.0.0",
       "_model_name": "FloatProgressModel",
       "_view_count": null,
       "_view_module": "@jupyter-widgets/controls",
       "_view_module_version": "2.0.0",
       "_view_name": "ProgressView",
       "bar_style": "success",
       "description": "",
       "description_allow_html": false,
       "layout": "IPY_MODEL_f92d7d393d1a425a8f96a208bdde1bb8",
       "max": 25250.0,
       "min": 0.0,
       "orientation": "horizontal",
       "style": "IPY_MODEL_4a8ac72dce1a4e6f8ed754baab3e600c",
       "tabbable": null,
       "tooltip": null,
       "value": 25250.0
      }
     },
     "d31589992b57487c888e6315929af6d2": {
      "model_module": "@jupyter-widgets/controls",
      "model_module_version": "2.0.0",
      "model_name": "FloatProgressModel",
      "state": {
       "_dom_classes": [],
       "_model_module": "@jupyter-widgets/controls",
       "_model_module_version": "2.0.0",
       "_model_name": "FloatProgressModel",
       "_view_count": null,
       "_view_module": "@jupyter-widgets/controls",
       "_view_module_version": "2.0.0",
       "_view_name": "ProgressView",
       "bar_style": "success",
       "description": "",
       "description_allow_html": false,
       "layout": "IPY_MODEL_2d3eaf6ddd0d4729a058825768cd125b",
       "max": 25250.0,
       "min": 0.0,
       "orientation": "horizontal",
       "style": "IPY_MODEL_2d3e9dd1e3074bee974e9e729edbec1b",
       "tabbable": null,
       "tooltip": null,
       "value": 25250.0
      }
     },
     "d7a0ace586c34650989432fc4da6ec16": {
      "model_module": "@jupyter-widgets/controls",
      "model_module_version": "2.0.0",
      "model_name": "HTMLStyleModel",
      "state": {
       "_model_module": "@jupyter-widgets/controls",
       "_model_module_version": "2.0.0",
       "_model_name": "HTMLStyleModel",
       "_view_count": null,
       "_view_module": "@jupyter-widgets/base",
       "_view_module_version": "2.0.0",
       "_view_name": "StyleView",
       "background": null,
       "description_width": "",
       "font_size": null,
       "text_color": null
      }
     },
     "f92d7d393d1a425a8f96a208bdde1bb8": {
      "model_module": "@jupyter-widgets/base",
      "model_module_version": "2.0.0",
      "model_name": "LayoutModel",
      "state": {
       "_model_module": "@jupyter-widgets/base",
       "_model_module_version": "2.0.0",
       "_model_name": "LayoutModel",
       "_view_count": null,
       "_view_module": "@jupyter-widgets/base",
       "_view_module_version": "2.0.0",
       "_view_name": "LayoutView",
       "align_content": null,
       "align_items": null,
       "align_self": null,
       "border_bottom": null,
       "border_left": null,
       "border_right": null,
       "border_top": null,
       "bottom": null,
       "display": null,
       "flex": null,
       "flex_flow": null,
       "grid_area": null,
       "grid_auto_columns": null,
       "grid_auto_flow": null,
       "grid_auto_rows": null,
       "grid_column": null,
       "grid_gap": null,
       "grid_row": null,
       "grid_template_areas": null,
       "grid_template_columns": null,
       "grid_template_rows": null,
       "height": null,
       "justify_content": null,
       "justify_items": null,
       "left": null,
       "margin": null,
       "max_height": null,
       "max_width": null,
       "min_height": null,
       "min_width": null,
       "object_fit": null,
       "object_position": null,
       "order": null,
       "overflow": null,
       "padding": null,
       "right": null,
       "top": null,
       "visibility": null,
       "width": null
      }
     }
    },
    "version_major": 2,
    "version_minor": 0
   }
  }
 },
 "nbformat": 4,
 "nbformat_minor": 5
}