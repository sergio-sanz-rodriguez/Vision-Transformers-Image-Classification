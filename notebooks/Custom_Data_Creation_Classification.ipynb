{
 "cells": [
  {
   "cell_type": "markdown",
   "id": "350701ec-c5f9-4809-884c-69a5dcf97ceb",
   "metadata": {},
   "source": [
    "# Data Creation from Food101 Database and SceneParse150\n",
    "\n",
    "This notebook constructs a custom PyTorch dataset by combining food images from the Food-101 dataset (class `1`) and non-food images from the SceneParse150 dataset (class `0). The resulting dataset is designed for training a binary classification model that predicts whether a given image depicts food (1) or not (0)."
   ]
  },
  {
   "cell_type": "markdown",
   "id": "4ff1180d",
   "metadata": {},
   "source": [
    "# 1. Importing Libraries"
   ]
  },
  {
   "cell_type": "code",
   "execution_count": 1,
   "id": "4ea443bb-470a-47e5-8f4d-341abf4e4d6f",
   "metadata": {},
   "outputs": [
    {
     "data": {
      "text/plain": [
       "<torch._C.Generator at 0x22f4e290350>"
      ]
     },
     "execution_count": 1,
     "metadata": {},
     "output_type": "execute_result"
    }
   ],
   "source": [
    "import os\n",
    "import shutil\n",
    "import torch\n",
    "import random\n",
    "import pandas as pd\n",
    "from pathlib import Path\n",
    "from tqdm.auto import tqdm\n",
    "from sklearn.model_selection import train_test_split\n",
    "\n",
    "# Set up seed\n",
    "SEED = 42\n",
    "torch.manual_seed(42)"
   ]
  },
  {
   "cell_type": "markdown",
   "id": "eb451cf2",
   "metadata": {},
   "source": [
    "# 2. Creating Folder Structure"
   ]
  },
  {
   "cell_type": "code",
   "execution_count": 2,
   "id": "f6304649-b3d2-4341-8adb-4d0382415d4d",
   "metadata": {},
   "outputs": [],
   "source": [
    "# Read the dataset\n",
    "ROOT_DATASET_DIR = \"./\"\n",
    "# Define paths for training and test image directories\n",
    "ORIG_IMG_DIR_0 = os.path.join(\"..\",\"data\",\"ADEChallengeData2016\", \"images\")\n",
    "ORIG_IMG_DIR_1 = os.path.join(\"..\", \"data\", \"food-101_100_percent\")\n",
    "ROOT_IMAGE_DIR =  os.path.join(\"..\",\"data\",\"classif_food_nofood_\")\n",
    "ROOT_TRAIN_DIR_0 = os.path.join(ROOT_IMAGE_DIR, \"train\", \"0\")\n",
    "ROOT_TRAIN_DIR_1 = os.path.join(ROOT_IMAGE_DIR, \"train\", \"1\")\n",
    "ROOT_TEST_DIR_0 = os.path.join(ROOT_IMAGE_DIR, \"test\", \"0\")\n",
    "ROOT_TEST_DIR_1 = os.path.join(ROOT_IMAGE_DIR, \"test\", \"1\")\n",
    "\n",
    "# Create directories if not already present\n",
    "os.makedirs(ROOT_TRAIN_DIR_0, exist_ok=True)\n",
    "os.makedirs(ROOT_TRAIN_DIR_1, exist_ok=True)\n",
    "os.makedirs(ROOT_TEST_DIR_0, exist_ok=True)\n",
    "os.makedirs(ROOT_TEST_DIR_1, exist_ok=True)\n",
    "\n",
    "TRAIN_TEST_SPLIT = 0.25\n",
    "\n",
    "# Put all images into a unique folder\n",
    "CLASS0_TRAIN_DIR = Path(ORIG_IMG_DIR_0) / \"training\"\n",
    "CLASS0_TEST_DIR =   Path(ORIG_IMG_DIR_0) / \"validation\"\n",
    "\n",
    "CLASS1_TRAIN_DIR = Path(ORIG_IMG_DIR_1) / \"train\"\n",
    "CLASS1_TEST_DIR =   Path(ORIG_IMG_DIR_1) / \"test\"\n",
    "\n",
    "# Create a list of the training and test images for class 0\n",
    "paths_train_0 = list(CLASS0_TRAIN_DIR.glob(\"*\"))\n",
    "paths_test_0 = list(CLASS0_TEST_DIR.glob(\"*\"))\n",
    "\n",
    "# Create a list of the training and test images for class 1\n",
    "paths_train_1 = list(CLASS1_TRAIN_DIR.glob(\"*/*\"))\n",
    "paths_test_1 = list(CLASS1_TEST_DIR.glob(\"*/*\"))"
   ]
  },
  {
   "cell_type": "markdown",
   "id": "df95eb91",
   "metadata": {},
   "source": [
    "# 3. Generating Class 0 (No Food)"
   ]
  },
  {
   "cell_type": "code",
   "execution_count": 3,
   "id": "f57d14d2",
   "metadata": {},
   "outputs": [
    {
     "data": {
      "application/vnd.jupyter.widget-view+json": {
       "model_id": "a21f620afd7a442bb2d2189e354aa602",
       "version_major": 2,
       "version_minor": 0
      },
      "text/plain": [
       "Copying images to ..\\data\\classif_food_nofood_\\train\\0:   0%|          | 0/16657 [00:00<?, ?it/s]"
      ]
     },
     "metadata": {},
     "output_type": "display_data"
    },
    {
     "data": {
      "application/vnd.jupyter.widget-view+json": {
       "model_id": "8955d51521d545bf9e45676e13b1b85e",
       "version_major": 2,
       "version_minor": 0
      },
      "text/plain": [
       "Copying images to ..\\data\\classif_food_nofood_\\test\\0:   0%|          | 0/5553 [00:00<?, ?it/s]"
      ]
     },
     "metadata": {},
     "output_type": "display_data"
    }
   ],
   "source": [
    "# Perform the traint-test split operation for class0 (no food)\n",
    "df_train = pd.DataFrame(paths_train_0, columns=[\"path\"])\n",
    "df_test = pd.DataFrame(paths_test_0, columns=[\"path\"])\n",
    "df_train_train, df_training_test = train_test_split(df_train, test_size=TRAIN_TEST_SPLIT, random_state=SEED)\n",
    "df_test_train, df_test_test = train_test_split(df_test, test_size=TRAIN_TEST_SPLIT, random_state=SEED)\n",
    "df_train = pd.concat([df_train_train, df_test_train])\n",
    "df_test = pd.concat([df_training_test, df_test_test])\n",
    "\n",
    "def copy_images(df, target_dir):\n",
    "    \"\"\"\n",
    "    Copies images from their source paths to a target directory.\n",
    "\n",
    "    Args:\n",
    "        df (pd.DataFrame): DataFrame containing the paths of images to copy.\n",
    "        target_dir (str): Directory where images will be copied.\n",
    "    \"\"\"\n",
    "    os.makedirs(target_dir, exist_ok=True)  # Ensure the target directory exists\n",
    "\n",
    "    for src_path in tqdm(df[\"path\"], desc=f\"Copying images to {target_dir}\"):\n",
    "        if os.path.isfile(src_path):\n",
    "            dst_path = os.path.join(target_dir, os.path.basename(src_path))\n",
    "            shutil.copy2(src_path, dst_path)  # Preserve metadata while copying\n",
    "        else:\n",
    "            print(f\"[WARNING] File not found: {src_path}\")\n",
    "\n",
    "# Copy images for train and test\n",
    "copy_images(df_train, ROOT_TRAIN_DIR_0)\n",
    "copy_images(df_test, ROOT_TEST_DIR_0)"
   ]
  },
  {
   "cell_type": "markdown",
   "id": "a578939b",
   "metadata": {},
   "source": [
    "# 4. Generating Class 1 (Food)"
   ]
  },
  {
   "cell_type": "code",
   "execution_count": 4,
   "id": "9c13651c",
   "metadata": {},
   "outputs": [],
   "source": [
    "# Subsample class 1 (food) to make the dataset completely balanced\n",
    "num_train_samples_0 = df_train.shape[0]\n",
    "num_test_samples_0 = df_test.shape[0]\n",
    "\n",
    "paths_train_1 = random.sample(paths_train_1, num_train_samples_0)\n",
    "paths_test_1 = random.sample(paths_test_1, num_test_samples_0)"
   ]
  },
  {
   "cell_type": "code",
   "execution_count": 5,
   "id": "fbf73ed2",
   "metadata": {},
   "outputs": [
    {
     "name": "stdout",
     "output_type": "stream",
     "text": [
      "Length train samples for class 0 (no food): 16657\n",
      "Length train samples for class 1 (food): 16657\n",
      "Length test samples for class 0 (no food): 5553\n",
      "Length test samples for class 1 (food): 5553\n"
     ]
    }
   ],
   "source": [
    "print(f\"Length train samples for class 0 (no food): {num_train_samples_0}\")\n",
    "print(f\"Length train samples for class 1 (food): {len(paths_train_1)}\")\n",
    "print(f\"Length test samples for class 0 (no food): {num_test_samples_0}\")\n",
    "print(f\"Length test samples for class 1 (food): {len(paths_test_1)}\")"
   ]
  },
  {
   "cell_type": "code",
   "execution_count": 6,
   "id": "518097ef",
   "metadata": {},
   "outputs": [
    {
     "data": {
      "application/vnd.jupyter.widget-view+json": {
       "model_id": "ac91212b3a5641389bfbcf9fe5dee237",
       "version_major": 2,
       "version_minor": 0
      },
      "text/plain": [
       "Copying images to ..\\data\\classif_food_nofood_\\train\\1:   0%|          | 0/16657 [00:00<?, ?it/s]"
      ]
     },
     "metadata": {},
     "output_type": "display_data"
    },
    {
     "data": {
      "application/vnd.jupyter.widget-view+json": {
       "model_id": "36ed5ca5ef1e4daeaf4957d40fded20b",
       "version_major": 2,
       "version_minor": 0
      },
      "text/plain": [
       "Copying images to ..\\data\\classif_food_nofood_\\test\\1:   0%|          | 0/5553 [00:00<?, ?it/s]"
      ]
     },
     "metadata": {},
     "output_type": "display_data"
    }
   ],
   "source": [
    "# Copy images for train and test\n",
    "df_train = pd.DataFrame(paths_train_1, columns=[\"path\"])\n",
    "df_test = pd.DataFrame(paths_test_1, columns=[\"path\"])\n",
    "copy_images(df_train, ROOT_TRAIN_DIR_1)\n",
    "copy_images(df_test, ROOT_TEST_DIR_1)"
   ]
  }
 ],
 "metadata": {
  "kernelspec": {
   "display_name": ".venv_pytorch_gpu",
   "language": "python",
   "name": "python3"
  },
  "language_info": {
   "codemirror_mode": {
    "name": "ipython",
    "version": 3
   },
   "file_extension": ".py",
   "mimetype": "text/x-python",
   "name": "python",
   "nbconvert_exporter": "python",
   "pygments_lexer": "ipython3",
   "version": "3.11.10"
  }
 },
 "nbformat": 4,
 "nbformat_minor": 5
}
