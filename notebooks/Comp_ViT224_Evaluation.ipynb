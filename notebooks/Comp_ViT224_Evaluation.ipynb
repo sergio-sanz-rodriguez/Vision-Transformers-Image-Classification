{
 "cells": [
  {
   "cell_type": "markdown",
   "id": "371977ad",
   "metadata": {
    "papermill": {
     "duration": 0.00389,
     "end_time": "2025-01-20T22:12:38.949388",
     "exception": false,
     "start_time": "2025-01-20T22:12:38.945498",
     "status": "completed"
    },
    "tags": []
   },
   "source": [
    "# 1. Introduction\n",
    "\n",
    "This notebook focuses on evaluating the ViT/16-224 model derived from Comp_ViT224_Modeling notebook."
   ]
  },
  {
   "cell_type": "markdown",
   "id": "d6555499",
   "metadata": {
    "papermill": {
     "duration": 0.004007,
     "end_time": "2025-01-20T22:12:38.957395",
     "exception": false,
     "start_time": "2025-01-20T22:12:38.953388",
     "status": "completed"
    },
    "tags": []
   },
   "source": [
    "# 2. Importing Libraries"
   ]
  },
  {
   "cell_type": "code",
   "execution_count": 1,
   "id": "4ea443bb-470a-47e5-8f4d-341abf4e4d6f",
   "metadata": {
    "execution": {
     "iopub.execute_input": "2025-01-20T22:12:38.966387Z",
     "iopub.status.busy": "2025-01-20T22:12:38.966387Z",
     "iopub.status.idle": "2025-01-20T22:12:50.803749Z",
     "shell.execute_reply": "2025-01-20T22:12:50.803749Z"
    },
    "papermill": {
     "duration": 11.844396,
     "end_time": "2025-01-20T22:12:50.805800",
     "exception": false,
     "start_time": "2025-01-20T22:12:38.961404",
     "status": "completed"
    },
    "tags": []
   },
   "outputs": [],
   "source": [
    "import os\n",
    "import matplotlib.pyplot as plt\n",
    "import pandas as pd\n",
    "import numpy as np\n",
    "import torch\n",
    "import seaborn as sns\n",
    "import torchvision\n",
    "\n",
    "from torch import nn\n",
    "from torchvision.transforms import v2\n",
    "from pathlib import Path\n",
    "\n",
    "from modules.helper_functions import set_seeds, get_most_wrong_examples, load_model\n",
    "from modules.dataloaders import create_dataloaders\n",
    "from modules.engine import predict_and_store, Trainer, sec_to_min_sec\n",
    "from modules.vision_transformer import ViT\n",
    "\n",
    "# Define some constants\n",
    "NUM_WORKERS = os.cpu_count()\n",
    "BATCH_SIZE = 64\n",
    "AMOUNT_TO_GET = 1.0\n",
    "SEED = 42\n",
    "\n",
    "# Define target data directory\n",
    "target_dir_name = f\"../data/food-101_{str(int(AMOUNT_TO_GET*100))}_percent\"\n",
    "\n",
    "# Setup training and test directories\n",
    "target_dir = Path(target_dir_name)\n",
    "train_dir = target_dir / \"train\"\n",
    "test_dir = target_dir / \"test\"\n",
    "target_dir.mkdir(parents=True, exist_ok=True)\n",
    "\n",
    "# Create target model directory\n",
    "model_dir = Path(\"../models\")\n",
    "\n",
    "# Set seeds\n",
    "set_seeds(SEED)"
   ]
  },
  {
   "cell_type": "code",
   "execution_count": 2,
   "id": "cb3007a5",
   "metadata": {
    "execution": {
     "iopub.execute_input": "2025-01-20T22:12:50.814782Z",
     "iopub.status.busy": "2025-01-20T22:12:50.814782Z",
     "iopub.status.idle": "2025-01-20T22:12:50.821607Z",
     "shell.execute_reply": "2025-01-20T22:12:50.821159Z"
    },
    "papermill": {
     "duration": 0.012857,
     "end_time": "2025-01-20T22:12:50.822643",
     "exception": false,
     "start_time": "2025-01-20T22:12:50.809786",
     "status": "completed"
    },
    "tags": []
   },
   "outputs": [
    {
     "data": {
      "text/plain": [
       "'cuda'"
      ]
     },
     "execution_count": 2,
     "metadata": {},
     "output_type": "execute_result"
    }
   ],
   "source": [
    "# Set device\n",
    "device = \"cuda\" if torch.cuda.is_available() else \"cpu\"\n",
    "device"
   ]
  },
  {
   "cell_type": "markdown",
   "id": "350701ec-c5f9-4809-884c-69a5dcf97ceb",
   "metadata": {
    "papermill": {
     "duration": 0.003012,
     "end_time": "2025-01-20T22:12:50.829647",
     "exception": false,
     "start_time": "2025-01-20T22:12:50.826635",
     "status": "completed"
    },
    "tags": []
   },
   "source": [
    "# 2. Creating Dataloaders"
   ]
  },
  {
   "cell_type": "code",
   "execution_count": 3,
   "id": "d3d7dc2d",
   "metadata": {
    "execution": {
     "iopub.execute_input": "2025-01-20T22:12:50.838613Z",
     "iopub.status.busy": "2025-01-20T22:12:50.837643Z",
     "iopub.status.idle": "2025-01-20T22:12:50.842881Z",
     "shell.execute_reply": "2025-01-20T22:12:50.842881Z"
    },
    "papermill": {
     "duration": 0.011262,
     "end_time": "2025-01-20T22:12:50.844887",
     "exception": false,
     "start_time": "2025-01-20T22:12:50.833625",
     "status": "completed"
    },
    "tags": []
   },
   "outputs": [],
   "source": [
    "# Create transforms\n",
    "IMG_SIZE_1 = 256\n",
    "IMG_SIZE_2 = 224\n",
    "manual_transforms_train = v2.Compose([    \n",
    "    v2.TrivialAugmentWide(),\n",
    "    v2.Resize((IMG_SIZE_1, IMG_SIZE_1)),\n",
    "    v2.RandomCrop((IMG_SIZE_2, IMG_SIZE_2)),    \n",
    "    v2.ToImage(),\n",
    "    v2.ToDtype(torch.float32, scale=True),\n",
    "    v2.Normalize(mean=[0.485, 0.456, 0.406],\n",
    "                std=[0.229, 0.224, 0.225]) \n",
    "    ])\n",
    "\n",
    "manual_transforms_test = v2.Compose([    \n",
    "    v2.Resize((IMG_SIZE_1, IMG_SIZE_1)),\n",
    "    v2.CenterCrop((IMG_SIZE_2, IMG_SIZE_2)),    \n",
    "    v2.ToImage(),\n",
    "    v2.ToDtype(torch.float32, scale=True),\n",
    "    v2.Normalize(mean=[0.485, 0.456, 0.406],\n",
    "                std=[0.229, 0.224, 0.225]) \n",
    "    ])"
   ]
  },
  {
   "cell_type": "code",
   "execution_count": 4,
   "id": "2d6ef570",
   "metadata": {
    "execution": {
     "iopub.execute_input": "2025-01-20T22:12:50.854886Z",
     "iopub.status.busy": "2025-01-20T22:12:50.854886Z",
     "iopub.status.idle": "2025-01-20T22:12:53.786009Z",
     "shell.execute_reply": "2025-01-20T22:12:53.786009Z"
    },
    "papermill": {
     "duration": 2.939164,
     "end_time": "2025-01-20T22:12:53.788054",
     "exception": false,
     "start_time": "2025-01-20T22:12:50.848890",
     "status": "completed"
    },
    "tags": []
   },
   "outputs": [],
   "source": [
    "# Create dataloaders\n",
    "train_dataloader, test_dataloader, class_names = create_dataloaders(    \n",
    "    train_dir=train_dir,\n",
    "    test_dir=test_dir,\n",
    "    train_transform=manual_transforms_train,\n",
    "    test_transform=manual_transforms_test,\n",
    "    batch_size=BATCH_SIZE,\n",
    "    num_workers=NUM_WORKERS\n",
    ")"
   ]
  },
  {
   "cell_type": "markdown",
   "id": "bdf31b74",
   "metadata": {
    "papermill": {
     "duration": 0.006001,
     "end_time": "2025-01-20T22:12:53.800055",
     "exception": false,
     "start_time": "2025-01-20T22:12:53.794054",
     "status": "completed"
    },
    "tags": []
   },
   "source": [
    "# 3. Evaluating ViT-Base/16-384 with 102 Classes\n",
    "\n",
    "The model will be evaluated using the test dataset with the following metrics: accuracy, loss, model size (MB), average prediction time per image (sec), and average predited images per second (frames/sec)"
   ]
  },
  {
   "cell_type": "code",
   "execution_count": 5,
   "id": "6c9eb6c1",
   "metadata": {
    "execution": {
     "iopub.execute_input": "2025-01-20T22:12:53.814055Z",
     "iopub.status.busy": "2025-01-20T22:12:53.814055Z",
     "iopub.status.idle": "2025-01-20T22:12:59.453433Z",
     "shell.execute_reply": "2025-01-20T22:12:59.453433Z"
    },
    "papermill": {
     "duration": 5.648386,
     "end_time": "2025-01-20T22:12:59.455439",
     "exception": false,
     "start_time": "2025-01-20T22:12:53.807053",
     "status": "completed"
    },
    "tags": []
   },
   "outputs": [
    {
     "name": "stderr",
     "output_type": "stream",
     "text": [
      "c:\\Users\\ssre_\\.conda\\envs\\.venv_pytorch_gpu\\Lib\\site-packages\\onnxscript\\converter.py:820: FutureWarning: 'onnxscript.values.Op.param_schemas' is deprecated in version 0.1 and will be removed in the future. Please use '.op_signature' instead.\n",
      "  param_schemas = callee.param_schemas()\n",
      "c:\\Users\\ssre_\\.conda\\envs\\.venv_pytorch_gpu\\Lib\\site-packages\\onnxscript\\converter.py:820: FutureWarning: 'onnxscript.values.OnnxFunction.param_schemas' is deprecated in version 0.1 and will be removed in the future. Please use '.op_signature' instead.\n",
      "  param_schemas = callee.param_schemas()\n"
     ]
    },
    {
     "name": "stdout",
     "output_type": "stream",
     "text": [
      "[INFO] Loading model from: ..\\models\\vitb224_101_2025-01-19.pth\n"
     ]
    }
   ],
   "source": [
    "# Train the model\n",
    "model_type=\"vitb224_101_2025-01-19\"\n",
    "model_name = model_type + \".pth\"\n",
    "results_df = model_type + \".csv\"\n",
    "\n",
    "# Copy weights from torchvision.models\n",
    "set_seeds(SEED)\n",
    "\n",
    "# Instantiate the model\n",
    "model = torchvision.models.vit_b_16(weights=torchvision.models.ViT_B_16_Weights.DEFAULT).to(device)\n",
    "model.heads = nn.Linear(in_features=768, out_features=len(class_names)).to(device)\n",
    "\n",
    "# Compile model\n",
    "model = torch.compile(model, backend=\"aot_eager\")\n",
    "\n",
    "# Load the trained weights\n",
    "model = load_model(model=model,\n",
    "                   model_weights_dir=model_dir,\n",
    "                   model_weights_name=model_name)\n",
    "\n",
    "# Load the training results\n",
    "results = pd.read_csv(os.path.join(model_dir, results_df))"
   ]
  },
  {
   "cell_type": "markdown",
   "id": "ce7e6942",
   "metadata": {
    "papermill": {
     "duration": 0.003999,
     "end_time": "2025-01-20T22:12:59.463439",
     "exception": false,
     "start_time": "2025-01-20T22:12:59.459440",
     "status": "completed"
    },
    "tags": []
   },
   "source": [
    "## 3.1 Making Predictions on the CPU: Intel Core i9-9900K@3.60GHz"
   ]
  },
  {
   "cell_type": "code",
   "execution_count": 6,
   "id": "2fed6aa6",
   "metadata": {
    "execution": {
     "iopub.execute_input": "2025-01-20T22:12:59.472441Z",
     "iopub.status.busy": "2025-01-20T22:12:59.471442Z",
     "iopub.status.idle": "2025-01-20T23:02:52.691251Z",
     "shell.execute_reply": "2025-01-20T23:02:52.690749Z"
    },
    "papermill": {
     "duration": 2993.226815,
     "end_time": "2025-01-20T23:02:52.693253",
     "exception": false,
     "start_time": "2025-01-20T22:12:59.466438",
     "status": "completed"
    },
    "tags": []
   },
   "outputs": [
    {
     "name": "stdout",
     "output_type": "stream",
     "text": [
      "[INFO] Finding all filepaths ending with '.jpg' in directory: ..\\data\\food-101_100_percent\\test\n"
     ]
    },
    {
     "data": {
      "application/vnd.jupyter.widget-view+json": {
       "model_id": "e68868488b2c4cd0932e958c21bdebea",
       "version_major": 2,
       "version_minor": 0
      },
      "text/plain": [
       "  0%|          | 0/25250 [00:00<?, ?it/s]"
      ]
     },
     "metadata": {},
     "output_type": "display_data"
    }
   ],
   "source": [
    "# Make predictions on the CPU to compute the average prediction time per image\n",
    "pred_list_cpu, classif_report_cpu = Trainer(\n",
    "    model=model,\n",
    "    device=\"cpu\"\n",
    "    ).predict_and_store(\n",
    "        test_dir=test_dir,\n",
    "        transform=manual_transforms_test,\n",
    "        class_names=class_names,\n",
    "        )"
   ]
  },
  {
   "cell_type": "markdown",
   "id": "12aae589",
   "metadata": {
    "papermill": {
     "duration": 0.005004,
     "end_time": "2025-01-20T23:02:52.702259",
     "exception": false,
     "start_time": "2025-01-20T23:02:52.697255",
     "status": "completed"
    },
    "tags": []
   },
   "source": [
    "## 3.2 Making Predictions on the GPU: NVIDIA GeForce RTX 4070"
   ]
  },
  {
   "cell_type": "code",
   "execution_count": 7,
   "id": "23d4abe0",
   "metadata": {
    "execution": {
     "iopub.execute_input": "2025-01-20T23:02:52.712257Z",
     "iopub.status.busy": "2025-01-20T23:02:52.711259Z",
     "iopub.status.idle": "2025-01-20T23:12:08.962370Z",
     "shell.execute_reply": "2025-01-20T23:12:08.962370Z"
    },
    "papermill": {
     "duration": 556.25715,
     "end_time": "2025-01-20T23:12:08.964410",
     "exception": false,
     "start_time": "2025-01-20T23:02:52.707260",
     "status": "completed"
    },
    "tags": []
   },
   "outputs": [
    {
     "name": "stdout",
     "output_type": "stream",
     "text": [
      "[INFO] Finding all filepaths ending with '.jpg' in directory: ..\\data\\food-101_100_percent\\test\n"
     ]
    },
    {
     "data": {
      "application/vnd.jupyter.widget-view+json": {
       "model_id": "78073a66742445a49463f0225c697e09",
       "version_major": 2,
       "version_minor": 0
      },
      "text/plain": [
       "  0%|          | 0/25250 [00:00<?, ?it/s]"
      ]
     },
     "metadata": {},
     "output_type": "display_data"
    }
   ],
   "source": [
    "# Make predictions on the GPU to compute the average prediction time per image\n",
    "from modules.engine import Trainer\n",
    "pred_list_gpu, classif_report_gpu = Trainer(\n",
    "    model=model,\n",
    "    device=device\n",
    "    ).predict_and_store(\n",
    "        test_dir=test_dir,\n",
    "        transform=manual_transforms_test,\n",
    "        class_names=class_names\n",
    "    )"
   ]
  },
  {
   "cell_type": "markdown",
   "id": "388f4d3e",
   "metadata": {
    "papermill": {
     "duration": 0.00497,
     "end_time": "2025-01-20T23:12:08.973376",
     "exception": false,
     "start_time": "2025-01-20T23:12:08.968406",
     "status": "completed"
    },
    "tags": []
   },
   "source": [
    "## 3.3. Collecting Data"
   ]
  },
  {
   "cell_type": "code",
   "execution_count": 8,
   "id": "897486c8",
   "metadata": {
    "execution": {
     "iopub.execute_input": "2025-01-20T23:12:08.982378Z",
     "iopub.status.busy": "2025-01-20T23:12:08.982378Z",
     "iopub.status.idle": "2025-01-20T23:12:09.049244Z",
     "shell.execute_reply": "2025-01-20T23:12:09.049244Z"
    },
    "papermill": {
     "duration": 0.073868,
     "end_time": "2025-01-20T23:12:09.051247",
     "exception": false,
     "start_time": "2025-01-20T23:12:08.977379",
     "status": "completed"
    },
    "tags": []
   },
   "outputs": [
    {
     "data": {
      "text/html": [
       "<div>\n",
       "<style scoped>\n",
       "    .dataframe tbody tr th:only-of-type {\n",
       "        vertical-align: middle;\n",
       "    }\n",
       "\n",
       "    .dataframe tbody tr th {\n",
       "        vertical-align: top;\n",
       "    }\n",
       "\n",
       "    .dataframe thead th {\n",
       "        text-align: right;\n",
       "    }\n",
       "</style>\n",
       "<table border=\"1\" class=\"dataframe\">\n",
       "  <thead>\n",
       "    <tr style=\"text-align: right;\">\n",
       "      <th></th>\n",
       "      <th>Metric</th>\n",
       "      <th>Value</th>\n",
       "    </tr>\n",
       "  </thead>\n",
       "  <tbody>\n",
       "    <tr>\n",
       "      <th>0</th>\n",
       "      <td>Model Name</td>\n",
       "      <td>vitb224_101_2025-01-19.pth</td>\n",
       "    </tr>\n",
       "    <tr>\n",
       "      <th>1</th>\n",
       "      <td>Test Acc</td>\n",
       "      <td>0.8806</td>\n",
       "    </tr>\n",
       "    <tr>\n",
       "      <th>2</th>\n",
       "      <td>Test los</td>\n",
       "      <td>1.1962</td>\n",
       "    </tr>\n",
       "    <tr>\n",
       "      <th>3</th>\n",
       "      <td>Model Size [MB]</td>\n",
       "      <td>327</td>\n",
       "    </tr>\n",
       "    <tr>\n",
       "      <th>4</th>\n",
       "      <td>No Params [Million]</td>\n",
       "      <td>85.88</td>\n",
       "    </tr>\n",
       "    <tr>\n",
       "      <th>5</th>\n",
       "      <td>CPU: Prediction Time - Mean [s]</td>\n",
       "      <td>0.118</td>\n",
       "    </tr>\n",
       "    <tr>\n",
       "      <th>6</th>\n",
       "      <td>CPU: Predicted Images per Sec [fps]</td>\n",
       "      <td>8.4746</td>\n",
       "    </tr>\n",
       "    <tr>\n",
       "      <th>7</th>\n",
       "      <td>GPU: Prediction Time - Mean [s]</td>\n",
       "      <td>0.0219</td>\n",
       "    </tr>\n",
       "    <tr>\n",
       "      <th>8</th>\n",
       "      <td>GPU: Predicted Images per Sec [fps]</td>\n",
       "      <td>45.6621</td>\n",
       "    </tr>\n",
       "    <tr>\n",
       "      <th>9</th>\n",
       "      <td>GPU: Training time</td>\n",
       "      <td>7m33s</td>\n",
       "    </tr>\n",
       "  </tbody>\n",
       "</table>\n",
       "</div>"
      ],
      "text/plain": [
       "                                Metric                       Value\n",
       "0                           Model Name  vitb224_101_2025-01-19.pth\n",
       "1                             Test Acc                      0.8806\n",
       "2                             Test los                      1.1962\n",
       "3                      Model Size [MB]                         327\n",
       "4                  No Params [Million]                       85.88\n",
       "5      CPU: Prediction Time - Mean [s]                       0.118\n",
       "6  CPU: Predicted Images per Sec [fps]                      8.4746\n",
       "7      GPU: Prediction Time - Mean [s]                      0.0219\n",
       "8  GPU: Predicted Images per Sec [fps]                     45.6621\n",
       "9                   GPU: Training time                       7m33s"
      ]
     },
     "execution_count": 8,
     "metadata": {},
     "output_type": "execute_result"
    }
   ],
   "source": [
    "# Create a dictionary with the results for this model, in terms \n",
    "dict = {}\n",
    "dict['Model Name'] = model_name\n",
    "dict['Test Acc'] = round(results['test_acc'].iloc[-1], 4)\n",
    "dict['Test los'] = round(results['test_loss'].iloc[-1], 4)\n",
    "dict['Model Size [MB]'] = round(Path(os.path.join(model_dir, model_name)).stat().st_size // (1024*1024), 2)\n",
    "dict['No Params [Million]'] = round(sum(p.numel() for p in model.parameters()) / 1000000, 2)\n",
    "dict['CPU: Prediction Time - Mean [s]'] = round(pd.DataFrame(pred_list_cpu)['time_for_pred'].mean(), 4)\n",
    "dict['CPU: Predicted Images per Sec [fps]'] = round(1.0 / dict['CPU: Prediction Time - Mean [s]'], 4)\n",
    "dict['GPU: Prediction Time - Mean [s]'] = round(pd.DataFrame(pred_list_gpu)['time_for_pred'].mean(), 4)\n",
    "dict['GPU: Predicted Images per Sec [fps]'] = round(1.0 / dict['GPU: Prediction Time - Mean [s]'], 4)\n",
    "dict['GPU: Training time'] = sec_to_min_sec(results[\"train_time [s]\"].mean() + results[\"test_time [s]\"].mean())\n",
    "\n",
    "# Convert to dataframe\n",
    "df = pd.DataFrame.from_dict(dict, orient=\"index\").reset_index()\n",
    "df.columns = ['Metric', 'Value']\n",
    "df"
   ]
  }
 ],
 "metadata": {
  "kernelspec": {
   "display_name": ".venv_pytorch_gpu",
   "language": "python",
   "name": "python3"
  },
  "language_info": {
   "codemirror_mode": {
    "name": "ipython",
    "version": 3
   },
   "file_extension": ".py",
   "mimetype": "text/x-python",
   "name": "python",
   "nbconvert_exporter": "python",
   "pygments_lexer": "ipython3",
   "version": "3.11.10"
  },
  "papermill": {
   "default_parameters": {},
   "duration": 3572.967163,
   "end_time": "2025-01-20T23:12:10.590858",
   "environment_variables": {},
   "exception": null,
   "input_path": "Comp_ViT224_Evaluation.ipynb",
   "output_path": "Comp_ViT224_Evaluation.ipynb",
   "parameters": {},
   "start_time": "2025-01-20T22:12:37.623695",
   "version": "2.6.0"
  },
  "widgets": {
   "application/vnd.jupyter.widget-state+json": {
    "state": {
     "00c795c02e344982833454eb6864d17a": {
      "model_module": "@jupyter-widgets/base",
      "model_module_version": "2.0.0",
      "model_name": "LayoutModel",
      "state": {
       "_model_module": "@jupyter-widgets/base",
       "_model_module_version": "2.0.0",
       "_model_name": "LayoutModel",
       "_view_count": null,
       "_view_module": "@jupyter-widgets/base",
       "_view_module_version": "2.0.0",
       "_view_name": "LayoutView",
       "align_content": null,
       "align_items": null,
       "align_self": null,
       "border_bottom": null,
       "border_left": null,
       "border_right": null,
       "border_top": null,
       "bottom": null,
       "display": null,
       "flex": null,
       "flex_flow": null,
       "grid_area": null,
       "grid_auto_columns": null,
       "grid_auto_flow": null,
       "grid_auto_rows": null,
       "grid_column": null,
       "grid_gap": null,
       "grid_row": null,
       "grid_template_areas": null,
       "grid_template_columns": null,
       "grid_template_rows": null,
       "height": null,
       "justify_content": null,
       "justify_items": null,
       "left": null,
       "margin": null,
       "max_height": null,
       "max_width": null,
       "min_height": null,
       "min_width": null,
       "object_fit": null,
       "object_position": null,
       "order": null,
       "overflow": null,
       "padding": null,
       "right": null,
       "top": null,
       "visibility": null,
       "width": null
      }
     },
     "0e432069fb6045dcb7286d5ec178bba7": {
      "model_module": "@jupyter-widgets/controls",
      "model_module_version": "2.0.0",
      "model_name": "HTMLModel",
      "state": {
       "_dom_classes": [],
       "_model_module": "@jupyter-widgets/controls",
       "_model_module_version": "2.0.0",
       "_model_name": "HTMLModel",
       "_view_count": null,
       "_view_module": "@jupyter-widgets/controls",
       "_view_module_version": "2.0.0",
       "_view_name": "HTMLView",
       "description": "",
       "description_allow_html": false,
       "layout": "IPY_MODEL_1ccc2e8e937e45c8bfab41918dc98427",
       "placeholder": "​",
       "style": "IPY_MODEL_bfc9ba68635c434d8205430b46f20fbb",
       "tabbable": null,
       "tooltip": null,
       "value": "100%"
      }
     },
     "11b02a2680a94f5a8ce4466d72acae7b": {
      "model_module": "@jupyter-widgets/base",
      "model_module_version": "2.0.0",
      "model_name": "LayoutModel",
      "state": {
       "_model_module": "@jupyter-widgets/base",
       "_model_module_version": "2.0.0",
       "_model_name": "LayoutModel",
       "_view_count": null,
       "_view_module": "@jupyter-widgets/base",
       "_view_module_version": "2.0.0",
       "_view_name": "LayoutView",
       "align_content": null,
       "align_items": null,
       "align_self": null,
       "border_bottom": null,
       "border_left": null,
       "border_right": null,
       "border_top": null,
       "bottom": null,
       "display": null,
       "flex": null,
       "flex_flow": null,
       "grid_area": null,
       "grid_auto_columns": null,
       "grid_auto_flow": null,
       "grid_auto_rows": null,
       "grid_column": null,
       "grid_gap": null,
       "grid_row": null,
       "grid_template_areas": null,
       "grid_template_columns": null,
       "grid_template_rows": null,
       "height": null,
       "justify_content": null,
       "justify_items": null,
       "left": null,
       "margin": null,
       "max_height": null,
       "max_width": null,
       "min_height": null,
       "min_width": null,
       "object_fit": null,
       "object_position": null,
       "order": null,
       "overflow": null,
       "padding": null,
       "right": null,
       "top": null,
       "visibility": null,
       "width": null
      }
     },
     "11c2b34961e04b74a187b1349b1d6529": {
      "model_module": "@jupyter-widgets/controls",
      "model_module_version": "2.0.0",
      "model_name": "HTMLModel",
      "state": {
       "_dom_classes": [],
       "_model_module": "@jupyter-widgets/controls",
       "_model_module_version": "2.0.0",
       "_model_name": "HTMLModel",
       "_view_count": null,
       "_view_module": "@jupyter-widgets/controls",
       "_view_module_version": "2.0.0",
       "_view_name": "HTMLView",
       "description": "",
       "description_allow_html": false,
       "layout": "IPY_MODEL_00c795c02e344982833454eb6864d17a",
       "placeholder": "​",
       "style": "IPY_MODEL_5188ea81139e4bb198c418dd10b9e5d6",
       "tabbable": null,
       "tooltip": null,
       "value": "100%"
      }
     },
     "1ccc2e8e937e45c8bfab41918dc98427": {
      "model_module": "@jupyter-widgets/base",
      "model_module_version": "2.0.0",
      "model_name": "LayoutModel",
      "state": {
       "_model_module": "@jupyter-widgets/base",
       "_model_module_version": "2.0.0",
       "_model_name": "LayoutModel",
       "_view_count": null,
       "_view_module": "@jupyter-widgets/base",
       "_view_module_version": "2.0.0",
       "_view_name": "LayoutView",
       "align_content": null,
       "align_items": null,
       "align_self": null,
       "border_bottom": null,
       "border_left": null,
       "border_right": null,
       "border_top": null,
       "bottom": null,
       "display": null,
       "flex": null,
       "flex_flow": null,
       "grid_area": null,
       "grid_auto_columns": null,
       "grid_auto_flow": null,
       "grid_auto_rows": null,
       "grid_column": null,
       "grid_gap": null,
       "grid_row": null,
       "grid_template_areas": null,
       "grid_template_columns": null,
       "grid_template_rows": null,
       "height": null,
       "justify_content": null,
       "justify_items": null,
       "left": null,
       "margin": null,
       "max_height": null,
       "max_width": null,
       "min_height": null,
       "min_width": null,
       "object_fit": null,
       "object_position": null,
       "order": null,
       "overflow": null,
       "padding": null,
       "right": null,
       "top": null,
       "visibility": null,
       "width": null
      }
     },
     "2c3023d1718c4549b95b90471597c260": {
      "model_module": "@jupyter-widgets/controls",
      "model_module_version": "2.0.0",
      "model_name": "HTMLModel",
      "state": {
       "_dom_classes": [],
       "_model_module": "@jupyter-widgets/controls",
       "_model_module_version": "2.0.0",
       "_model_name": "HTMLModel",
       "_view_count": null,
       "_view_module": "@jupyter-widgets/controls",
       "_view_module_version": "2.0.0",
       "_view_name": "HTMLView",
       "description": "",
       "description_allow_html": false,
       "layout": "IPY_MODEL_4c1e39d07ca54ee6ab48481e4c4b907f",
       "placeholder": "​",
       "style": "IPY_MODEL_9680778f661f42eea23c5d43a41f35c4",
       "tabbable": null,
       "tooltip": null,
       "value": " 25250/25250 [09:15&lt;00:00, 46.35it/s]"
      }
     },
     "306664a137454e638acb899a58697aef": {
      "model_module": "@jupyter-widgets/controls",
      "model_module_version": "2.0.0",
      "model_name": "HTMLModel",
      "state": {
       "_dom_classes": [],
       "_model_module": "@jupyter-widgets/controls",
       "_model_module_version": "2.0.0",
       "_model_name": "HTMLModel",
       "_view_count": null,
       "_view_module": "@jupyter-widgets/controls",
       "_view_module_version": "2.0.0",
       "_view_name": "HTMLView",
       "description": "",
       "description_allow_html": false,
       "layout": "IPY_MODEL_481bb1059bfc42fb9d27ba5ac2fd69df",
       "placeholder": "​",
       "style": "IPY_MODEL_5b1c38eaeb264e8e930af1099828b98b",
       "tabbable": null,
       "tooltip": null,
       "value": " 25250/25250 [49:52&lt;00:00,  8.49it/s]"
      }
     },
     "43c6482f50354f72841fd3d73a2d4fc4": {
      "model_module": "@jupyter-widgets/controls",
      "model_module_version": "2.0.0",
      "model_name": "FloatProgressModel",
      "state": {
       "_dom_classes": [],
       "_model_module": "@jupyter-widgets/controls",
       "_model_module_version": "2.0.0",
       "_model_name": "FloatProgressModel",
       "_view_count": null,
       "_view_module": "@jupyter-widgets/controls",
       "_view_module_version": "2.0.0",
       "_view_name": "ProgressView",
       "bar_style": "success",
       "description": "",
       "description_allow_html": false,
       "layout": "IPY_MODEL_11b02a2680a94f5a8ce4466d72acae7b",
       "max": 25250,
       "min": 0,
       "orientation": "horizontal",
       "style": "IPY_MODEL_77ade167eff4427f8712730fba2a597a",
       "tabbable": null,
       "tooltip": null,
       "value": 25250
      }
     },
     "481bb1059bfc42fb9d27ba5ac2fd69df": {
      "model_module": "@jupyter-widgets/base",
      "model_module_version": "2.0.0",
      "model_name": "LayoutModel",
      "state": {
       "_model_module": "@jupyter-widgets/base",
       "_model_module_version": "2.0.0",
       "_model_name": "LayoutModel",
       "_view_count": null,
       "_view_module": "@jupyter-widgets/base",
       "_view_module_version": "2.0.0",
       "_view_name": "LayoutView",
       "align_content": null,
       "align_items": null,
       "align_self": null,
       "border_bottom": null,
       "border_left": null,
       "border_right": null,
       "border_top": null,
       "bottom": null,
       "display": null,
       "flex": null,
       "flex_flow": null,
       "grid_area": null,
       "grid_auto_columns": null,
       "grid_auto_flow": null,
       "grid_auto_rows": null,
       "grid_column": null,
       "grid_gap": null,
       "grid_row": null,
       "grid_template_areas": null,
       "grid_template_columns": null,
       "grid_template_rows": null,
       "height": null,
       "justify_content": null,
       "justify_items": null,
       "left": null,
       "margin": null,
       "max_height": null,
       "max_width": null,
       "min_height": null,
       "min_width": null,
       "object_fit": null,
       "object_position": null,
       "order": null,
       "overflow": null,
       "padding": null,
       "right": null,
       "top": null,
       "visibility": null,
       "width": null
      }
     },
     "4c1e39d07ca54ee6ab48481e4c4b907f": {
      "model_module": "@jupyter-widgets/base",
      "model_module_version": "2.0.0",
      "model_name": "LayoutModel",
      "state": {
       "_model_module": "@jupyter-widgets/base",
       "_model_module_version": "2.0.0",
       "_model_name": "LayoutModel",
       "_view_count": null,
       "_view_module": "@jupyter-widgets/base",
       "_view_module_version": "2.0.0",
       "_view_name": "LayoutView",
       "align_content": null,
       "align_items": null,
       "align_self": null,
       "border_bottom": null,
       "border_left": null,
       "border_right": null,
       "border_top": null,
       "bottom": null,
       "display": null,
       "flex": null,
       "flex_flow": null,
       "grid_area": null,
       "grid_auto_columns": null,
       "grid_auto_flow": null,
       "grid_auto_rows": null,
       "grid_column": null,
       "grid_gap": null,
       "grid_row": null,
       "grid_template_areas": null,
       "grid_template_columns": null,
       "grid_template_rows": null,
       "height": null,
       "justify_content": null,
       "justify_items": null,
       "left": null,
       "margin": null,
       "max_height": null,
       "max_width": null,
       "min_height": null,
       "min_width": null,
       "object_fit": null,
       "object_position": null,
       "order": null,
       "overflow": null,
       "padding": null,
       "right": null,
       "top": null,
       "visibility": null,
       "width": null
      }
     },
     "5188ea81139e4bb198c418dd10b9e5d6": {
      "model_module": "@jupyter-widgets/controls",
      "model_module_version": "2.0.0",
      "model_name": "HTMLStyleModel",
      "state": {
       "_model_module": "@jupyter-widgets/controls",
       "_model_module_version": "2.0.0",
       "_model_name": "HTMLStyleModel",
       "_view_count": null,
       "_view_module": "@jupyter-widgets/base",
       "_view_module_version": "2.0.0",
       "_view_name": "StyleView",
       "background": null,
       "description_width": "",
       "font_size": null,
       "text_color": null
      }
     },
     "5b1c38eaeb264e8e930af1099828b98b": {
      "model_module": "@jupyter-widgets/controls",
      "model_module_version": "2.0.0",
      "model_name": "HTMLStyleModel",
      "state": {
       "_model_module": "@jupyter-widgets/controls",
       "_model_module_version": "2.0.0",
       "_model_name": "HTMLStyleModel",
       "_view_count": null,
       "_view_module": "@jupyter-widgets/base",
       "_view_module_version": "2.0.0",
       "_view_name": "StyleView",
       "background": null,
       "description_width": "",
       "font_size": null,
       "text_color": null
      }
     },
     "77ade167eff4427f8712730fba2a597a": {
      "model_module": "@jupyter-widgets/controls",
      "model_module_version": "2.0.0",
      "model_name": "ProgressStyleModel",
      "state": {
       "_model_module": "@jupyter-widgets/controls",
       "_model_module_version": "2.0.0",
       "_model_name": "ProgressStyleModel",
       "_view_count": null,
       "_view_module": "@jupyter-widgets/base",
       "_view_module_version": "2.0.0",
       "_view_name": "StyleView",
       "bar_color": null,
       "description_width": ""
      }
     },
     "78073a66742445a49463f0225c697e09": {
      "model_module": "@jupyter-widgets/controls",
      "model_module_version": "2.0.0",
      "model_name": "HBoxModel",
      "state": {
       "_dom_classes": [],
       "_model_module": "@jupyter-widgets/controls",
       "_model_module_version": "2.0.0",
       "_model_name": "HBoxModel",
       "_view_count": null,
       "_view_module": "@jupyter-widgets/controls",
       "_view_module_version": "2.0.0",
       "_view_name": "HBoxView",
       "box_style": "",
       "children": [
        "IPY_MODEL_11c2b34961e04b74a187b1349b1d6529",
        "IPY_MODEL_43c6482f50354f72841fd3d73a2d4fc4",
        "IPY_MODEL_2c3023d1718c4549b95b90471597c260"
       ],
       "layout": "IPY_MODEL_fb6269d39199447aa2917e36ebd3b2c8",
       "tabbable": null,
       "tooltip": null
      }
     },
     "7bc6a6e466f242caa39ef8b6a3e465fb": {
      "model_module": "@jupyter-widgets/controls",
      "model_module_version": "2.0.0",
      "model_name": "ProgressStyleModel",
      "state": {
       "_model_module": "@jupyter-widgets/controls",
       "_model_module_version": "2.0.0",
       "_model_name": "ProgressStyleModel",
       "_view_count": null,
       "_view_module": "@jupyter-widgets/base",
       "_view_module_version": "2.0.0",
       "_view_name": "StyleView",
       "bar_color": null,
       "description_width": ""
      }
     },
     "9001be7192194e279d14023153cbce58": {
      "model_module": "@jupyter-widgets/base",
      "model_module_version": "2.0.0",
      "model_name": "LayoutModel",
      "state": {
       "_model_module": "@jupyter-widgets/base",
       "_model_module_version": "2.0.0",
       "_model_name": "LayoutModel",
       "_view_count": null,
       "_view_module": "@jupyter-widgets/base",
       "_view_module_version": "2.0.0",
       "_view_name": "LayoutView",
       "align_content": null,
       "align_items": null,
       "align_self": null,
       "border_bottom": null,
       "border_left": null,
       "border_right": null,
       "border_top": null,
       "bottom": null,
       "display": null,
       "flex": null,
       "flex_flow": null,
       "grid_area": null,
       "grid_auto_columns": null,
       "grid_auto_flow": null,
       "grid_auto_rows": null,
       "grid_column": null,
       "grid_gap": null,
       "grid_row": null,
       "grid_template_areas": null,
       "grid_template_columns": null,
       "grid_template_rows": null,
       "height": null,
       "justify_content": null,
       "justify_items": null,
       "left": null,
       "margin": null,
       "max_height": null,
       "max_width": null,
       "min_height": null,
       "min_width": null,
       "object_fit": null,
       "object_position": null,
       "order": null,
       "overflow": null,
       "padding": null,
       "right": null,
       "top": null,
       "visibility": null,
       "width": null
      }
     },
     "9680778f661f42eea23c5d43a41f35c4": {
      "model_module": "@jupyter-widgets/controls",
      "model_module_version": "2.0.0",
      "model_name": "HTMLStyleModel",
      "state": {
       "_model_module": "@jupyter-widgets/controls",
       "_model_module_version": "2.0.0",
       "_model_name": "HTMLStyleModel",
       "_view_count": null,
       "_view_module": "@jupyter-widgets/base",
       "_view_module_version": "2.0.0",
       "_view_name": "StyleView",
       "background": null,
       "description_width": "",
       "font_size": null,
       "text_color": null
      }
     },
     "bfc9ba68635c434d8205430b46f20fbb": {
      "model_module": "@jupyter-widgets/controls",
      "model_module_version": "2.0.0",
      "model_name": "HTMLStyleModel",
      "state": {
       "_model_module": "@jupyter-widgets/controls",
       "_model_module_version": "2.0.0",
       "_model_name": "HTMLStyleModel",
       "_view_count": null,
       "_view_module": "@jupyter-widgets/base",
       "_view_module_version": "2.0.0",
       "_view_name": "StyleView",
       "background": null,
       "description_width": "",
       "font_size": null,
       "text_color": null
      }
     },
     "c2dca68288c34bf38c056b0837ad1117": {
      "model_module": "@jupyter-widgets/base",
      "model_module_version": "2.0.0",
      "model_name": "LayoutModel",
      "state": {
       "_model_module": "@jupyter-widgets/base",
       "_model_module_version": "2.0.0",
       "_model_name": "LayoutModel",
       "_view_count": null,
       "_view_module": "@jupyter-widgets/base",
       "_view_module_version": "2.0.0",
       "_view_name": "LayoutView",
       "align_content": null,
       "align_items": null,
       "align_self": null,
       "border_bottom": null,
       "border_left": null,
       "border_right": null,
       "border_top": null,
       "bottom": null,
       "display": null,
       "flex": null,
       "flex_flow": null,
       "grid_area": null,
       "grid_auto_columns": null,
       "grid_auto_flow": null,
       "grid_auto_rows": null,
       "grid_column": null,
       "grid_gap": null,
       "grid_row": null,
       "grid_template_areas": null,
       "grid_template_columns": null,
       "grid_template_rows": null,
       "height": null,
       "justify_content": null,
       "justify_items": null,
       "left": null,
       "margin": null,
       "max_height": null,
       "max_width": null,
       "min_height": null,
       "min_width": null,
       "object_fit": null,
       "object_position": null,
       "order": null,
       "overflow": null,
       "padding": null,
       "right": null,
       "top": null,
       "visibility": null,
       "width": null
      }
     },
     "e68868488b2c4cd0932e958c21bdebea": {
      "model_module": "@jupyter-widgets/controls",
      "model_module_version": "2.0.0",
      "model_name": "HBoxModel",
      "state": {
       "_dom_classes": [],
       "_model_module": "@jupyter-widgets/controls",
       "_model_module_version": "2.0.0",
       "_model_name": "HBoxModel",
       "_view_count": null,
       "_view_module": "@jupyter-widgets/controls",
       "_view_module_version": "2.0.0",
       "_view_name": "HBoxView",
       "box_style": "",
       "children": [
        "IPY_MODEL_0e432069fb6045dcb7286d5ec178bba7",
        "IPY_MODEL_f4f8a83a100b4d62bbf141e0435d3cd3",
        "IPY_MODEL_306664a137454e638acb899a58697aef"
       ],
       "layout": "IPY_MODEL_c2dca68288c34bf38c056b0837ad1117",
       "tabbable": null,
       "tooltip": null
      }
     },
     "f4f8a83a100b4d62bbf141e0435d3cd3": {
      "model_module": "@jupyter-widgets/controls",
      "model_module_version": "2.0.0",
      "model_name": "FloatProgressModel",
      "state": {
       "_dom_classes": [],
       "_model_module": "@jupyter-widgets/controls",
       "_model_module_version": "2.0.0",
       "_model_name": "FloatProgressModel",
       "_view_count": null,
       "_view_module": "@jupyter-widgets/controls",
       "_view_module_version": "2.0.0",
       "_view_name": "ProgressView",
       "bar_style": "success",
       "description": "",
       "description_allow_html": false,
       "layout": "IPY_MODEL_9001be7192194e279d14023153cbce58",
       "max": 25250,
       "min": 0,
       "orientation": "horizontal",
       "style": "IPY_MODEL_7bc6a6e466f242caa39ef8b6a3e465fb",
       "tabbable": null,
       "tooltip": null,
       "value": 25250
      }
     },
     "fb6269d39199447aa2917e36ebd3b2c8": {
      "model_module": "@jupyter-widgets/base",
      "model_module_version": "2.0.0",
      "model_name": "LayoutModel",
      "state": {
       "_model_module": "@jupyter-widgets/base",
       "_model_module_version": "2.0.0",
       "_model_name": "LayoutModel",
       "_view_count": null,
       "_view_module": "@jupyter-widgets/base",
       "_view_module_version": "2.0.0",
       "_view_name": "LayoutView",
       "align_content": null,
       "align_items": null,
       "align_self": null,
       "border_bottom": null,
       "border_left": null,
       "border_right": null,
       "border_top": null,
       "bottom": null,
       "display": null,
       "flex": null,
       "flex_flow": null,
       "grid_area": null,
       "grid_auto_columns": null,
       "grid_auto_flow": null,
       "grid_auto_rows": null,
       "grid_column": null,
       "grid_gap": null,
       "grid_row": null,
       "grid_template_areas": null,
       "grid_template_columns": null,
       "grid_template_rows": null,
       "height": null,
       "justify_content": null,
       "justify_items": null,
       "left": null,
       "margin": null,
       "max_height": null,
       "max_width": null,
       "min_height": null,
       "min_width": null,
       "object_fit": null,
       "object_position": null,
       "order": null,
       "overflow": null,
       "padding": null,
       "right": null,
       "top": null,
       "visibility": null,
       "width": null
      }
     }
    },
    "version_major": 2,
    "version_minor": 0
   }
  }
 },
 "nbformat": 4,
 "nbformat_minor": 5
}
