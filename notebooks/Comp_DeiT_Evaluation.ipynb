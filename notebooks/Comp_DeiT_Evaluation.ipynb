{
 "cells": [
  {
   "cell_type": "markdown",
   "id": "371977ad",
   "metadata": {
    "papermill": {
     "duration": 0.002917,
     "end_time": "2025-01-21T02:55:58.349094",
     "exception": false,
     "start_time": "2025-01-21T02:55:58.346177",
     "status": "completed"
    },
    "tags": []
   },
   "source": [
    "# 1. Introduction\n",
    "\n",
    "This notebook focuses on evaluating the Swin Transformer model derived from Comp_Swin_Modeling notebook."
   ]
  },
  {
   "cell_type": "markdown",
   "id": "d6555499",
   "metadata": {
    "papermill": {
     "duration": 0.002993,
     "end_time": "2025-01-21T02:55:58.354085",
     "exception": false,
     "start_time": "2025-01-21T02:55:58.351092",
     "status": "completed"
    },
    "tags": []
   },
   "source": [
    "# 2. Importing Libraries"
   ]
  },
  {
   "cell_type": "code",
   "execution_count": 1,
   "id": "4ea443bb-470a-47e5-8f4d-341abf4e4d6f",
   "metadata": {
    "execution": {
     "iopub.execute_input": "2025-01-21T02:55:58.360091Z",
     "iopub.status.busy": "2025-01-21T02:55:58.360091Z",
     "iopub.status.idle": "2025-01-21T02:56:05.525474Z",
     "shell.execute_reply": "2025-01-21T02:56:05.525474Z"
    },
    "papermill": {
     "duration": 7.171452,
     "end_time": "2025-01-21T02:56:05.527511",
     "exception": false,
     "start_time": "2025-01-21T02:55:58.356059",
     "status": "completed"
    },
    "tags": []
   },
   "outputs": [],
   "source": [
    "import os\n",
    "import matplotlib.pyplot as plt\n",
    "import pandas as pd\n",
    "import numpy as np\n",
    "import torch\n",
    "import seaborn as sns\n",
    "import torchvision\n",
    "\n",
    "from timm import create_model\n",
    "from torch import nn\n",
    "from torchvision.transforms import v2\n",
    "from pathlib import Path\n",
    "\n",
    "from modules.helper_functions import set_seeds, get_most_wrong_examples, load_model\n",
    "from modules.dataloaders import create_dataloaders\n",
    "from modules.engine import predict_and_store, Trainer, sec_to_min_sec\n",
    "from modules.vision_transformer import ViT\n",
    "\n",
    "# Define some constants\n",
    "NUM_WORKERS = os.cpu_count()\n",
    "BATCH_SIZE = 64\n",
    "AMOUNT_TO_GET = 1.0\n",
    "SEED = 42\n",
    "\n",
    "# Define target data directory\n",
    "target_dir_name = f\"../data/food-101_{str(int(AMOUNT_TO_GET*100))}_percent\"\n",
    "\n",
    "# Setup training and test directories\n",
    "target_dir = Path(target_dir_name)\n",
    "train_dir = target_dir / \"train\"\n",
    "test_dir = target_dir / \"test\"\n",
    "target_dir.mkdir(parents=True, exist_ok=True)\n",
    "\n",
    "# Create target model directory\n",
    "model_dir = Path(\"../models\")\n",
    "\n",
    "# Set seeds\n",
    "set_seeds(SEED)"
   ]
  },
  {
   "cell_type": "code",
   "execution_count": 2,
   "id": "cb3007a5",
   "metadata": {
    "execution": {
     "iopub.execute_input": "2025-01-21T02:56:05.533481Z",
     "iopub.status.busy": "2025-01-21T02:56:05.533481Z",
     "iopub.status.idle": "2025-01-21T02:56:05.539581Z",
     "shell.execute_reply": "2025-01-21T02:56:05.539581Z"
    },
    "papermill": {
     "duration": 0.011108,
     "end_time": "2025-01-21T02:56:05.541619",
     "exception": false,
     "start_time": "2025-01-21T02:56:05.530511",
     "status": "completed"
    },
    "tags": []
   },
   "outputs": [
    {
     "data": {
      "text/plain": [
       "'cuda'"
      ]
     },
     "execution_count": 2,
     "metadata": {},
     "output_type": "execute_result"
    }
   ],
   "source": [
    "# Set device\n",
    "device = \"cuda\" if torch.cuda.is_available() else \"cpu\"\n",
    "device"
   ]
  },
  {
   "cell_type": "markdown",
   "id": "350701ec-c5f9-4809-884c-69a5dcf97ceb",
   "metadata": {
    "papermill": {
     "duration": 0.002008,
     "end_time": "2025-01-21T02:56:05.545618",
     "exception": false,
     "start_time": "2025-01-21T02:56:05.543610",
     "status": "completed"
    },
    "tags": []
   },
   "source": [
    "# 2. Creating Dataloaders"
   ]
  },
  {
   "cell_type": "code",
   "execution_count": 3,
   "id": "d3d7dc2d",
   "metadata": {
    "execution": {
     "iopub.execute_input": "2025-01-21T02:56:05.551587Z",
     "iopub.status.busy": "2025-01-21T02:56:05.551587Z",
     "iopub.status.idle": "2025-01-21T02:56:05.556883Z",
     "shell.execute_reply": "2025-01-21T02:56:05.556883Z"
    },
    "papermill": {
     "duration": 0.010307,
     "end_time": "2025-01-21T02:56:05.558893",
     "exception": false,
     "start_time": "2025-01-21T02:56:05.548586",
     "status": "completed"
    },
    "tags": []
   },
   "outputs": [],
   "source": [
    "# Create transforms\n",
    "IMG_SIZE_1 = 384\n",
    "IMG_SIZE_2 = 384\n",
    "manual_transforms_train = v2.Compose([    \n",
    "    v2.TrivialAugmentWide(),\n",
    "    v2.Resize((IMG_SIZE_1, IMG_SIZE_1)),\n",
    "    v2.RandomCrop((IMG_SIZE_2, IMG_SIZE_2)),    \n",
    "    v2.ToImage(),\n",
    "    v2.ToDtype(torch.float32, scale=True),\n",
    "    v2.Normalize(mean=[0.485, 0.456, 0.406],\n",
    "                std=[0.229, 0.224, 0.225]) \n",
    "    ])\n",
    "\n",
    "manual_transforms_test = v2.Compose([    \n",
    "    v2.Resize((IMG_SIZE_1, IMG_SIZE_1)),\n",
    "    v2.CenterCrop((IMG_SIZE_2, IMG_SIZE_2)),    \n",
    "    v2.ToImage(),\n",
    "    v2.ToDtype(torch.float32, scale=True),\n",
    "    v2.Normalize(mean=[0.485, 0.456, 0.406],\n",
    "                std=[0.229, 0.224, 0.225]) \n",
    "    ])"
   ]
  },
  {
   "cell_type": "code",
   "execution_count": 4,
   "id": "2d6ef570",
   "metadata": {
    "execution": {
     "iopub.execute_input": "2025-01-21T02:56:05.564937Z",
     "iopub.status.busy": "2025-01-21T02:56:05.563920Z",
     "iopub.status.idle": "2025-01-21T02:56:06.172425Z",
     "shell.execute_reply": "2025-01-21T02:56:06.172425Z"
    },
    "papermill": {
     "duration": 0.613569,
     "end_time": "2025-01-21T02:56:06.174461",
     "exception": false,
     "start_time": "2025-01-21T02:56:05.560892",
     "status": "completed"
    },
    "tags": []
   },
   "outputs": [],
   "source": [
    "# Create dataloaders\n",
    "train_dataloader, test_dataloader, class_names = create_dataloaders(    \n",
    "    train_dir=train_dir,\n",
    "    test_dir=test_dir,\n",
    "    train_transform=manual_transforms_train,\n",
    "    test_transform=manual_transforms_test,\n",
    "    batch_size=BATCH_SIZE,\n",
    "    num_workers=NUM_WORKERS\n",
    ")"
   ]
  },
  {
   "cell_type": "markdown",
   "id": "bdf31b74",
   "metadata": {
    "papermill": {
     "duration": 0.003009,
     "end_time": "2025-01-21T02:56:06.179479",
     "exception": false,
     "start_time": "2025-01-21T02:56:06.176470",
     "status": "completed"
    },
    "tags": []
   },
   "source": [
    "# 3. Evaluating ViT-Base/16-384 with 102 Classes\n",
    "\n",
    "The model will be evaluated using the test dataset with the following metrics: accuracy, loss, model size (MB), average prediction time per image (sec), and average predited images per second (frames/sec)"
   ]
  },
  {
   "cell_type": "code",
   "execution_count": 5,
   "id": "6c9eb6c1",
   "metadata": {
    "execution": {
     "iopub.execute_input": "2025-01-21T02:56:06.186431Z",
     "iopub.status.busy": "2025-01-21T02:56:06.185435Z",
     "iopub.status.idle": "2025-01-21T02:56:10.642867Z",
     "shell.execute_reply": "2025-01-21T02:56:10.642867Z"
    },
    "papermill": {
     "duration": 4.462427,
     "end_time": "2025-01-21T02:56:10.644903",
     "exception": false,
     "start_time": "2025-01-21T02:56:06.182476",
     "status": "completed"
    },
    "tags": []
   },
   "outputs": [
    {
     "name": "stderr",
     "output_type": "stream",
     "text": [
      "c:\\Users\\ssre_\\.conda\\envs\\.venv_pytorch_gpu\\Lib\\site-packages\\onnxscript\\converter.py:820: FutureWarning: 'onnxscript.values.Op.param_schemas' is deprecated in version 0.1 and will be removed in the future. Please use '.op_signature' instead.\n",
      "  param_schemas = callee.param_schemas()\n",
      "c:\\Users\\ssre_\\.conda\\envs\\.venv_pytorch_gpu\\Lib\\site-packages\\onnxscript\\converter.py:820: FutureWarning: 'onnxscript.values.OnnxFunction.param_schemas' is deprecated in version 0.1 and will be removed in the future. Please use '.op_signature' instead.\n",
      "  param_schemas = callee.param_schemas()\n"
     ]
    },
    {
     "name": "stdout",
     "output_type": "stream",
     "text": [
      "[INFO] Loading model from: ..\\models\\deitb_101_2025-01-19_acc.pth\n"
     ]
    }
   ],
   "source": [
    "# Train the model\n",
    "model_type=\"deitb_101_2025-01-19\"\n",
    "model_name = model_type + \"_acc.pth\"\n",
    "results_df = model_type + \".csv\"\n",
    "\n",
    "# Copy weights from torchvision.models\n",
    "set_seeds(SEED)\n",
    "\n",
    "# Instantiate the model\n",
    "model = create_model('deit_base_patch16_384', pretrained=True)\n",
    "model.head = nn.Linear(in_features=model.head.in_features, out_features=len(class_names)).to(device)\n",
    "\n",
    "\n",
    "# Compile model\n",
    "model = torch.compile(model, backend=\"aot_eager\")\n",
    "\n",
    "# Load the trained weights\n",
    "model = load_model(model=model,\n",
    "                   model_weights_dir=model_dir,\n",
    "                   model_weights_name=model_name)\n",
    "\n",
    "# Load the training results\n",
    "results = pd.read_csv(os.path.join(model_dir, results_df))"
   ]
  },
  {
   "cell_type": "markdown",
   "id": "ce7e6942",
   "metadata": {
    "papermill": {
     "duration": 0.001998,
     "end_time": "2025-01-21T02:56:10.649903",
     "exception": false,
     "start_time": "2025-01-21T02:56:10.647905",
     "status": "completed"
    },
    "tags": []
   },
   "source": [
    "## 3.1 Making Predictions on the CPU: Intel Core i9-9900K@3.60GHz"
   ]
  },
  {
   "cell_type": "code",
   "execution_count": 6,
   "id": "2fed6aa6",
   "metadata": {
    "execution": {
     "iopub.execute_input": "2025-01-21T02:56:10.656873Z",
     "iopub.status.busy": "2025-01-21T02:56:10.655871Z",
     "iopub.status.idle": "2025-01-21T05:03:17.062280Z",
     "shell.execute_reply": "2025-01-21T05:03:17.062280Z"
    },
    "papermill": {
     "duration": 7626.411412,
     "end_time": "2025-01-21T05:03:17.064287",
     "exception": false,
     "start_time": "2025-01-21T02:56:10.652875",
     "status": "completed"
    },
    "tags": []
   },
   "outputs": [
    {
     "name": "stdout",
     "output_type": "stream",
     "text": [
      "[INFO] Finding all filepaths ending with '.jpg' in directory: ..\\data\\food-101_100_percent\\test\n"
     ]
    },
    {
     "data": {
      "application/vnd.jupyter.widget-view+json": {
       "model_id": "d76ed0a8b5964d46babd0954ae2f6424",
       "version_major": 2,
       "version_minor": 0
      },
      "text/plain": [
       "  0%|          | 0/25250 [00:00<?, ?it/s]"
      ]
     },
     "metadata": {},
     "output_type": "display_data"
    }
   ],
   "source": [
    "# Make predictions on the CPU to compute the average prediction time per image\n",
    "pred_list_cpu, classif_report_cpu = Trainer(\n",
    "    model=model,\n",
    "    device=\"cpu\"\n",
    "    ).predict_and_store(\n",
    "        test_dir=test_dir,\n",
    "        transform=manual_transforms_test,\n",
    "        class_names=class_names\n",
    "        )"
   ]
  },
  {
   "cell_type": "markdown",
   "id": "12aae589",
   "metadata": {
    "papermill": {
     "duration": 0.004004,
     "end_time": "2025-01-21T05:03:17.071288",
     "exception": false,
     "start_time": "2025-01-21T05:03:17.067284",
     "status": "completed"
    },
    "tags": []
   },
   "source": [
    "## 3.2 Making Predictions on the GPU: NVIDIA GeForce RTX 4070"
   ]
  },
  {
   "cell_type": "code",
   "execution_count": 7,
   "id": "23d4abe0",
   "metadata": {
    "execution": {
     "iopub.execute_input": "2025-01-21T05:03:17.083286Z",
     "iopub.status.busy": "2025-01-21T05:03:17.082285Z",
     "iopub.status.idle": "2025-01-21T05:15:23.260775Z",
     "shell.execute_reply": "2025-01-21T05:15:23.260775Z"
    },
    "papermill": {
     "duration": 726.186495,
     "end_time": "2025-01-21T05:15:23.262781",
     "exception": false,
     "start_time": "2025-01-21T05:03:17.076286",
     "status": "completed"
    },
    "tags": []
   },
   "outputs": [
    {
     "name": "stdout",
     "output_type": "stream",
     "text": [
      "[INFO] Finding all filepaths ending with '.jpg' in directory: ..\\data\\food-101_100_percent\\test\n"
     ]
    },
    {
     "data": {
      "application/vnd.jupyter.widget-view+json": {
       "model_id": "d2165251986a4fda8989573284d0fcd5",
       "version_major": 2,
       "version_minor": 0
      },
      "text/plain": [
       "  0%|          | 0/25250 [00:00<?, ?it/s]"
      ]
     },
     "metadata": {},
     "output_type": "display_data"
    }
   ],
   "source": [
    "# Make predictions on the GPU to compute the average prediction time per image\n",
    "from modules.engine import Trainer\n",
    "pred_list_gpu, classif_report_gpu = Trainer(\n",
    "    model=model,\n",
    "    device=device\n",
    "    ).predict_and_store(\n",
    "        test_dir=test_dir,\n",
    "        transform=manual_transforms_test,\n",
    "        class_names=class_names\n",
    "    )"
   ]
  },
  {
   "cell_type": "markdown",
   "id": "388f4d3e",
   "metadata": {
    "papermill": {
     "duration": 0.003001,
     "end_time": "2025-01-21T05:15:23.268779",
     "exception": false,
     "start_time": "2025-01-21T05:15:23.265778",
     "status": "completed"
    },
    "tags": []
   },
   "source": [
    "## 3.3. Collecting Data"
   ]
  },
  {
   "cell_type": "code",
   "execution_count": 8,
   "id": "897486c8",
   "metadata": {
    "execution": {
     "iopub.execute_input": "2025-01-21T05:15:23.277779Z",
     "iopub.status.busy": "2025-01-21T05:15:23.277779Z",
     "iopub.status.idle": "2025-01-21T05:15:23.347002Z",
     "shell.execute_reply": "2025-01-21T05:15:23.347002Z"
    },
    "papermill": {
     "duration": 0.075227,
     "end_time": "2025-01-21T05:15:23.349006",
     "exception": false,
     "start_time": "2025-01-21T05:15:23.273779",
     "status": "completed"
    },
    "tags": []
   },
   "outputs": [
    {
     "data": {
      "text/html": [
       "<div>\n",
       "<style scoped>\n",
       "    .dataframe tbody tr th:only-of-type {\n",
       "        vertical-align: middle;\n",
       "    }\n",
       "\n",
       "    .dataframe tbody tr th {\n",
       "        vertical-align: top;\n",
       "    }\n",
       "\n",
       "    .dataframe thead th {\n",
       "        text-align: right;\n",
       "    }\n",
       "</style>\n",
       "<table border=\"1\" class=\"dataframe\">\n",
       "  <thead>\n",
       "    <tr style=\"text-align: right;\">\n",
       "      <th></th>\n",
       "      <th>Metric</th>\n",
       "      <th>Value</th>\n",
       "    </tr>\n",
       "  </thead>\n",
       "  <tbody>\n",
       "    <tr>\n",
       "      <th>0</th>\n",
       "      <td>Model Name</td>\n",
       "      <td>deitb_101_2025-01-19_acc.pth</td>\n",
       "    </tr>\n",
       "    <tr>\n",
       "      <th>1</th>\n",
       "      <td>Test Acc</td>\n",
       "      <td>0.9199</td>\n",
       "    </tr>\n",
       "    <tr>\n",
       "      <th>2</th>\n",
       "      <td>Test los</td>\n",
       "      <td>1.0533</td>\n",
       "    </tr>\n",
       "    <tr>\n",
       "      <th>3</th>\n",
       "      <td>Model Size [MB]</td>\n",
       "      <td>328</td>\n",
       "    </tr>\n",
       "    <tr>\n",
       "      <th>4</th>\n",
       "      <td>No Params [Million]</td>\n",
       "      <td>86.17</td>\n",
       "    </tr>\n",
       "    <tr>\n",
       "      <th>5</th>\n",
       "      <td>CPU: Prediction Time - Mean [s]</td>\n",
       "      <td>0.3015</td>\n",
       "    </tr>\n",
       "    <tr>\n",
       "      <th>6</th>\n",
       "      <td>CPU: Predicted Images per Sec [fps]</td>\n",
       "      <td>3.3167</td>\n",
       "    </tr>\n",
       "    <tr>\n",
       "      <th>7</th>\n",
       "      <td>GPU: Prediction Time - Mean [s]</td>\n",
       "      <td>0.0286</td>\n",
       "    </tr>\n",
       "    <tr>\n",
       "      <th>8</th>\n",
       "      <td>GPU: Predicted Images per Sec [fps]</td>\n",
       "      <td>34.965</td>\n",
       "    </tr>\n",
       "    <tr>\n",
       "      <th>9</th>\n",
       "      <td>GPU: Training time</td>\n",
       "      <td>16m27s</td>\n",
       "    </tr>\n",
       "  </tbody>\n",
       "</table>\n",
       "</div>"
      ],
      "text/plain": [
       "                                Metric                         Value\n",
       "0                           Model Name  deitb_101_2025-01-19_acc.pth\n",
       "1                             Test Acc                        0.9199\n",
       "2                             Test los                        1.0533\n",
       "3                      Model Size [MB]                           328\n",
       "4                  No Params [Million]                         86.17\n",
       "5      CPU: Prediction Time - Mean [s]                        0.3015\n",
       "6  CPU: Predicted Images per Sec [fps]                        3.3167\n",
       "7      GPU: Prediction Time - Mean [s]                        0.0286\n",
       "8  GPU: Predicted Images per Sec [fps]                        34.965\n",
       "9                   GPU: Training time                        16m27s"
      ]
     },
     "execution_count": 8,
     "metadata": {},
     "output_type": "execute_result"
    }
   ],
   "source": [
    "# Create a dictionary with the results for this model, in terms \n",
    "dict = {}\n",
    "dict['Model Name'] = model_name\n",
    "dict['Test Acc'] = round(results['test_acc'].iloc[-1], 4)\n",
    "dict['Test los'] = round(results['test_loss'].iloc[-1], 4)\n",
    "dict['Model Size [MB]'] = round(Path(os.path.join(model_dir, model_name)).stat().st_size // (1024*1024), 2)\n",
    "dict['No Params [Million]'] = round(sum(p.numel() for p in model.parameters()) / 1000000, 2)\n",
    "dict['CPU: Prediction Time - Mean [s]'] = round(pd.DataFrame(pred_list_cpu)['time_for_pred'].mean(), 4)\n",
    "dict['CPU: Predicted Images per Sec [fps]'] = round(1.0 / dict['CPU: Prediction Time - Mean [s]'], 4)\n",
    "dict['GPU: Prediction Time - Mean [s]'] = round(pd.DataFrame(pred_list_gpu)['time_for_pred'].mean(), 4)\n",
    "dict['GPU: Predicted Images per Sec [fps]'] = round(1.0 / dict['GPU: Prediction Time - Mean [s]'], 4)\n",
    "dict['GPU: Training time'] = sec_to_min_sec(results[\"train_time [s]\"].mean() + results[\"test_time [s]\"].mean())\n",
    "\n",
    "# Convert to dataframe\n",
    "df = pd.DataFrame.from_dict(dict, orient=\"index\").reset_index()\n",
    "df.columns = ['Metric', 'Value']\n",
    "df"
   ]
  }
 ],
 "metadata": {
  "kernelspec": {
   "display_name": ".venv_pytorch_gpu",
   "language": "python",
   "name": "python3"
  },
  "language_info": {
   "codemirror_mode": {
    "name": "ipython",
    "version": 3
   },
   "file_extension": ".py",
   "mimetype": "text/x-python",
   "name": "python",
   "nbconvert_exporter": "python",
   "pygments_lexer": "ipython3",
   "version": "3.11.10"
  },
  "papermill": {
   "default_parameters": {},
   "duration": 8368.160633,
   "end_time": "2025-01-21T05:15:24.933250",
   "environment_variables": {},
   "exception": null,
   "input_path": "Comp_DeiT_Evaluation.ipynb",
   "output_path": "Comp_DeiT_Evaluation.ipynb",
   "parameters": {},
   "start_time": "2025-01-21T02:55:56.772617",
   "version": "2.6.0"
  },
  "widgets": {
   "application/vnd.jupyter.widget-state+json": {
    "state": {
     "0e81e59cf82a45bcb6e3335e6f56d2ba": {
      "model_module": "@jupyter-widgets/controls",
      "model_module_version": "2.0.0",
      "model_name": "HTMLStyleModel",
      "state": {
       "_model_module": "@jupyter-widgets/controls",
       "_model_module_version": "2.0.0",
       "_model_name": "HTMLStyleModel",
       "_view_count": null,
       "_view_module": "@jupyter-widgets/base",
       "_view_module_version": "2.0.0",
       "_view_name": "StyleView",
       "background": null,
       "description_width": "",
       "font_size": null,
       "text_color": null
      }
     },
     "306166815e7a457f8296c2688eb8fc03": {
      "model_module": "@jupyter-widgets/controls",
      "model_module_version": "2.0.0",
      "model_name": "ProgressStyleModel",
      "state": {
       "_model_module": "@jupyter-widgets/controls",
       "_model_module_version": "2.0.0",
       "_model_name": "ProgressStyleModel",
       "_view_count": null,
       "_view_module": "@jupyter-widgets/base",
       "_view_module_version": "2.0.0",
       "_view_name": "StyleView",
       "bar_color": null,
       "description_width": ""
      }
     },
     "33e2c3117f8147d183586ee5a078ab6a": {
      "model_module": "@jupyter-widgets/controls",
      "model_module_version": "2.0.0",
      "model_name": "HTMLModel",
      "state": {
       "_dom_classes": [],
       "_model_module": "@jupyter-widgets/controls",
       "_model_module_version": "2.0.0",
       "_model_name": "HTMLModel",
       "_view_count": null,
       "_view_module": "@jupyter-widgets/controls",
       "_view_module_version": "2.0.0",
       "_view_name": "HTMLView",
       "description": "",
       "description_allow_html": false,
       "layout": "IPY_MODEL_66d5329f9fd94ac8b651ccc49bdd24e6",
       "placeholder": "​",
       "style": "IPY_MODEL_e89e3a15fb544194b4b23af0304487d1",
       "tabbable": null,
       "tooltip": null,
       "value": " 25250/25250 [12:05&lt;00:00, 37.21it/s]"
      }
     },
     "3f17d692610d44dfb570a11250503d4a": {
      "model_module": "@jupyter-widgets/controls",
      "model_module_version": "2.0.0",
      "model_name": "HTMLModel",
      "state": {
       "_dom_classes": [],
       "_model_module": "@jupyter-widgets/controls",
       "_model_module_version": "2.0.0",
       "_model_name": "HTMLModel",
       "_view_count": null,
       "_view_module": "@jupyter-widgets/controls",
       "_view_module_version": "2.0.0",
       "_view_name": "HTMLView",
       "description": "",
       "description_allow_html": false,
       "layout": "IPY_MODEL_d46ae7319300480d898400ac237febe0",
       "placeholder": "​",
       "style": "IPY_MODEL_0e81e59cf82a45bcb6e3335e6f56d2ba",
       "tabbable": null,
       "tooltip": null,
       "value": "100%"
      }
     },
     "4386c4c9b08e4799a88e3d0542b7b89d": {
      "model_module": "@jupyter-widgets/base",
      "model_module_version": "2.0.0",
      "model_name": "LayoutModel",
      "state": {
       "_model_module": "@jupyter-widgets/base",
       "_model_module_version": "2.0.0",
       "_model_name": "LayoutModel",
       "_view_count": null,
       "_view_module": "@jupyter-widgets/base",
       "_view_module_version": "2.0.0",
       "_view_name": "LayoutView",
       "align_content": null,
       "align_items": null,
       "align_self": null,
       "border_bottom": null,
       "border_left": null,
       "border_right": null,
       "border_top": null,
       "bottom": null,
       "display": null,
       "flex": null,
       "flex_flow": null,
       "grid_area": null,
       "grid_auto_columns": null,
       "grid_auto_flow": null,
       "grid_auto_rows": null,
       "grid_column": null,
       "grid_gap": null,
       "grid_row": null,
       "grid_template_areas": null,
       "grid_template_columns": null,
       "grid_template_rows": null,
       "height": null,
       "justify_content": null,
       "justify_items": null,
       "left": null,
       "margin": null,
       "max_height": null,
       "max_width": null,
       "min_height": null,
       "min_width": null,
       "object_fit": null,
       "object_position": null,
       "order": null,
       "overflow": null,
       "padding": null,
       "right": null,
       "top": null,
       "visibility": null,
       "width": null
      }
     },
     "46c14c36a35744479cd2b24449533007": {
      "model_module": "@jupyter-widgets/controls",
      "model_module_version": "2.0.0",
      "model_name": "FloatProgressModel",
      "state": {
       "_dom_classes": [],
       "_model_module": "@jupyter-widgets/controls",
       "_model_module_version": "2.0.0",
       "_model_name": "FloatProgressModel",
       "_view_count": null,
       "_view_module": "@jupyter-widgets/controls",
       "_view_module_version": "2.0.0",
       "_view_name": "ProgressView",
       "bar_style": "success",
       "description": "",
       "description_allow_html": false,
       "layout": "IPY_MODEL_4386c4c9b08e4799a88e3d0542b7b89d",
       "max": 25250,
       "min": 0,
       "orientation": "horizontal",
       "style": "IPY_MODEL_306166815e7a457f8296c2688eb8fc03",
       "tabbable": null,
       "tooltip": null,
       "value": 25250
      }
     },
     "55ccbb5caecd43b68ad11c7416a6675a": {
      "model_module": "@jupyter-widgets/controls",
      "model_module_version": "2.0.0",
      "model_name": "HTMLStyleModel",
      "state": {
       "_model_module": "@jupyter-widgets/controls",
       "_model_module_version": "2.0.0",
       "_model_name": "HTMLStyleModel",
       "_view_count": null,
       "_view_module": "@jupyter-widgets/base",
       "_view_module_version": "2.0.0",
       "_view_name": "StyleView",
       "background": null,
       "description_width": "",
       "font_size": null,
       "text_color": null
      }
     },
     "66d5329f9fd94ac8b651ccc49bdd24e6": {
      "model_module": "@jupyter-widgets/base",
      "model_module_version": "2.0.0",
      "model_name": "LayoutModel",
      "state": {
       "_model_module": "@jupyter-widgets/base",
       "_model_module_version": "2.0.0",
       "_model_name": "LayoutModel",
       "_view_count": null,
       "_view_module": "@jupyter-widgets/base",
       "_view_module_version": "2.0.0",
       "_view_name": "LayoutView",
       "align_content": null,
       "align_items": null,
       "align_self": null,
       "border_bottom": null,
       "border_left": null,
       "border_right": null,
       "border_top": null,
       "bottom": null,
       "display": null,
       "flex": null,
       "flex_flow": null,
       "grid_area": null,
       "grid_auto_columns": null,
       "grid_auto_flow": null,
       "grid_auto_rows": null,
       "grid_column": null,
       "grid_gap": null,
       "grid_row": null,
       "grid_template_areas": null,
       "grid_template_columns": null,
       "grid_template_rows": null,
       "height": null,
       "justify_content": null,
       "justify_items": null,
       "left": null,
       "margin": null,
       "max_height": null,
       "max_width": null,
       "min_height": null,
       "min_width": null,
       "object_fit": null,
       "object_position": null,
       "order": null,
       "overflow": null,
       "padding": null,
       "right": null,
       "top": null,
       "visibility": null,
       "width": null
      }
     },
     "7aaac787489248148f899f7900d11cbc": {
      "model_module": "@jupyter-widgets/controls",
      "model_module_version": "2.0.0",
      "model_name": "FloatProgressModel",
      "state": {
       "_dom_classes": [],
       "_model_module": "@jupyter-widgets/controls",
       "_model_module_version": "2.0.0",
       "_model_name": "FloatProgressModel",
       "_view_count": null,
       "_view_module": "@jupyter-widgets/controls",
       "_view_module_version": "2.0.0",
       "_view_name": "ProgressView",
       "bar_style": "success",
       "description": "",
       "description_allow_html": false,
       "layout": "IPY_MODEL_f67d896a4f1640edb1bafdae8af8ac54",
       "max": 25250,
       "min": 0,
       "orientation": "horizontal",
       "style": "IPY_MODEL_e8c0972db5814f32b259025b26f2b17a",
       "tabbable": null,
       "tooltip": null,
       "value": 25250
      }
     },
     "868d89ac32c64b12b67684776e4f50fa": {
      "model_module": "@jupyter-widgets/controls",
      "model_module_version": "2.0.0",
      "model_name": "HTMLModel",
      "state": {
       "_dom_classes": [],
       "_model_module": "@jupyter-widgets/controls",
       "_model_module_version": "2.0.0",
       "_model_name": "HTMLModel",
       "_view_count": null,
       "_view_module": "@jupyter-widgets/controls",
       "_view_module_version": "2.0.0",
       "_view_name": "HTMLView",
       "description": "",
       "description_allow_html": false,
       "layout": "IPY_MODEL_d8b7d95010c74dd7b465cf14b795cd68",
       "placeholder": "​",
       "style": "IPY_MODEL_d0abe11f35664effbad8e5cc22e948d6",
       "tabbable": null,
       "tooltip": null,
       "value": " 25250/25250 [2:07:06&lt;00:00,  3.33it/s]"
      }
     },
     "8a9eb1e30696434187979f724f5512b9": {
      "model_module": "@jupyter-widgets/base",
      "model_module_version": "2.0.0",
      "model_name": "LayoutModel",
      "state": {
       "_model_module": "@jupyter-widgets/base",
       "_model_module_version": "2.0.0",
       "_model_name": "LayoutModel",
       "_view_count": null,
       "_view_module": "@jupyter-widgets/base",
       "_view_module_version": "2.0.0",
       "_view_name": "LayoutView",
       "align_content": null,
       "align_items": null,
       "align_self": null,
       "border_bottom": null,
       "border_left": null,
       "border_right": null,
       "border_top": null,
       "bottom": null,
       "display": null,
       "flex": null,
       "flex_flow": null,
       "grid_area": null,
       "grid_auto_columns": null,
       "grid_auto_flow": null,
       "grid_auto_rows": null,
       "grid_column": null,
       "grid_gap": null,
       "grid_row": null,
       "grid_template_areas": null,
       "grid_template_columns": null,
       "grid_template_rows": null,
       "height": null,
       "justify_content": null,
       "justify_items": null,
       "left": null,
       "margin": null,
       "max_height": null,
       "max_width": null,
       "min_height": null,
       "min_width": null,
       "object_fit": null,
       "object_position": null,
       "order": null,
       "overflow": null,
       "padding": null,
       "right": null,
       "top": null,
       "visibility": null,
       "width": null
      }
     },
     "8d32f4fa8b04411690052cd3c597aba2": {
      "model_module": "@jupyter-widgets/controls",
      "model_module_version": "2.0.0",
      "model_name": "HTMLModel",
      "state": {
       "_dom_classes": [],
       "_model_module": "@jupyter-widgets/controls",
       "_model_module_version": "2.0.0",
       "_model_name": "HTMLModel",
       "_view_count": null,
       "_view_module": "@jupyter-widgets/controls",
       "_view_module_version": "2.0.0",
       "_view_name": "HTMLView",
       "description": "",
       "description_allow_html": false,
       "layout": "IPY_MODEL_b2aeb6672e37437ca2cfd36831e19523",
       "placeholder": "​",
       "style": "IPY_MODEL_55ccbb5caecd43b68ad11c7416a6675a",
       "tabbable": null,
       "tooltip": null,
       "value": "100%"
      }
     },
     "b2aeb6672e37437ca2cfd36831e19523": {
      "model_module": "@jupyter-widgets/base",
      "model_module_version": "2.0.0",
      "model_name": "LayoutModel",
      "state": {
       "_model_module": "@jupyter-widgets/base",
       "_model_module_version": "2.0.0",
       "_model_name": "LayoutModel",
       "_view_count": null,
       "_view_module": "@jupyter-widgets/base",
       "_view_module_version": "2.0.0",
       "_view_name": "LayoutView",
       "align_content": null,
       "align_items": null,
       "align_self": null,
       "border_bottom": null,
       "border_left": null,
       "border_right": null,
       "border_top": null,
       "bottom": null,
       "display": null,
       "flex": null,
       "flex_flow": null,
       "grid_area": null,
       "grid_auto_columns": null,
       "grid_auto_flow": null,
       "grid_auto_rows": null,
       "grid_column": null,
       "grid_gap": null,
       "grid_row": null,
       "grid_template_areas": null,
       "grid_template_columns": null,
       "grid_template_rows": null,
       "height": null,
       "justify_content": null,
       "justify_items": null,
       "left": null,
       "margin": null,
       "max_height": null,
       "max_width": null,
       "min_height": null,
       "min_width": null,
       "object_fit": null,
       "object_position": null,
       "order": null,
       "overflow": null,
       "padding": null,
       "right": null,
       "top": null,
       "visibility": null,
       "width": null
      }
     },
     "b4c2191ff67547a1814f16e5c610d177": {
      "model_module": "@jupyter-widgets/base",
      "model_module_version": "2.0.0",
      "model_name": "LayoutModel",
      "state": {
       "_model_module": "@jupyter-widgets/base",
       "_model_module_version": "2.0.0",
       "_model_name": "LayoutModel",
       "_view_count": null,
       "_view_module": "@jupyter-widgets/base",
       "_view_module_version": "2.0.0",
       "_view_name": "LayoutView",
       "align_content": null,
       "align_items": null,
       "align_self": null,
       "border_bottom": null,
       "border_left": null,
       "border_right": null,
       "border_top": null,
       "bottom": null,
       "display": null,
       "flex": null,
       "flex_flow": null,
       "grid_area": null,
       "grid_auto_columns": null,
       "grid_auto_flow": null,
       "grid_auto_rows": null,
       "grid_column": null,
       "grid_gap": null,
       "grid_row": null,
       "grid_template_areas": null,
       "grid_template_columns": null,
       "grid_template_rows": null,
       "height": null,
       "justify_content": null,
       "justify_items": null,
       "left": null,
       "margin": null,
       "max_height": null,
       "max_width": null,
       "min_height": null,
       "min_width": null,
       "object_fit": null,
       "object_position": null,
       "order": null,
       "overflow": null,
       "padding": null,
       "right": null,
       "top": null,
       "visibility": null,
       "width": null
      }
     },
     "d0abe11f35664effbad8e5cc22e948d6": {
      "model_module": "@jupyter-widgets/controls",
      "model_module_version": "2.0.0",
      "model_name": "HTMLStyleModel",
      "state": {
       "_model_module": "@jupyter-widgets/controls",
       "_model_module_version": "2.0.0",
       "_model_name": "HTMLStyleModel",
       "_view_count": null,
       "_view_module": "@jupyter-widgets/base",
       "_view_module_version": "2.0.0",
       "_view_name": "StyleView",
       "background": null,
       "description_width": "",
       "font_size": null,
       "text_color": null
      }
     },
     "d2165251986a4fda8989573284d0fcd5": {
      "model_module": "@jupyter-widgets/controls",
      "model_module_version": "2.0.0",
      "model_name": "HBoxModel",
      "state": {
       "_dom_classes": [],
       "_model_module": "@jupyter-widgets/controls",
       "_model_module_version": "2.0.0",
       "_model_name": "HBoxModel",
       "_view_count": null,
       "_view_module": "@jupyter-widgets/controls",
       "_view_module_version": "2.0.0",
       "_view_name": "HBoxView",
       "box_style": "",
       "children": [
        "IPY_MODEL_8d32f4fa8b04411690052cd3c597aba2",
        "IPY_MODEL_46c14c36a35744479cd2b24449533007",
        "IPY_MODEL_33e2c3117f8147d183586ee5a078ab6a"
       ],
       "layout": "IPY_MODEL_8a9eb1e30696434187979f724f5512b9",
       "tabbable": null,
       "tooltip": null
      }
     },
     "d46ae7319300480d898400ac237febe0": {
      "model_module": "@jupyter-widgets/base",
      "model_module_version": "2.0.0",
      "model_name": "LayoutModel",
      "state": {
       "_model_module": "@jupyter-widgets/base",
       "_model_module_version": "2.0.0",
       "_model_name": "LayoutModel",
       "_view_count": null,
       "_view_module": "@jupyter-widgets/base",
       "_view_module_version": "2.0.0",
       "_view_name": "LayoutView",
       "align_content": null,
       "align_items": null,
       "align_self": null,
       "border_bottom": null,
       "border_left": null,
       "border_right": null,
       "border_top": null,
       "bottom": null,
       "display": null,
       "flex": null,
       "flex_flow": null,
       "grid_area": null,
       "grid_auto_columns": null,
       "grid_auto_flow": null,
       "grid_auto_rows": null,
       "grid_column": null,
       "grid_gap": null,
       "grid_row": null,
       "grid_template_areas": null,
       "grid_template_columns": null,
       "grid_template_rows": null,
       "height": null,
       "justify_content": null,
       "justify_items": null,
       "left": null,
       "margin": null,
       "max_height": null,
       "max_width": null,
       "min_height": null,
       "min_width": null,
       "object_fit": null,
       "object_position": null,
       "order": null,
       "overflow": null,
       "padding": null,
       "right": null,
       "top": null,
       "visibility": null,
       "width": null
      }
     },
     "d76ed0a8b5964d46babd0954ae2f6424": {
      "model_module": "@jupyter-widgets/controls",
      "model_module_version": "2.0.0",
      "model_name": "HBoxModel",
      "state": {
       "_dom_classes": [],
       "_model_module": "@jupyter-widgets/controls",
       "_model_module_version": "2.0.0",
       "_model_name": "HBoxModel",
       "_view_count": null,
       "_view_module": "@jupyter-widgets/controls",
       "_view_module_version": "2.0.0",
       "_view_name": "HBoxView",
       "box_style": "",
       "children": [
        "IPY_MODEL_3f17d692610d44dfb570a11250503d4a",
        "IPY_MODEL_7aaac787489248148f899f7900d11cbc",
        "IPY_MODEL_868d89ac32c64b12b67684776e4f50fa"
       ],
       "layout": "IPY_MODEL_b4c2191ff67547a1814f16e5c610d177",
       "tabbable": null,
       "tooltip": null
      }
     },
     "d8b7d95010c74dd7b465cf14b795cd68": {
      "model_module": "@jupyter-widgets/base",
      "model_module_version": "2.0.0",
      "model_name": "LayoutModel",
      "state": {
       "_model_module": "@jupyter-widgets/base",
       "_model_module_version": "2.0.0",
       "_model_name": "LayoutModel",
       "_view_count": null,
       "_view_module": "@jupyter-widgets/base",
       "_view_module_version": "2.0.0",
       "_view_name": "LayoutView",
       "align_content": null,
       "align_items": null,
       "align_self": null,
       "border_bottom": null,
       "border_left": null,
       "border_right": null,
       "border_top": null,
       "bottom": null,
       "display": null,
       "flex": null,
       "flex_flow": null,
       "grid_area": null,
       "grid_auto_columns": null,
       "grid_auto_flow": null,
       "grid_auto_rows": null,
       "grid_column": null,
       "grid_gap": null,
       "grid_row": null,
       "grid_template_areas": null,
       "grid_template_columns": null,
       "grid_template_rows": null,
       "height": null,
       "justify_content": null,
       "justify_items": null,
       "left": null,
       "margin": null,
       "max_height": null,
       "max_width": null,
       "min_height": null,
       "min_width": null,
       "object_fit": null,
       "object_position": null,
       "order": null,
       "overflow": null,
       "padding": null,
       "right": null,
       "top": null,
       "visibility": null,
       "width": null
      }
     },
     "e89e3a15fb544194b4b23af0304487d1": {
      "model_module": "@jupyter-widgets/controls",
      "model_module_version": "2.0.0",
      "model_name": "HTMLStyleModel",
      "state": {
       "_model_module": "@jupyter-widgets/controls",
       "_model_module_version": "2.0.0",
       "_model_name": "HTMLStyleModel",
       "_view_count": null,
       "_view_module": "@jupyter-widgets/base",
       "_view_module_version": "2.0.0",
       "_view_name": "StyleView",
       "background": null,
       "description_width": "",
       "font_size": null,
       "text_color": null
      }
     },
     "e8c0972db5814f32b259025b26f2b17a": {
      "model_module": "@jupyter-widgets/controls",
      "model_module_version": "2.0.0",
      "model_name": "ProgressStyleModel",
      "state": {
       "_model_module": "@jupyter-widgets/controls",
       "_model_module_version": "2.0.0",
       "_model_name": "ProgressStyleModel",
       "_view_count": null,
       "_view_module": "@jupyter-widgets/base",
       "_view_module_version": "2.0.0",
       "_view_name": "StyleView",
       "bar_color": null,
       "description_width": ""
      }
     },
     "f67d896a4f1640edb1bafdae8af8ac54": {
      "model_module": "@jupyter-widgets/base",
      "model_module_version": "2.0.0",
      "model_name": "LayoutModel",
      "state": {
       "_model_module": "@jupyter-widgets/base",
       "_model_module_version": "2.0.0",
       "_model_name": "LayoutModel",
       "_view_count": null,
       "_view_module": "@jupyter-widgets/base",
       "_view_module_version": "2.0.0",
       "_view_name": "LayoutView",
       "align_content": null,
       "align_items": null,
       "align_self": null,
       "border_bottom": null,
       "border_left": null,
       "border_right": null,
       "border_top": null,
       "bottom": null,
       "display": null,
       "flex": null,
       "flex_flow": null,
       "grid_area": null,
       "grid_auto_columns": null,
       "grid_auto_flow": null,
       "grid_auto_rows": null,
       "grid_column": null,
       "grid_gap": null,
       "grid_row": null,
       "grid_template_areas": null,
       "grid_template_columns": null,
       "grid_template_rows": null,
       "height": null,
       "justify_content": null,
       "justify_items": null,
       "left": null,
       "margin": null,
       "max_height": null,
       "max_width": null,
       "min_height": null,
       "min_width": null,
       "object_fit": null,
       "object_position": null,
       "order": null,
       "overflow": null,
       "padding": null,
       "right": null,
       "top": null,
       "visibility": null,
       "width": null
      }
     }
    },
    "version_major": 2,
    "version_minor": 0
   }
  }
 },
 "nbformat": 4,
 "nbformat_minor": 5
}
